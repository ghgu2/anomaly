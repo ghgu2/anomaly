{
  "nbformat": 4,
  "nbformat_minor": 0,
  "metadata": {
    "colab": {
      "provenance": [],
      "collapsed_sections": [
        "bbeXeClD05KX",
        "00IOcxuJ0w4Q",
        "0Gqqpr7r0r1V",
        "ULaHntiP32a_",
        "NiQ7fHsu39Yf",
        "jfmSk9Zv4AMA",
        "UeFaKoFb4E4g",
        "riLu0ALdEMXQ",
        "xWXlgsSTG9rm",
        "HhGDUHPxLyje",
        "PptoPYxm_OlU",
        "RkFI8ZohBr3U",
        "ubmSrbtZ9upb",
        "tsDltk5U6O3e",
        "8jpJjtqs7vwO",
        "x77U8vU774QS",
        "omA3_2mh8L46",
        "DTNQShAv8RUL",
        "ktzC2hUY8U8k",
        "rewK6FB-BKa3",
        "d1tJNlIcBxTd"
      ]
    },
    "kernelspec": {
      "name": "python3",
      "display_name": "Python 3"
    },
    "language_info": {
      "name": "python"
    },
    "widgets": {
      "application/vnd.jupyter.widget-state+json": {
        "8aed81116a454eee8a4baf74a9fedaae": {
          "model_module": "@jupyter-widgets/controls",
          "model_name": "HBoxModel",
          "model_module_version": "1.5.0",
          "state": {
            "_dom_classes": [],
            "_model_module": "@jupyter-widgets/controls",
            "_model_module_version": "1.5.0",
            "_model_name": "HBoxModel",
            "_view_count": null,
            "_view_module": "@jupyter-widgets/controls",
            "_view_module_version": "1.5.0",
            "_view_name": "HBoxView",
            "box_style": "",
            "children": [
              "IPY_MODEL_3fdd11bd5a4a44b7a4d9a604b34f8d90",
              "IPY_MODEL_232f782da95f4be68bfadfdbb354b1dd",
              "IPY_MODEL_1fdd0f0f88184357a7fd6b335babcfcd"
            ],
            "layout": "IPY_MODEL_7756b0963e25449e8bddcc752eff8d0e"
          }
        },
        "3fdd11bd5a4a44b7a4d9a604b34f8d90": {
          "model_module": "@jupyter-widgets/controls",
          "model_name": "HTMLModel",
          "model_module_version": "1.5.0",
          "state": {
            "_dom_classes": [],
            "_model_module": "@jupyter-widgets/controls",
            "_model_module_version": "1.5.0",
            "_model_name": "HTMLModel",
            "_view_count": null,
            "_view_module": "@jupyter-widgets/controls",
            "_view_module_version": "1.5.0",
            "_view_name": "HTMLView",
            "description": "",
            "description_tooltip": null,
            "layout": "IPY_MODEL_b7107c548e76493ba78ba3d5cd05edf7",
            "placeholder": "​",
            "style": "IPY_MODEL_5efcad0cfc8a4a43b010e098d08da977",
            "value": " 60%"
          }
        },
        "232f782da95f4be68bfadfdbb354b1dd": {
          "model_module": "@jupyter-widgets/controls",
          "model_name": "FloatProgressModel",
          "model_module_version": "1.5.0",
          "state": {
            "_dom_classes": [],
            "_model_module": "@jupyter-widgets/controls",
            "_model_module_version": "1.5.0",
            "_model_name": "FloatProgressModel",
            "_view_count": null,
            "_view_module": "@jupyter-widgets/controls",
            "_view_module_version": "1.5.0",
            "_view_name": "ProgressView",
            "bar_style": "",
            "description": "",
            "description_tooltip": null,
            "layout": "IPY_MODEL_0a1bdd80e61e422596c87a37b3ae9258",
            "max": 10,
            "min": 0,
            "orientation": "horizontal",
            "style": "IPY_MODEL_3a8109f9a6cc417bad58bf3b2bbd4177",
            "value": 6
          }
        },
        "1fdd0f0f88184357a7fd6b335babcfcd": {
          "model_module": "@jupyter-widgets/controls",
          "model_name": "HTMLModel",
          "model_module_version": "1.5.0",
          "state": {
            "_dom_classes": [],
            "_model_module": "@jupyter-widgets/controls",
            "_model_module_version": "1.5.0",
            "_model_name": "HTMLModel",
            "_view_count": null,
            "_view_module": "@jupyter-widgets/controls",
            "_view_module_version": "1.5.0",
            "_view_name": "HTMLView",
            "description": "",
            "description_tooltip": null,
            "layout": "IPY_MODEL_3649124dcc9a4d7594ca75b5b8138f34",
            "placeholder": "​",
            "style": "IPY_MODEL_e0b9299460e3428d813900601466a26d",
            "value": " 6/10 [1:06:37&lt;44:25, 666.29s/epoch, loss=0.552]"
          }
        },
        "7756b0963e25449e8bddcc752eff8d0e": {
          "model_module": "@jupyter-widgets/base",
          "model_name": "LayoutModel",
          "model_module_version": "1.2.0",
          "state": {
            "_model_module": "@jupyter-widgets/base",
            "_model_module_version": "1.2.0",
            "_model_name": "LayoutModel",
            "_view_count": null,
            "_view_module": "@jupyter-widgets/base",
            "_view_module_version": "1.2.0",
            "_view_name": "LayoutView",
            "align_content": null,
            "align_items": null,
            "align_self": null,
            "border": null,
            "bottom": null,
            "display": null,
            "flex": null,
            "flex_flow": null,
            "grid_area": null,
            "grid_auto_columns": null,
            "grid_auto_flow": null,
            "grid_auto_rows": null,
            "grid_column": null,
            "grid_gap": null,
            "grid_row": null,
            "grid_template_areas": null,
            "grid_template_columns": null,
            "grid_template_rows": null,
            "height": null,
            "justify_content": null,
            "justify_items": null,
            "left": null,
            "margin": null,
            "max_height": null,
            "max_width": null,
            "min_height": null,
            "min_width": null,
            "object_fit": null,
            "object_position": null,
            "order": null,
            "overflow": null,
            "overflow_x": null,
            "overflow_y": null,
            "padding": null,
            "right": null,
            "top": null,
            "visibility": null,
            "width": null
          }
        },
        "b7107c548e76493ba78ba3d5cd05edf7": {
          "model_module": "@jupyter-widgets/base",
          "model_name": "LayoutModel",
          "model_module_version": "1.2.0",
          "state": {
            "_model_module": "@jupyter-widgets/base",
            "_model_module_version": "1.2.0",
            "_model_name": "LayoutModel",
            "_view_count": null,
            "_view_module": "@jupyter-widgets/base",
            "_view_module_version": "1.2.0",
            "_view_name": "LayoutView",
            "align_content": null,
            "align_items": null,
            "align_self": null,
            "border": null,
            "bottom": null,
            "display": null,
            "flex": null,
            "flex_flow": null,
            "grid_area": null,
            "grid_auto_columns": null,
            "grid_auto_flow": null,
            "grid_auto_rows": null,
            "grid_column": null,
            "grid_gap": null,
            "grid_row": null,
            "grid_template_areas": null,
            "grid_template_columns": null,
            "grid_template_rows": null,
            "height": null,
            "justify_content": null,
            "justify_items": null,
            "left": null,
            "margin": null,
            "max_height": null,
            "max_width": null,
            "min_height": null,
            "min_width": null,
            "object_fit": null,
            "object_position": null,
            "order": null,
            "overflow": null,
            "overflow_x": null,
            "overflow_y": null,
            "padding": null,
            "right": null,
            "top": null,
            "visibility": null,
            "width": null
          }
        },
        "5efcad0cfc8a4a43b010e098d08da977": {
          "model_module": "@jupyter-widgets/controls",
          "model_name": "DescriptionStyleModel",
          "model_module_version": "1.5.0",
          "state": {
            "_model_module": "@jupyter-widgets/controls",
            "_model_module_version": "1.5.0",
            "_model_name": "DescriptionStyleModel",
            "_view_count": null,
            "_view_module": "@jupyter-widgets/base",
            "_view_module_version": "1.2.0",
            "_view_name": "StyleView",
            "description_width": ""
          }
        },
        "0a1bdd80e61e422596c87a37b3ae9258": {
          "model_module": "@jupyter-widgets/base",
          "model_name": "LayoutModel",
          "model_module_version": "1.2.0",
          "state": {
            "_model_module": "@jupyter-widgets/base",
            "_model_module_version": "1.2.0",
            "_model_name": "LayoutModel",
            "_view_count": null,
            "_view_module": "@jupyter-widgets/base",
            "_view_module_version": "1.2.0",
            "_view_name": "LayoutView",
            "align_content": null,
            "align_items": null,
            "align_self": null,
            "border": null,
            "bottom": null,
            "display": null,
            "flex": null,
            "flex_flow": null,
            "grid_area": null,
            "grid_auto_columns": null,
            "grid_auto_flow": null,
            "grid_auto_rows": null,
            "grid_column": null,
            "grid_gap": null,
            "grid_row": null,
            "grid_template_areas": null,
            "grid_template_columns": null,
            "grid_template_rows": null,
            "height": null,
            "justify_content": null,
            "justify_items": null,
            "left": null,
            "margin": null,
            "max_height": null,
            "max_width": null,
            "min_height": null,
            "min_width": null,
            "object_fit": null,
            "object_position": null,
            "order": null,
            "overflow": null,
            "overflow_x": null,
            "overflow_y": null,
            "padding": null,
            "right": null,
            "top": null,
            "visibility": null,
            "width": null
          }
        },
        "3a8109f9a6cc417bad58bf3b2bbd4177": {
          "model_module": "@jupyter-widgets/controls",
          "model_name": "ProgressStyleModel",
          "model_module_version": "1.5.0",
          "state": {
            "_model_module": "@jupyter-widgets/controls",
            "_model_module_version": "1.5.0",
            "_model_name": "ProgressStyleModel",
            "_view_count": null,
            "_view_module": "@jupyter-widgets/base",
            "_view_module_version": "1.2.0",
            "_view_name": "StyleView",
            "bar_color": null,
            "description_width": ""
          }
        },
        "3649124dcc9a4d7594ca75b5b8138f34": {
          "model_module": "@jupyter-widgets/base",
          "model_name": "LayoutModel",
          "model_module_version": "1.2.0",
          "state": {
            "_model_module": "@jupyter-widgets/base",
            "_model_module_version": "1.2.0",
            "_model_name": "LayoutModel",
            "_view_count": null,
            "_view_module": "@jupyter-widgets/base",
            "_view_module_version": "1.2.0",
            "_view_name": "LayoutView",
            "align_content": null,
            "align_items": null,
            "align_self": null,
            "border": null,
            "bottom": null,
            "display": null,
            "flex": null,
            "flex_flow": null,
            "grid_area": null,
            "grid_auto_columns": null,
            "grid_auto_flow": null,
            "grid_auto_rows": null,
            "grid_column": null,
            "grid_gap": null,
            "grid_row": null,
            "grid_template_areas": null,
            "grid_template_columns": null,
            "grid_template_rows": null,
            "height": null,
            "justify_content": null,
            "justify_items": null,
            "left": null,
            "margin": null,
            "max_height": null,
            "max_width": null,
            "min_height": null,
            "min_width": null,
            "object_fit": null,
            "object_position": null,
            "order": null,
            "overflow": null,
            "overflow_x": null,
            "overflow_y": null,
            "padding": null,
            "right": null,
            "top": null,
            "visibility": null,
            "width": null
          }
        },
        "e0b9299460e3428d813900601466a26d": {
          "model_module": "@jupyter-widgets/controls",
          "model_name": "DescriptionStyleModel",
          "model_module_version": "1.5.0",
          "state": {
            "_model_module": "@jupyter-widgets/controls",
            "_model_module_version": "1.5.0",
            "_model_name": "DescriptionStyleModel",
            "_view_count": null,
            "_view_module": "@jupyter-widgets/base",
            "_view_module_version": "1.2.0",
            "_view_name": "StyleView",
            "description_width": ""
          }
        },
        "1c6ed926cb8244b69649d16f39400025": {
          "model_module": "@jupyter-widgets/controls",
          "model_name": "HBoxModel",
          "model_module_version": "1.5.0",
          "state": {
            "_dom_classes": [],
            "_model_module": "@jupyter-widgets/controls",
            "_model_module_version": "1.5.0",
            "_model_name": "HBoxModel",
            "_view_count": null,
            "_view_module": "@jupyter-widgets/controls",
            "_view_module_version": "1.5.0",
            "_view_name": "HBoxView",
            "box_style": "",
            "children": [
              "IPY_MODEL_31857f1a6104414a9a688d6381fdfab9",
              "IPY_MODEL_30928a036bb24d9ca8bd6ffdd49a925f",
              "IPY_MODEL_9d4959f3201a4635af3406fe099912d2"
            ],
            "layout": "IPY_MODEL_56b73bce9dfc40b282e20ec7d48949f7"
          }
        },
        "31857f1a6104414a9a688d6381fdfab9": {
          "model_module": "@jupyter-widgets/controls",
          "model_name": "HTMLModel",
          "model_module_version": "1.5.0",
          "state": {
            "_dom_classes": [],
            "_model_module": "@jupyter-widgets/controls",
            "_model_module_version": "1.5.0",
            "_model_name": "HTMLModel",
            "_view_count": null,
            "_view_module": "@jupyter-widgets/controls",
            "_view_module_version": "1.5.0",
            "_view_name": "HTMLView",
            "description": "",
            "description_tooltip": null,
            "layout": "IPY_MODEL_8dd409411aad4f62ba5124402984e98a",
            "placeholder": "​",
            "style": "IPY_MODEL_47d43093525a49458c76f64c4e962a9c",
            "value": " 42%"
          }
        },
        "30928a036bb24d9ca8bd6ffdd49a925f": {
          "model_module": "@jupyter-widgets/controls",
          "model_name": "FloatProgressModel",
          "model_module_version": "1.5.0",
          "state": {
            "_dom_classes": [],
            "_model_module": "@jupyter-widgets/controls",
            "_model_module_version": "1.5.0",
            "_model_name": "FloatProgressModel",
            "_view_count": null,
            "_view_module": "@jupyter-widgets/controls",
            "_view_module_version": "1.5.0",
            "_view_name": "ProgressView",
            "bar_style": "",
            "description": "",
            "description_tooltip": null,
            "layout": "IPY_MODEL_e52ae9712d2848998cd31489f2e92400",
            "max": 286934,
            "min": 0,
            "orientation": "horizontal",
            "style": "IPY_MODEL_4def5b6b41d64d5e9a9661797c501384",
            "value": 121242
          }
        },
        "9d4959f3201a4635af3406fe099912d2": {
          "model_module": "@jupyter-widgets/controls",
          "model_name": "HTMLModel",
          "model_module_version": "1.5.0",
          "state": {
            "_dom_classes": [],
            "_model_module": "@jupyter-widgets/controls",
            "_model_module_version": "1.5.0",
            "_model_name": "HTMLModel",
            "_view_count": null,
            "_view_module": "@jupyter-widgets/controls",
            "_view_module_version": "1.5.0",
            "_view_name": "HTMLView",
            "description": "",
            "description_tooltip": null,
            "layout": "IPY_MODEL_d029a2d3dab04d9b88d82198ba7afb02",
            "placeholder": "​",
            "style": "IPY_MODEL_966096e74aa248628b0b544958078627",
            "value": " 121k/287k [04:53&lt;07:42, 359batch/s, loss=0.155]"
          }
        },
        "56b73bce9dfc40b282e20ec7d48949f7": {
          "model_module": "@jupyter-widgets/base",
          "model_name": "LayoutModel",
          "model_module_version": "1.2.0",
          "state": {
            "_model_module": "@jupyter-widgets/base",
            "_model_module_version": "1.2.0",
            "_model_name": "LayoutModel",
            "_view_count": null,
            "_view_module": "@jupyter-widgets/base",
            "_view_module_version": "1.2.0",
            "_view_name": "LayoutView",
            "align_content": null,
            "align_items": null,
            "align_self": null,
            "border": null,
            "bottom": null,
            "display": null,
            "flex": null,
            "flex_flow": null,
            "grid_area": null,
            "grid_auto_columns": null,
            "grid_auto_flow": null,
            "grid_auto_rows": null,
            "grid_column": null,
            "grid_gap": null,
            "grid_row": null,
            "grid_template_areas": null,
            "grid_template_columns": null,
            "grid_template_rows": null,
            "height": null,
            "justify_content": null,
            "justify_items": null,
            "left": null,
            "margin": null,
            "max_height": null,
            "max_width": null,
            "min_height": null,
            "min_width": null,
            "object_fit": null,
            "object_position": null,
            "order": null,
            "overflow": null,
            "overflow_x": null,
            "overflow_y": null,
            "padding": null,
            "right": null,
            "top": null,
            "visibility": null,
            "width": null
          }
        },
        "8dd409411aad4f62ba5124402984e98a": {
          "model_module": "@jupyter-widgets/base",
          "model_name": "LayoutModel",
          "model_module_version": "1.2.0",
          "state": {
            "_model_module": "@jupyter-widgets/base",
            "_model_module_version": "1.2.0",
            "_model_name": "LayoutModel",
            "_view_count": null,
            "_view_module": "@jupyter-widgets/base",
            "_view_module_version": "1.2.0",
            "_view_name": "LayoutView",
            "align_content": null,
            "align_items": null,
            "align_self": null,
            "border": null,
            "bottom": null,
            "display": null,
            "flex": null,
            "flex_flow": null,
            "grid_area": null,
            "grid_auto_columns": null,
            "grid_auto_flow": null,
            "grid_auto_rows": null,
            "grid_column": null,
            "grid_gap": null,
            "grid_row": null,
            "grid_template_areas": null,
            "grid_template_columns": null,
            "grid_template_rows": null,
            "height": null,
            "justify_content": null,
            "justify_items": null,
            "left": null,
            "margin": null,
            "max_height": null,
            "max_width": null,
            "min_height": null,
            "min_width": null,
            "object_fit": null,
            "object_position": null,
            "order": null,
            "overflow": null,
            "overflow_x": null,
            "overflow_y": null,
            "padding": null,
            "right": null,
            "top": null,
            "visibility": null,
            "width": null
          }
        },
        "47d43093525a49458c76f64c4e962a9c": {
          "model_module": "@jupyter-widgets/controls",
          "model_name": "DescriptionStyleModel",
          "model_module_version": "1.5.0",
          "state": {
            "_model_module": "@jupyter-widgets/controls",
            "_model_module_version": "1.5.0",
            "_model_name": "DescriptionStyleModel",
            "_view_count": null,
            "_view_module": "@jupyter-widgets/base",
            "_view_module_version": "1.2.0",
            "_view_name": "StyleView",
            "description_width": ""
          }
        },
        "e52ae9712d2848998cd31489f2e92400": {
          "model_module": "@jupyter-widgets/base",
          "model_name": "LayoutModel",
          "model_module_version": "1.2.0",
          "state": {
            "_model_module": "@jupyter-widgets/base",
            "_model_module_version": "1.2.0",
            "_model_name": "LayoutModel",
            "_view_count": null,
            "_view_module": "@jupyter-widgets/base",
            "_view_module_version": "1.2.0",
            "_view_name": "LayoutView",
            "align_content": null,
            "align_items": null,
            "align_self": null,
            "border": null,
            "bottom": null,
            "display": null,
            "flex": null,
            "flex_flow": null,
            "grid_area": null,
            "grid_auto_columns": null,
            "grid_auto_flow": null,
            "grid_auto_rows": null,
            "grid_column": null,
            "grid_gap": null,
            "grid_row": null,
            "grid_template_areas": null,
            "grid_template_columns": null,
            "grid_template_rows": null,
            "height": null,
            "justify_content": null,
            "justify_items": null,
            "left": null,
            "margin": null,
            "max_height": null,
            "max_width": null,
            "min_height": null,
            "min_width": null,
            "object_fit": null,
            "object_position": null,
            "order": null,
            "overflow": null,
            "overflow_x": null,
            "overflow_y": null,
            "padding": null,
            "right": null,
            "top": null,
            "visibility": null,
            "width": null
          }
        },
        "4def5b6b41d64d5e9a9661797c501384": {
          "model_module": "@jupyter-widgets/controls",
          "model_name": "ProgressStyleModel",
          "model_module_version": "1.5.0",
          "state": {
            "_model_module": "@jupyter-widgets/controls",
            "_model_module_version": "1.5.0",
            "_model_name": "ProgressStyleModel",
            "_view_count": null,
            "_view_module": "@jupyter-widgets/base",
            "_view_module_version": "1.2.0",
            "_view_name": "StyleView",
            "bar_color": null,
            "description_width": ""
          }
        },
        "d029a2d3dab04d9b88d82198ba7afb02": {
          "model_module": "@jupyter-widgets/base",
          "model_name": "LayoutModel",
          "model_module_version": "1.2.0",
          "state": {
            "_model_module": "@jupyter-widgets/base",
            "_model_module_version": "1.2.0",
            "_model_name": "LayoutModel",
            "_view_count": null,
            "_view_module": "@jupyter-widgets/base",
            "_view_module_version": "1.2.0",
            "_view_name": "LayoutView",
            "align_content": null,
            "align_items": null,
            "align_self": null,
            "border": null,
            "bottom": null,
            "display": null,
            "flex": null,
            "flex_flow": null,
            "grid_area": null,
            "grid_auto_columns": null,
            "grid_auto_flow": null,
            "grid_auto_rows": null,
            "grid_column": null,
            "grid_gap": null,
            "grid_row": null,
            "grid_template_areas": null,
            "grid_template_columns": null,
            "grid_template_rows": null,
            "height": null,
            "justify_content": null,
            "justify_items": null,
            "left": null,
            "margin": null,
            "max_height": null,
            "max_width": null,
            "min_height": null,
            "min_width": null,
            "object_fit": null,
            "object_position": null,
            "order": null,
            "overflow": null,
            "overflow_x": null,
            "overflow_y": null,
            "padding": null,
            "right": null,
            "top": null,
            "visibility": null,
            "width": null
          }
        },
        "966096e74aa248628b0b544958078627": {
          "model_module": "@jupyter-widgets/controls",
          "model_name": "DescriptionStyleModel",
          "model_module_version": "1.5.0",
          "state": {
            "_model_module": "@jupyter-widgets/controls",
            "_model_module_version": "1.5.0",
            "_model_name": "DescriptionStyleModel",
            "_view_count": null,
            "_view_module": "@jupyter-widgets/base",
            "_view_module_version": "1.2.0",
            "_view_name": "StyleView",
            "description_width": ""
          }
        },
        "ce84f69ab8b84f99aa0d218d38f133e3": {
          "model_module": "@jupyter-widgets/controls",
          "model_name": "HBoxModel",
          "model_module_version": "1.5.0",
          "state": {
            "_dom_classes": [],
            "_model_module": "@jupyter-widgets/controls",
            "_model_module_version": "1.5.0",
            "_model_name": "HBoxModel",
            "_view_count": null,
            "_view_module": "@jupyter-widgets/controls",
            "_view_module_version": "1.5.0",
            "_view_name": "HBoxView",
            "box_style": "",
            "children": [
              "IPY_MODEL_3d2c7967c01a46cc97073ba93efbe050",
              "IPY_MODEL_ca1c3ab561ce49a49f9a1404ad45ac9c",
              "IPY_MODEL_710fa06595a946b496f32a146fdaa0b4"
            ],
            "layout": "IPY_MODEL_eee284412ece4832b89232b3c9fc2e6a"
          }
        },
        "3d2c7967c01a46cc97073ba93efbe050": {
          "model_module": "@jupyter-widgets/controls",
          "model_name": "HTMLModel",
          "model_module_version": "1.5.0",
          "state": {
            "_dom_classes": [],
            "_model_module": "@jupyter-widgets/controls",
            "_model_module_version": "1.5.0",
            "_model_name": "HTMLModel",
            "_view_count": null,
            "_view_module": "@jupyter-widgets/controls",
            "_view_module_version": "1.5.0",
            "_view_name": "HTMLView",
            "description": "",
            "description_tooltip": null,
            "layout": "IPY_MODEL_124a3df6a57c410e9c8e5bac3a4eeb65",
            "placeholder": "​",
            "style": "IPY_MODEL_9a9edc0475f84bd7a8cb69d945d1df8d",
            "value": ""
          }
        },
        "ca1c3ab561ce49a49f9a1404ad45ac9c": {
          "model_module": "@jupyter-widgets/controls",
          "model_name": "FloatProgressModel",
          "model_module_version": "1.5.0",
          "state": {
            "_dom_classes": [],
            "_model_module": "@jupyter-widgets/controls",
            "_model_module_version": "1.5.0",
            "_model_name": "FloatProgressModel",
            "_view_count": null,
            "_view_module": "@jupyter-widgets/controls",
            "_view_module_version": "1.5.0",
            "_view_name": "ProgressView",
            "bar_style": "info",
            "description": "",
            "description_tooltip": null,
            "layout": "IPY_MODEL_3ef037e0c5524048ae10fd47cac6ddc4",
            "max": 1,
            "min": 0,
            "orientation": "horizontal",
            "style": "IPY_MODEL_d61bed9a1f174909a68990c081fe2294",
            "value": 0
          }
        },
        "710fa06595a946b496f32a146fdaa0b4": {
          "model_module": "@jupyter-widgets/controls",
          "model_name": "HTMLModel",
          "model_module_version": "1.5.0",
          "state": {
            "_dom_classes": [],
            "_model_module": "@jupyter-widgets/controls",
            "_model_module_version": "1.5.0",
            "_model_name": "HTMLModel",
            "_view_count": null,
            "_view_module": "@jupyter-widgets/controls",
            "_view_module_version": "1.5.0",
            "_view_name": "HTMLView",
            "description": "",
            "description_tooltip": null,
            "layout": "IPY_MODEL_052408b69fed4ad49ac334aaa16b29f1",
            "placeholder": "​",
            "style": "IPY_MODEL_29f33b1c07274242afc3acb1bb784de5",
            "value": " 0/? [00:00&lt;?, ?epoch/s]"
          }
        },
        "eee284412ece4832b89232b3c9fc2e6a": {
          "model_module": "@jupyter-widgets/base",
          "model_name": "LayoutModel",
          "model_module_version": "1.2.0",
          "state": {
            "_model_module": "@jupyter-widgets/base",
            "_model_module_version": "1.2.0",
            "_model_name": "LayoutModel",
            "_view_count": null,
            "_view_module": "@jupyter-widgets/base",
            "_view_module_version": "1.2.0",
            "_view_name": "LayoutView",
            "align_content": null,
            "align_items": null,
            "align_self": null,
            "border": null,
            "bottom": null,
            "display": null,
            "flex": null,
            "flex_flow": null,
            "grid_area": null,
            "grid_auto_columns": null,
            "grid_auto_flow": null,
            "grid_auto_rows": null,
            "grid_column": null,
            "grid_gap": null,
            "grid_row": null,
            "grid_template_areas": null,
            "grid_template_columns": null,
            "grid_template_rows": null,
            "height": null,
            "justify_content": null,
            "justify_items": null,
            "left": null,
            "margin": null,
            "max_height": null,
            "max_width": null,
            "min_height": null,
            "min_width": null,
            "object_fit": null,
            "object_position": null,
            "order": null,
            "overflow": null,
            "overflow_x": null,
            "overflow_y": null,
            "padding": null,
            "right": null,
            "top": null,
            "visibility": null,
            "width": null
          }
        },
        "124a3df6a57c410e9c8e5bac3a4eeb65": {
          "model_module": "@jupyter-widgets/base",
          "model_name": "LayoutModel",
          "model_module_version": "1.2.0",
          "state": {
            "_model_module": "@jupyter-widgets/base",
            "_model_module_version": "1.2.0",
            "_model_name": "LayoutModel",
            "_view_count": null,
            "_view_module": "@jupyter-widgets/base",
            "_view_module_version": "1.2.0",
            "_view_name": "LayoutView",
            "align_content": null,
            "align_items": null,
            "align_self": null,
            "border": null,
            "bottom": null,
            "display": null,
            "flex": null,
            "flex_flow": null,
            "grid_area": null,
            "grid_auto_columns": null,
            "grid_auto_flow": null,
            "grid_auto_rows": null,
            "grid_column": null,
            "grid_gap": null,
            "grid_row": null,
            "grid_template_areas": null,
            "grid_template_columns": null,
            "grid_template_rows": null,
            "height": null,
            "justify_content": null,
            "justify_items": null,
            "left": null,
            "margin": null,
            "max_height": null,
            "max_width": null,
            "min_height": null,
            "min_width": null,
            "object_fit": null,
            "object_position": null,
            "order": null,
            "overflow": null,
            "overflow_x": null,
            "overflow_y": null,
            "padding": null,
            "right": null,
            "top": null,
            "visibility": null,
            "width": null
          }
        },
        "9a9edc0475f84bd7a8cb69d945d1df8d": {
          "model_module": "@jupyter-widgets/controls",
          "model_name": "DescriptionStyleModel",
          "model_module_version": "1.5.0",
          "state": {
            "_model_module": "@jupyter-widgets/controls",
            "_model_module_version": "1.5.0",
            "_model_name": "DescriptionStyleModel",
            "_view_count": null,
            "_view_module": "@jupyter-widgets/base",
            "_view_module_version": "1.2.0",
            "_view_name": "StyleView",
            "description_width": ""
          }
        },
        "3ef037e0c5524048ae10fd47cac6ddc4": {
          "model_module": "@jupyter-widgets/base",
          "model_name": "LayoutModel",
          "model_module_version": "1.2.0",
          "state": {
            "_model_module": "@jupyter-widgets/base",
            "_model_module_version": "1.2.0",
            "_model_name": "LayoutModel",
            "_view_count": null,
            "_view_module": "@jupyter-widgets/base",
            "_view_module_version": "1.2.0",
            "_view_name": "LayoutView",
            "align_content": null,
            "align_items": null,
            "align_self": null,
            "border": null,
            "bottom": null,
            "display": null,
            "flex": null,
            "flex_flow": null,
            "grid_area": null,
            "grid_auto_columns": null,
            "grid_auto_flow": null,
            "grid_auto_rows": null,
            "grid_column": null,
            "grid_gap": null,
            "grid_row": null,
            "grid_template_areas": null,
            "grid_template_columns": null,
            "grid_template_rows": null,
            "height": null,
            "justify_content": null,
            "justify_items": null,
            "left": null,
            "margin": null,
            "max_height": null,
            "max_width": null,
            "min_height": null,
            "min_width": null,
            "object_fit": null,
            "object_position": null,
            "order": null,
            "overflow": null,
            "overflow_x": null,
            "overflow_y": null,
            "padding": null,
            "right": null,
            "top": null,
            "visibility": null,
            "width": "20px"
          }
        },
        "d61bed9a1f174909a68990c081fe2294": {
          "model_module": "@jupyter-widgets/controls",
          "model_name": "ProgressStyleModel",
          "model_module_version": "1.5.0",
          "state": {
            "_model_module": "@jupyter-widgets/controls",
            "_model_module_version": "1.5.0",
            "_model_name": "ProgressStyleModel",
            "_view_count": null,
            "_view_module": "@jupyter-widgets/base",
            "_view_module_version": "1.2.0",
            "_view_name": "StyleView",
            "bar_color": null,
            "description_width": ""
          }
        },
        "052408b69fed4ad49ac334aaa16b29f1": {
          "model_module": "@jupyter-widgets/base",
          "model_name": "LayoutModel",
          "model_module_version": "1.2.0",
          "state": {
            "_model_module": "@jupyter-widgets/base",
            "_model_module_version": "1.2.0",
            "_model_name": "LayoutModel",
            "_view_count": null,
            "_view_module": "@jupyter-widgets/base",
            "_view_module_version": "1.2.0",
            "_view_name": "LayoutView",
            "align_content": null,
            "align_items": null,
            "align_self": null,
            "border": null,
            "bottom": null,
            "display": null,
            "flex": null,
            "flex_flow": null,
            "grid_area": null,
            "grid_auto_columns": null,
            "grid_auto_flow": null,
            "grid_auto_rows": null,
            "grid_column": null,
            "grid_gap": null,
            "grid_row": null,
            "grid_template_areas": null,
            "grid_template_columns": null,
            "grid_template_rows": null,
            "height": null,
            "justify_content": null,
            "justify_items": null,
            "left": null,
            "margin": null,
            "max_height": null,
            "max_width": null,
            "min_height": null,
            "min_width": null,
            "object_fit": null,
            "object_position": null,
            "order": null,
            "overflow": null,
            "overflow_x": null,
            "overflow_y": null,
            "padding": null,
            "right": null,
            "top": null,
            "visibility": null,
            "width": null
          }
        },
        "29f33b1c07274242afc3acb1bb784de5": {
          "model_module": "@jupyter-widgets/controls",
          "model_name": "DescriptionStyleModel",
          "model_module_version": "1.5.0",
          "state": {
            "_model_module": "@jupyter-widgets/controls",
            "_model_module_version": "1.5.0",
            "_model_name": "DescriptionStyleModel",
            "_view_count": null,
            "_view_module": "@jupyter-widgets/base",
            "_view_module_version": "1.2.0",
            "_view_name": "StyleView",
            "description_width": ""
          }
        },
        "543b5bac4aba4ae5b3dde0dd6ff15eda": {
          "model_module": "@jupyter-widgets/controls",
          "model_name": "HBoxModel",
          "model_module_version": "1.5.0",
          "state": {
            "_dom_classes": [],
            "_model_module": "@jupyter-widgets/controls",
            "_model_module_version": "1.5.0",
            "_model_name": "HBoxModel",
            "_view_count": null,
            "_view_module": "@jupyter-widgets/controls",
            "_view_module_version": "1.5.0",
            "_view_name": "HBoxView",
            "box_style": "",
            "children": [
              "IPY_MODEL_aac96da87fff40de9a2fe17af2bd7dad",
              "IPY_MODEL_364dad56521a41068be3d7a7d330b99a",
              "IPY_MODEL_c682184cd877451cb7936da27e9d45c1"
            ],
            "layout": "IPY_MODEL_82e12f9008664c45a1b3011e1c90fb8e"
          }
        },
        "aac96da87fff40de9a2fe17af2bd7dad": {
          "model_module": "@jupyter-widgets/controls",
          "model_name": "HTMLModel",
          "model_module_version": "1.5.0",
          "state": {
            "_dom_classes": [],
            "_model_module": "@jupyter-widgets/controls",
            "_model_module_version": "1.5.0",
            "_model_name": "HTMLModel",
            "_view_count": null,
            "_view_module": "@jupyter-widgets/controls",
            "_view_module_version": "1.5.0",
            "_view_name": "HTMLView",
            "description": "",
            "description_tooltip": null,
            "layout": "IPY_MODEL_b5a1e923090c4fc3a01a6e7e29a7a49a",
            "placeholder": "​",
            "style": "IPY_MODEL_d4f3620ff0f845919b3eb025f3e18469",
            "value": ""
          }
        },
        "364dad56521a41068be3d7a7d330b99a": {
          "model_module": "@jupyter-widgets/controls",
          "model_name": "FloatProgressModel",
          "model_module_version": "1.5.0",
          "state": {
            "_dom_classes": [],
            "_model_module": "@jupyter-widgets/controls",
            "_model_module_version": "1.5.0",
            "_model_name": "FloatProgressModel",
            "_view_count": null,
            "_view_module": "@jupyter-widgets/controls",
            "_view_module_version": "1.5.0",
            "_view_name": "ProgressView",
            "bar_style": "info",
            "description": "",
            "description_tooltip": null,
            "layout": "IPY_MODEL_20573526801a44508cb76c0b03337a4b",
            "max": 1,
            "min": 0,
            "orientation": "horizontal",
            "style": "IPY_MODEL_ff73aada1ddd40f881cddd6d6d755803",
            "value": 0
          }
        },
        "c682184cd877451cb7936da27e9d45c1": {
          "model_module": "@jupyter-widgets/controls",
          "model_name": "HTMLModel",
          "model_module_version": "1.5.0",
          "state": {
            "_dom_classes": [],
            "_model_module": "@jupyter-widgets/controls",
            "_model_module_version": "1.5.0",
            "_model_name": "HTMLModel",
            "_view_count": null,
            "_view_module": "@jupyter-widgets/controls",
            "_view_module_version": "1.5.0",
            "_view_name": "HTMLView",
            "description": "",
            "description_tooltip": null,
            "layout": "IPY_MODEL_4fb4a4d83dc744fbb0e01c90a74b35d9",
            "placeholder": "​",
            "style": "IPY_MODEL_ea4dd2d5a96b4ae3ae5eaed5a4e064ae",
            "value": " 0/? [00:00&lt;?, ?batch/s]"
          }
        },
        "82e12f9008664c45a1b3011e1c90fb8e": {
          "model_module": "@jupyter-widgets/base",
          "model_name": "LayoutModel",
          "model_module_version": "1.2.0",
          "state": {
            "_model_module": "@jupyter-widgets/base",
            "_model_module_version": "1.2.0",
            "_model_name": "LayoutModel",
            "_view_count": null,
            "_view_module": "@jupyter-widgets/base",
            "_view_module_version": "1.2.0",
            "_view_name": "LayoutView",
            "align_content": null,
            "align_items": null,
            "align_self": null,
            "border": null,
            "bottom": null,
            "display": null,
            "flex": null,
            "flex_flow": null,
            "grid_area": null,
            "grid_auto_columns": null,
            "grid_auto_flow": null,
            "grid_auto_rows": null,
            "grid_column": null,
            "grid_gap": null,
            "grid_row": null,
            "grid_template_areas": null,
            "grid_template_columns": null,
            "grid_template_rows": null,
            "height": null,
            "justify_content": null,
            "justify_items": null,
            "left": null,
            "margin": null,
            "max_height": null,
            "max_width": null,
            "min_height": null,
            "min_width": null,
            "object_fit": null,
            "object_position": null,
            "order": null,
            "overflow": null,
            "overflow_x": null,
            "overflow_y": null,
            "padding": null,
            "right": null,
            "top": null,
            "visibility": null,
            "width": null
          }
        },
        "b5a1e923090c4fc3a01a6e7e29a7a49a": {
          "model_module": "@jupyter-widgets/base",
          "model_name": "LayoutModel",
          "model_module_version": "1.2.0",
          "state": {
            "_model_module": "@jupyter-widgets/base",
            "_model_module_version": "1.2.0",
            "_model_name": "LayoutModel",
            "_view_count": null,
            "_view_module": "@jupyter-widgets/base",
            "_view_module_version": "1.2.0",
            "_view_name": "LayoutView",
            "align_content": null,
            "align_items": null,
            "align_self": null,
            "border": null,
            "bottom": null,
            "display": null,
            "flex": null,
            "flex_flow": null,
            "grid_area": null,
            "grid_auto_columns": null,
            "grid_auto_flow": null,
            "grid_auto_rows": null,
            "grid_column": null,
            "grid_gap": null,
            "grid_row": null,
            "grid_template_areas": null,
            "grid_template_columns": null,
            "grid_template_rows": null,
            "height": null,
            "justify_content": null,
            "justify_items": null,
            "left": null,
            "margin": null,
            "max_height": null,
            "max_width": null,
            "min_height": null,
            "min_width": null,
            "object_fit": null,
            "object_position": null,
            "order": null,
            "overflow": null,
            "overflow_x": null,
            "overflow_y": null,
            "padding": null,
            "right": null,
            "top": null,
            "visibility": null,
            "width": null
          }
        },
        "d4f3620ff0f845919b3eb025f3e18469": {
          "model_module": "@jupyter-widgets/controls",
          "model_name": "DescriptionStyleModel",
          "model_module_version": "1.5.0",
          "state": {
            "_model_module": "@jupyter-widgets/controls",
            "_model_module_version": "1.5.0",
            "_model_name": "DescriptionStyleModel",
            "_view_count": null,
            "_view_module": "@jupyter-widgets/base",
            "_view_module_version": "1.2.0",
            "_view_name": "StyleView",
            "description_width": ""
          }
        },
        "20573526801a44508cb76c0b03337a4b": {
          "model_module": "@jupyter-widgets/base",
          "model_name": "LayoutModel",
          "model_module_version": "1.2.0",
          "state": {
            "_model_module": "@jupyter-widgets/base",
            "_model_module_version": "1.2.0",
            "_model_name": "LayoutModel",
            "_view_count": null,
            "_view_module": "@jupyter-widgets/base",
            "_view_module_version": "1.2.0",
            "_view_name": "LayoutView",
            "align_content": null,
            "align_items": null,
            "align_self": null,
            "border": null,
            "bottom": null,
            "display": null,
            "flex": null,
            "flex_flow": null,
            "grid_area": null,
            "grid_auto_columns": null,
            "grid_auto_flow": null,
            "grid_auto_rows": null,
            "grid_column": null,
            "grid_gap": null,
            "grid_row": null,
            "grid_template_areas": null,
            "grid_template_columns": null,
            "grid_template_rows": null,
            "height": null,
            "justify_content": null,
            "justify_items": null,
            "left": null,
            "margin": null,
            "max_height": null,
            "max_width": null,
            "min_height": null,
            "min_width": null,
            "object_fit": null,
            "object_position": null,
            "order": null,
            "overflow": null,
            "overflow_x": null,
            "overflow_y": null,
            "padding": null,
            "right": null,
            "top": null,
            "visibility": null,
            "width": "20px"
          }
        },
        "ff73aada1ddd40f881cddd6d6d755803": {
          "model_module": "@jupyter-widgets/controls",
          "model_name": "ProgressStyleModel",
          "model_module_version": "1.5.0",
          "state": {
            "_model_module": "@jupyter-widgets/controls",
            "_model_module_version": "1.5.0",
            "_model_name": "ProgressStyleModel",
            "_view_count": null,
            "_view_module": "@jupyter-widgets/base",
            "_view_module_version": "1.2.0",
            "_view_name": "StyleView",
            "bar_color": null,
            "description_width": ""
          }
        },
        "4fb4a4d83dc744fbb0e01c90a74b35d9": {
          "model_module": "@jupyter-widgets/base",
          "model_name": "LayoutModel",
          "model_module_version": "1.2.0",
          "state": {
            "_model_module": "@jupyter-widgets/base",
            "_model_module_version": "1.2.0",
            "_model_name": "LayoutModel",
            "_view_count": null,
            "_view_module": "@jupyter-widgets/base",
            "_view_module_version": "1.2.0",
            "_view_name": "LayoutView",
            "align_content": null,
            "align_items": null,
            "align_self": null,
            "border": null,
            "bottom": null,
            "display": null,
            "flex": null,
            "flex_flow": null,
            "grid_area": null,
            "grid_auto_columns": null,
            "grid_auto_flow": null,
            "grid_auto_rows": null,
            "grid_column": null,
            "grid_gap": null,
            "grid_row": null,
            "grid_template_areas": null,
            "grid_template_columns": null,
            "grid_template_rows": null,
            "height": null,
            "justify_content": null,
            "justify_items": null,
            "left": null,
            "margin": null,
            "max_height": null,
            "max_width": null,
            "min_height": null,
            "min_width": null,
            "object_fit": null,
            "object_position": null,
            "order": null,
            "overflow": null,
            "overflow_x": null,
            "overflow_y": null,
            "padding": null,
            "right": null,
            "top": null,
            "visibility": null,
            "width": null
          }
        },
        "ea4dd2d5a96b4ae3ae5eaed5a4e064ae": {
          "model_module": "@jupyter-widgets/controls",
          "model_name": "DescriptionStyleModel",
          "model_module_version": "1.5.0",
          "state": {
            "_model_module": "@jupyter-widgets/controls",
            "_model_module_version": "1.5.0",
            "_model_name": "DescriptionStyleModel",
            "_view_count": null,
            "_view_module": "@jupyter-widgets/base",
            "_view_module_version": "1.2.0",
            "_view_name": "StyleView",
            "description_width": ""
          }
        }
      }
    }
  },
  "cells": [
    {
      "cell_type": "markdown",
      "source": [
        "## Установка библиотек"
      ],
      "metadata": {
        "id": "QGBUBFhQOo0S"
      }
    },
    {
      "cell_type": "code",
      "source": [
        "%pip install tensorflow >> None\n",
        "%pip install plotly >> None\n",
        "%pip install salesforce-merlion >> None\n",
        "%pip install torch >> None\n",
        "%pip install \"gluonts[torch]\" >> None\n",
        "%pip install darts >> None\n",
        "%pip install pypots >> None\n",
        "%pip install fastdtw >> None\n",
        "%pip install darts >> None\n",
        "%pip install ta >> None"
      ],
      "metadata": {
        "id": "yo3KqkIV1Q9Q"
      },
      "execution_count": 1,
      "outputs": []
    },
    {
      "cell_type": "markdown",
      "source": [
        "## Импорт_библиотек"
      ],
      "metadata": {
        "id": "SVTY8J3aOvkG"
      }
    },
    {
      "cell_type": "code",
      "source": [
        "# main----------------------------------------------\n",
        "import numpy as np\n",
        "import pandas as pd\n",
        "import warnings\n",
        "import seaborn as sns\n",
        "from datetime import datetime\n",
        "import csv\n",
        "from google.colab import drive\n",
        "import time\n",
        "\n",
        "# graph---------------------------------------------\n",
        "from matplotlib.pylab import rcParams\n",
        "import matplotlib.pyplot as plt\n",
        "from matplotlib.patches import Rectangle\n",
        "\n",
        "# plotly--------------------------------------------\n",
        "import plotly.express as px\n",
        "import plotly.graph_objects as go\n",
        "\n",
        "# torch---------------------------------------------\n",
        "import torch\n",
        "import torch.optim as optim\n",
        "from torch.utils.data import DataLoader, TensorDataset\n",
        "from torch import nn\n",
        "\n",
        "# sklearn-------------------------------------------\n",
        "from sklearn.preprocessing import StandardScaler, LabelEncoder\n",
        "from sklearn.model_selection import train_test_split\n",
        "from sklearn.ensemble import IsolationForest\n",
        "from sklearn.covariance import EllipticEnvelope\n",
        "\n",
        "# tensorflow----------------------------------------\n",
        "import tensorflow as tf\n",
        "from tensorflow.keras.models import Sequential, Model\n",
        "from tensorflow.keras.layers import Dense, LSTM, Dropout, RepeatVector\n",
        "from tensorflow.keras.layers import Conv1D, MaxPooling1D, Flatten\n",
        "from tensorflow.keras.layers import TimeDistributed, LeakyReLU, BatchNormalization\n",
        "from tensorflow.keras.layers import Input, Dense, Lambda\n",
        "from tensorflow.keras.regularizers import L1L2\n",
        "from tensorflow.keras.callbacks import EarlyStopping, LearningRateScheduler\n",
        "from tensorflow.keras.optimizers import Adam\n",
        "from tensorflow.keras.losses import MeanSquaredError, mse\n",
        "\n",
        "# tqdm-----------------------------------------------\n",
        "from tqdm.keras import TqdmCallback\n",
        "from tqdm import tqdm\n",
        "\n",
        "# frameworks-----------------------------------------\n",
        "import prophet\n",
        "# from merlion.utils import TimeSeries\n",
        "#from fbprophet import Prophet\n",
        "#from fbprophet.diagnostics import cross_validation\n",
        "#from fbprophet.diagnostics import performance_metrics\n",
        "#from fbprophet.plot import plot_cross_validation_metric\n",
        "#from orion import Orion\n",
        "#from orion.analysis import analyze\n",
        "#from orion.data import load_signal\n",
        "#from orion.primitives.tadgan import TadGAN\n",
        "\n",
        "# Darts---------------------------------------------\n",
        "# https://github.com/unit8co/darts\n",
        "# from darts import TimeSeries\n",
        "#from darts.datasets import ETTh2Dataset\n",
        "#from darts.ad import KMeansScorer\n",
        "#from darts.ad import QuantileDetector\n",
        "#from darts.dataprocessing.transformers import Scaler\n",
        "\n",
        "# PyPots--------------------------------------------\n",
        "from pypots.data import load_specific_dataset\n",
        "\n",
        "# Trading-------------------------------------------\n",
        "import ta\n",
        "from ta.trend import ADXIndicator\n",
        "\n",
        "# Prerequisites-------------------------------------\n",
        "warnings.filterwarnings('ignore')\n",
        "sns.set(style='whitegrid', palette='muted')\n",
        "rcParams['figure.figsize'] = 16, 6\n",
        "np.random.seed(1)\n",
        "tf.random.set_seed(1)\n",
        "print('Tensorflow version:', tf.__version__)\n",
        "print(prophet.__version__)\n",
        "pd.set_option('display.max_rows', None)\n",
        "pd.set_option('display.max_columns', None)\n",
        "tf.keras.mixed_precision.set_global_policy('mixed_float16')\n",
        "\n",
        "drive.mount('/content/drive')"
      ],
      "metadata": {
        "id": "NRAqWClt1e2f",
        "colab": {
          "base_uri": "https://localhost:8080/"
        },
        "outputId": "64799125-638b-4093-ad7a-1e3be0348793"
      },
      "execution_count": 2,
      "outputs": [
        {
          "output_type": "stream",
          "name": "stderr",
          "text": [
            "WARNING:tensorflow:Mixed precision compatibility check (mixed_float16): WARNING\n",
            "The dtype policy mixed_float16 may run slowly because this machine does not have a GPU. Only Nvidia GPUs with compute capability of at least 7.0 run quickly with mixed_float16.\n",
            "If you will use compatible GPU(s) not attached to this host, e.g. by running a multi-worker model, you can ignore this warning. This message will only be logged once\n"
          ]
        },
        {
          "output_type": "stream",
          "name": "stdout",
          "text": [
            "Tensorflow version: 2.15.0\n",
            "1.1.5\n",
            "Mounted at /content/drive\n"
          ]
        }
      ]
    },
    {
      "cell_type": "markdown",
      "source": [
        "## Импортирование_конвертация_данных"
      ],
      "metadata": {
        "id": "gc419FOvSIqJ"
      }
    },
    {
      "cell_type": "code",
      "source": [
        "def tsv_to_csv(tsv_file, csv_file):\n",
        "    with open(tsv_file, 'r', newline='', encoding='utf-8') as tsvfile:\n",
        "        tsvreader = csv.reader(tsvfile, delimiter='\\t')\n",
        "        with open(csv_file, 'w', newline='', encoding='utf-8') as csvfile:\n",
        "            csvwriter = csv.writer(csvfile)\n",
        "            csvwriter.writerows(tsvreader)\n",
        "\n",
        "#tsv_to_csv('/content/metrics_collector.tsv', '/content/metrics_collector.csv')\n",
        "#print('Successfully converted')"
      ],
      "metadata": {
        "id": "k0nI_BxBPF1P"
      },
      "execution_count": 3,
      "outputs": []
    },
    {
      "cell_type": "code",
      "source": [
        "# загрузка данных\n",
        "df = pd.read_table('/content/drive/MyDrive/Hackatons/RedLab_Anomaly_Detection/metrics_collector.tsv', delimiter= '\\t')\n",
        "#df = pd.read_table('/content/drive/MyDrive/Hackatons/RedLab_Hack/metrics_collector.tsv', delimiter= '\\t')\n",
        "df.shape"
      ],
      "metadata": {
        "id": "tfY9TjPKUUxH",
        "colab": {
          "base_uri": "https://localhost:8080/"
        },
        "outputId": "1b928c7a-4371-4834-8579-02607b2da9f8"
      },
      "execution_count": 4,
      "outputs": [
        {
          "output_type": "execute_result",
          "data": {
            "text/plain": [
              "(18363749, 19)"
            ]
          },
          "metadata": {},
          "execution_count": 4
        }
      ]
    },
    {
      "cell_type": "code",
      "source": [
        "# переименование колонок\n",
        "df.rename(columns={'1': 'account_id',\n",
        "                   'AgentCheck/CircuitBreaker/tripped/all' : 'name',\n",
        "                   '2024-04-15 23:32:00' : 'point',\n",
        "                   '0' : 'call_count',\n",
        "                   '0.1' : 'total_call_time',\n",
        "                   '0.2' : 'total_exclusive_time',\n",
        "                   '0.3' : 'min_call_time',\n",
        "                   '0.4' : 'max_call_time',\n",
        "                   '0.5' : 'sum_of_squares',\n",
        "                   '1.1' : 'instances',\n",
        "                   'java': 'language',\n",
        "                   '[GMonit] Collector' : 'app_name',\n",
        "                   '17592186045423' : 'app_id',\n",
        "                   'Unnamed: 13' : 'scope',\n",
        "                   '575f5ba20b4b' : 'host',\n",
        "                   '575f5ba20b4b.1' : 'display_host',\n",
        "                   '1.2' : 'pid',\n",
        "                   '8.5.0' : 'agent_version',\n",
        "                   '{}' : 'labels'\n",
        "                   }, inplace=True)\n",
        "\n",
        "# конвертация в тип даты\n",
        "df['point'] = pd.to_datetime(df['point'])"
      ],
      "metadata": {
        "id": "oqIEcaWcpijU"
      },
      "execution_count": 5,
      "outputs": []
    },
    {
      "cell_type": "markdown",
      "source": [
        "## Разведка_по_данным"
      ],
      "metadata": {
        "id": "zvhAftOY0i5i"
      }
    },
    {
      "cell_type": "code",
      "source": [
        "# Удаляем колонки, так как все по 1 и дубликатов у нас нет\n",
        "df = df.drop(columns=['account_id', 'language',\n",
        "                      'app_name', 'app_id',\n",
        "                      'host', 'display_host',\n",
        "                      'pid', 'agent_version',\n",
        "                      'labels', 'name', 'scope'])"
      ],
      "metadata": {
        "id": "nQpy-MirsG6v"
      },
      "execution_count": 6,
      "outputs": []
    },
    {
      "cell_type": "code",
      "source": [
        "# удаляем строки с nan\n",
        "df = df.dropna(subset=['call_count',\n",
        "                       'total_call_time', 'total_exclusive_time',\n",
        "                       'min_call_time', 'max_call_time',\n",
        "                       'sum_of_squares', 'instances'])"
      ],
      "metadata": {
        "id": "Ca3ENVww1FKC"
      },
      "execution_count": 7,
      "outputs": []
    },
    {
      "cell_type": "code",
      "source": [
        "# проверка на nan\n",
        "def check_nan(dataset):\n",
        "    list_nan = dataset.isna().sum()\n",
        "    for i in range(len(list_nan)):\n",
        "        if(list_nan[i] != 0):\n",
        "          print(list_nan[i])\n",
        "\n",
        "# проверка на null\n",
        "def check_null(dataset):\n",
        "    list_null = dataset.isnull().sum()\n",
        "    for i in range(len(list_null)):\n",
        "        if(list_null[i] != 0):\n",
        "          print(list_null[i])"
      ],
      "metadata": {
        "id": "p8ryMUkFtVGh"
      },
      "execution_count": null,
      "outputs": []
    },
    {
      "cell_type": "code",
      "source": [
        "check_nan(df)"
      ],
      "metadata": {
        "id": "x_rOMqPdtg9C"
      },
      "execution_count": null,
      "outputs": []
    },
    {
      "cell_type": "code",
      "source": [
        "check_null(df)"
      ],
      "metadata": {
        "id": "Q7Xl9ZHutkgC"
      },
      "execution_count": null,
      "outputs": []
    },
    {
      "cell_type": "code",
      "source": [
        "# скосс и эксцесс\n",
        "def diagnostics_skewness(df):\n",
        "    col_list = df.select_dtypes(include=['number']).columns\n",
        "    skew_initial_list = []\n",
        "    skew_pos_reciprocal_list = []\n",
        "    skew_neg_reciprocal_list = []\n",
        "    skew_log_list = []\n",
        "    skew_corr_log_001_list = []\n",
        "    skew_corr_log_01_list = []\n",
        "    skew_corr_log_1_list = []\n",
        "    skew_corr_log_5_list = []\n",
        "    skew_cbrt_list = []\n",
        "    skew_sqrt_list = []\n",
        "\n",
        "    df_ = df.copy()\n",
        "    for i in col_list:\n",
        "        df_[i] = df_[i].fillna(df_[i].median())\n",
        "        skew_initial = df_[i].skew()\n",
        "        skew_pos_reciprocal = (1 / (df_[i].clip(0.01))).skew()\n",
        "        skew_neg_reciprocal = (-1 / (df_[i].clip(0.01))).skew()\n",
        "        skew_log = np.log(df[i].clip(0.01)).skew()\n",
        "        skew_corr_log_001 = np.log((df_[i].clip(0.01) /\n",
        "                                    df_[i].mean()) + 0.001).skew()\n",
        "        skew_corr_log_01 = np.log((df_[i].clip(0.01) /\n",
        "                                    df_[i].mean()) + 0.01).skew()\n",
        "        skew_corr_log_1 = np.log((df_[i].clip(0.01) /\n",
        "                                    df_[i].mean()) + 0.1).skew()\n",
        "        skew_corr_log_5 = np.log((df_[i].clip(0.01) /\n",
        "                                    df_[i].mean()) + 0.5).skew()\n",
        "        skew_cbrt = (np.sign(df_[i]) * np.cbrt(df_[i].abs())).skew()\n",
        "        skew_sqrt = (np.sign(df_[i]) * np.sqrt(df_[i].abs())).skew()\n",
        "        skew_initial_list.append(skew_initial)\n",
        "        skew_pos_reciprocal_list.append(skew_pos_reciprocal)\n",
        "        skew_neg_reciprocal_list.append(skew_neg_reciprocal)\n",
        "        skew_log_list.append(skew_log)\n",
        "        skew_corr_log_001_list.append(skew_corr_log_001)\n",
        "        skew_corr_log_01_list.append(skew_corr_log_01)\n",
        "        skew_corr_log_1_list.append(skew_corr_log_1)\n",
        "        skew_corr_log_5_list.append(skew_corr_log_5)\n",
        "        skew_cbrt_list.append(skew_cbrt)\n",
        "        skew_sqrt_list.append(skew_sqrt)\n",
        "\n",
        "    result = pd.DataFrame({'Переменная': col_list,\n",
        "                            'Skew_init': skew_initial_list,\n",
        "                            'Skew_pos_recip': skew_pos_reciprocal_list,\n",
        "                            'Skew_neg_recip': skew_neg_reciprocal_list,\n",
        "                            'Skew_log': skew_log_list,\n",
        "                            'Skew_adj_log (k=0.001)': skew_corr_log_001_list,\n",
        "                            'Skew_adj_log (k=0.01)': skew_corr_log_01_list,\n",
        "                            'Skew_adj_log (k=0.1)': skew_corr_log_1_list,\n",
        "                            'Skew_adj_log (k=0.5)': skew_corr_log_5_list,\n",
        "                            'Skew_cbrt': skew_cbrt_list,\n",
        "                            'Skew_sqrt': skew_sqrt_list})\n",
        "    result = result.sort_values(by='Skew_init', ascending=False)\n",
        "    result = np.round(result, 3)\n",
        "    cm = sns.light_palette('magenta', as_cmap=True)\n",
        "    return result.style.background_gradient(cmap=cm)"
      ],
      "metadata": {
        "id": "2s1taN4-t2Iz"
      },
      "execution_count": 11,
      "outputs": []
    },
    {
      "cell_type": "code",
      "source": [
        "diagnostics_skewness(df)"
      ],
      "metadata": {
        "colab": {
          "base_uri": "https://localhost:8080/",
          "height": 306
        },
        "id": "lMcnF-mut3wL",
        "outputId": "26f66515-cd26-4158-d3a2-f3ea14a12326"
      },
      "execution_count": null,
      "outputs": [
        {
          "output_type": "execute_result",
          "data": {
            "text/plain": [
              "<pandas.io.formats.style.Styler at 0x794787d97b80>"
            ],
            "text/html": [
              "<style type=\"text/css\">\n",
              "#T_f20d0_row0_col1, #T_f20d0_row0_col3, #T_f20d0_row0_col4, #T_f20d0_row0_col5, #T_f20d0_row0_col6, #T_f20d0_row0_col7, #T_f20d0_row0_col8, #T_f20d0_row0_col9, #T_f20d0_row0_col10, #T_f20d0_row4_col3, #T_f20d0_row6_col2 {\n",
              "  background-color: #ff00ff;\n",
              "  color: #f1f1f1;\n",
              "}\n",
              "#T_f20d0_row0_col2, #T_f20d0_row4_col2, #T_f20d0_row6_col1, #T_f20d0_row6_col3, #T_f20d0_row6_col4, #T_f20d0_row6_col5, #T_f20d0_row6_col6, #T_f20d0_row6_col7, #T_f20d0_row6_col8, #T_f20d0_row6_col9, #T_f20d0_row6_col10 {\n",
              "  background-color: #f3f0f3;\n",
              "  color: #000000;\n",
              "}\n",
              "#T_f20d0_row1_col1 {\n",
              "  background-color: #fc33fc;\n",
              "  color: #f1f1f1;\n",
              "}\n",
              "#T_f20d0_row1_col2, #T_f20d0_row2_col2, #T_f20d0_row2_col10, #T_f20d0_row4_col1 {\n",
              "  background-color: #f3ecf3;\n",
              "  color: #000000;\n",
              "}\n",
              "#T_f20d0_row1_col3, #T_f20d0_row2_col3 {\n",
              "  background-color: #ff04ff;\n",
              "  color: #f1f1f1;\n",
              "}\n",
              "#T_f20d0_row1_col4 {\n",
              "  background-color: #fe12fe;\n",
              "  color: #f1f1f1;\n",
              "}\n",
              "#T_f20d0_row1_col5 {\n",
              "  background-color: #f972f9;\n",
              "  color: #f1f1f1;\n",
              "}\n",
              "#T_f20d0_row1_col6, #T_f20d0_row1_col7, #T_f20d0_row2_col6 {\n",
              "  background-color: #f976f9;\n",
              "  color: #f1f1f1;\n",
              "}\n",
              "#T_f20d0_row1_col8 {\n",
              "  background-color: #fa6bfa;\n",
              "  color: #f1f1f1;\n",
              "}\n",
              "#T_f20d0_row1_col9 {\n",
              "  background-color: #f4d2f4;\n",
              "  color: #000000;\n",
              "}\n",
              "#T_f20d0_row1_col10 {\n",
              "  background-color: #f3eaf3;\n",
              "  color: #000000;\n",
              "}\n",
              "#T_f20d0_row2_col1 {\n",
              "  background-color: #fc43fc;\n",
              "  color: #f1f1f1;\n",
              "}\n",
              "#T_f20d0_row2_col4 {\n",
              "  background-color: #fe10fe;\n",
              "  color: #f1f1f1;\n",
              "}\n",
              "#T_f20d0_row2_col5 {\n",
              "  background-color: #f971f9;\n",
              "  color: #f1f1f1;\n",
              "}\n",
              "#T_f20d0_row2_col7, #T_f20d0_row3_col1 {\n",
              "  background-color: #f97af9;\n",
              "  color: #000000;\n",
              "}\n",
              "#T_f20d0_row2_col8 {\n",
              "  background-color: #f97bf9;\n",
              "  color: #000000;\n",
              "}\n",
              "#T_f20d0_row2_col9 {\n",
              "  background-color: #f4d7f4;\n",
              "  color: #000000;\n",
              "}\n",
              "#T_f20d0_row3_col2 {\n",
              "  background-color: #f3edf3;\n",
              "  color: #000000;\n",
              "}\n",
              "#T_f20d0_row3_col3 {\n",
              "  background-color: #ff03ff;\n",
              "  color: #f1f1f1;\n",
              "}\n",
              "#T_f20d0_row3_col4 {\n",
              "  background-color: #fe0dfe;\n",
              "  color: #f1f1f1;\n",
              "}\n",
              "#T_f20d0_row3_col5, #T_f20d0_row3_col6 {\n",
              "  background-color: #f970f9;\n",
              "  color: #f1f1f1;\n",
              "}\n",
              "#T_f20d0_row3_col7 {\n",
              "  background-color: #fa6afa;\n",
              "  color: #f1f1f1;\n",
              "}\n",
              "#T_f20d0_row3_col8 {\n",
              "  background-color: #fa61fa;\n",
              "  color: #f1f1f1;\n",
              "}\n",
              "#T_f20d0_row3_col9 {\n",
              "  background-color: #f5cdf5;\n",
              "  color: #000000;\n",
              "}\n",
              "#T_f20d0_row3_col10 {\n",
              "  background-color: #f3e4f3;\n",
              "  color: #000000;\n",
              "}\n",
              "#T_f20d0_row4_col4 {\n",
              "  background-color: #ff09ff;\n",
              "  color: #f1f1f1;\n",
              "}\n",
              "#T_f20d0_row4_col5 {\n",
              "  background-color: #f96ff9;\n",
              "  color: #f1f1f1;\n",
              "}\n",
              "#T_f20d0_row4_col6 {\n",
              "  background-color: #f96ef9;\n",
              "  color: #f1f1f1;\n",
              "}\n",
              "#T_f20d0_row4_col7 {\n",
              "  background-color: #fa63fa;\n",
              "  color: #f1f1f1;\n",
              "}\n",
              "#T_f20d0_row4_col8 {\n",
              "  background-color: #fb53fb;\n",
              "  color: #f1f1f1;\n",
              "}\n",
              "#T_f20d0_row4_col9 {\n",
              "  background-color: #f5cbf5;\n",
              "  color: #000000;\n",
              "}\n",
              "#T_f20d0_row4_col10 {\n",
              "  background-color: #f3e9f3;\n",
              "  color: #000000;\n",
              "}\n",
              "#T_f20d0_row5_col1 {\n",
              "  background-color: #f3eff3;\n",
              "  color: #000000;\n",
              "}\n",
              "#T_f20d0_row5_col2 {\n",
              "  background-color: #fa5afa;\n",
              "  color: #f1f1f1;\n",
              "}\n",
              "#T_f20d0_row5_col3 {\n",
              "  background-color: #f795f7;\n",
              "  color: #000000;\n",
              "}\n",
              "#T_f20d0_row5_col4 {\n",
              "  background-color: #fe16fe;\n",
              "  color: #f1f1f1;\n",
              "}\n",
              "#T_f20d0_row5_col5 {\n",
              "  background-color: #f886f8;\n",
              "  color: #000000;\n",
              "}\n",
              "#T_f20d0_row5_col6 {\n",
              "  background-color: #f890f8;\n",
              "  color: #000000;\n",
              "}\n",
              "#T_f20d0_row5_col7 {\n",
              "  background-color: #f79ef7;\n",
              "  color: #000000;\n",
              "}\n",
              "#T_f20d0_row5_col8 {\n",
              "  background-color: #f6a7f6;\n",
              "  color: #000000;\n",
              "}\n",
              "#T_f20d0_row5_col9 {\n",
              "  background-color: #f4e1f4;\n",
              "  color: #000000;\n",
              "}\n",
              "#T_f20d0_row5_col10 {\n",
              "  background-color: #f3eef3;\n",
              "  color: #000000;\n",
              "}\n",
              "</style>\n",
              "<table id=\"T_f20d0\" class=\"dataframe\">\n",
              "  <thead>\n",
              "    <tr>\n",
              "      <th class=\"blank level0\" >&nbsp;</th>\n",
              "      <th id=\"T_f20d0_level0_col0\" class=\"col_heading level0 col0\" >Переменная</th>\n",
              "      <th id=\"T_f20d0_level0_col1\" class=\"col_heading level0 col1\" >Skew_init</th>\n",
              "      <th id=\"T_f20d0_level0_col2\" class=\"col_heading level0 col2\" >Skew_pos_recip</th>\n",
              "      <th id=\"T_f20d0_level0_col3\" class=\"col_heading level0 col3\" >Skew_neg_recip</th>\n",
              "      <th id=\"T_f20d0_level0_col4\" class=\"col_heading level0 col4\" >Skew_log</th>\n",
              "      <th id=\"T_f20d0_level0_col5\" class=\"col_heading level0 col5\" >Skew_adj_log (k=0.001)</th>\n",
              "      <th id=\"T_f20d0_level0_col6\" class=\"col_heading level0 col6\" >Skew_adj_log (k=0.01)</th>\n",
              "      <th id=\"T_f20d0_level0_col7\" class=\"col_heading level0 col7\" >Skew_adj_log (k=0.1)</th>\n",
              "      <th id=\"T_f20d0_level0_col8\" class=\"col_heading level0 col8\" >Skew_adj_log (k=0.5)</th>\n",
              "      <th id=\"T_f20d0_level0_col9\" class=\"col_heading level0 col9\" >Skew_cbrt</th>\n",
              "      <th id=\"T_f20d0_level0_col10\" class=\"col_heading level0 col10\" >Skew_sqrt</th>\n",
              "    </tr>\n",
              "  </thead>\n",
              "  <tbody>\n",
              "    <tr>\n",
              "      <th id=\"T_f20d0_level0_row0\" class=\"row_heading level0 row0\" >5</th>\n",
              "      <td id=\"T_f20d0_row0_col0\" class=\"data row0 col0\" >sum_of_squares</td>\n",
              "      <td id=\"T_f20d0_row0_col1\" class=\"data row0 col1\" >1888.708000</td>\n",
              "      <td id=\"T_f20d0_row0_col2\" class=\"data row0 col2\" >-0.801000</td>\n",
              "      <td id=\"T_f20d0_row0_col3\" class=\"data row0 col3\" >0.801000</td>\n",
              "      <td id=\"T_f20d0_row0_col4\" class=\"data row0 col4\" >2.156000</td>\n",
              "      <td id=\"T_f20d0_row0_col5\" class=\"data row0 col5\" >14.010000</td>\n",
              "      <td id=\"T_f20d0_row0_col6\" class=\"data row0 col6\" >16.763000</td>\n",
              "      <td id=\"T_f20d0_row0_col7\" class=\"data row0 col7\" >20.534000</td>\n",
              "      <td id=\"T_f20d0_row0_col8\" class=\"data row0 col8\" >23.535000</td>\n",
              "      <td id=\"T_f20d0_row0_col9\" class=\"data row0 col9\" >136.927000</td>\n",
              "      <td id=\"T_f20d0_row0_col10\" class=\"data row0 col10\" >1024.943000</td>\n",
              "    </tr>\n",
              "    <tr>\n",
              "      <th id=\"T_f20d0_level0_row1\" class=\"row_heading level0 row1\" >2</th>\n",
              "      <td id=\"T_f20d0_row1_col0\" class=\"data row1 col0\" >total_exclusive_time</td>\n",
              "      <td id=\"T_f20d0_row1_col1\" class=\"data row1 col1\" >1486.611000</td>\n",
              "      <td id=\"T_f20d0_row1_col2\" class=\"data row1 col2\" >-0.280000</td>\n",
              "      <td id=\"T_f20d0_row1_col3\" class=\"data row1 col3\" >0.280000</td>\n",
              "      <td id=\"T_f20d0_row1_col4\" class=\"data row1 col4\" >1.318000</td>\n",
              "      <td id=\"T_f20d0_row1_col5\" class=\"data row1 col5\" >3.218000</td>\n",
              "      <td id=\"T_f20d0_row1_col6\" class=\"data row1 col6\" >4.415000</td>\n",
              "      <td id=\"T_f20d0_row1_col7\" class=\"data row1 col7\" >6.742000</td>\n",
              "      <td id=\"T_f20d0_row1_col8\" class=\"data row1 col8\" >10.083000</td>\n",
              "      <td id=\"T_f20d0_row1_col9\" class=\"data row1 col9\" >11.091000</td>\n",
              "      <td id=\"T_f20d0_row1_col10\" class=\"data row1 col10\" >21.120000</td>\n",
              "    </tr>\n",
              "    <tr>\n",
              "      <th id=\"T_f20d0_level0_row2\" class=\"row_heading level0 row2\" >1</th>\n",
              "      <td id=\"T_f20d0_row2_col0\" class=\"data row2 col0\" >total_call_time</td>\n",
              "      <td id=\"T_f20d0_row2_col1\" class=\"data row2 col1\" >1359.922000</td>\n",
              "      <td id=\"T_f20d0_row2_col2\" class=\"data row2 col2\" >-0.269000</td>\n",
              "      <td id=\"T_f20d0_row2_col3\" class=\"data row2 col3\" >0.269000</td>\n",
              "      <td id=\"T_f20d0_row2_col4\" class=\"data row2 col4\" >1.400000</td>\n",
              "      <td id=\"T_f20d0_row2_col5\" class=\"data row2 col5\" >3.315000</td>\n",
              "      <td id=\"T_f20d0_row2_col6\" class=\"data row2 col6\" >4.395000</td>\n",
              "      <td id=\"T_f20d0_row2_col7\" class=\"data row2 col7\" >6.288000</td>\n",
              "      <td id=\"T_f20d0_row2_col8\" class=\"data row2 col8\" >8.183000</td>\n",
              "      <td id=\"T_f20d0_row2_col9\" class=\"data row2 col9\" >8.170000</td>\n",
              "      <td id=\"T_f20d0_row2_col10\" class=\"data row2 col10\" >12.942000</td>\n",
              "    </tr>\n",
              "    <tr>\n",
              "      <th id=\"T_f20d0_level0_row3\" class=\"row_heading level0 row3\" >4</th>\n",
              "      <td id=\"T_f20d0_row3_col0\" class=\"data row3 col0\" >max_call_time</td>\n",
              "      <td id=\"T_f20d0_row3_col1\" class=\"data row3 col1\" >920.706000</td>\n",
              "      <td id=\"T_f20d0_row3_col2\" class=\"data row3 col2\" >-0.343000</td>\n",
              "      <td id=\"T_f20d0_row3_col3\" class=\"data row3 col3\" >0.343000</td>\n",
              "      <td id=\"T_f20d0_row3_col4\" class=\"data row3 col4\" >1.527000</td>\n",
              "      <td id=\"T_f20d0_row3_col5\" class=\"data row3 col5\" >3.404000</td>\n",
              "      <td id=\"T_f20d0_row3_col6\" class=\"data row3 col6\" >5.003000</td>\n",
              "      <td id=\"T_f20d0_row3_col7\" class=\"data row3 col7\" >8.199000</td>\n",
              "      <td id=\"T_f20d0_row3_col8\" class=\"data row3 col8\" >11.408000</td>\n",
              "      <td id=\"T_f20d0_row3_col9\" class=\"data row3 col9\" >14.178000</td>\n",
              "      <td id=\"T_f20d0_row3_col10\" class=\"data row3 col10\" >43.111000</td>\n",
              "    </tr>\n",
              "    <tr>\n",
              "      <th id=\"T_f20d0_level0_row4\" class=\"row_heading level0 row4\" >3</th>\n",
              "      <td id=\"T_f20d0_row4_col0\" class=\"data row4 col0\" >min_call_time</td>\n",
              "      <td id=\"T_f20d0_row4_col1\" class=\"data row4 col1\" >30.835000</td>\n",
              "      <td id=\"T_f20d0_row4_col2\" class=\"data row4 col2\" >-0.824000</td>\n",
              "      <td id=\"T_f20d0_row4_col3\" class=\"data row4 col3\" >0.824000</td>\n",
              "      <td id=\"T_f20d0_row4_col4\" class=\"data row4 col4\" >1.713000</td>\n",
              "      <td id=\"T_f20d0_row4_col5\" class=\"data row4 col5\" >3.497000</td>\n",
              "      <td id=\"T_f20d0_row4_col6\" class=\"data row4 col6\" >5.162000</td>\n",
              "      <td id=\"T_f20d0_row4_col7\" class=\"data row4 col7\" >9.008000</td>\n",
              "      <td id=\"T_f20d0_row4_col8\" class=\"data row4 col8\" >13.223000</td>\n",
              "      <td id=\"T_f20d0_row4_col9\" class=\"data row4 col9\" >15.076000</td>\n",
              "      <td id=\"T_f20d0_row4_col10\" class=\"data row4 col10\" >22.408000</td>\n",
              "    </tr>\n",
              "    <tr>\n",
              "      <th id=\"T_f20d0_level0_row5\" class=\"row_heading level0 row5\" >0</th>\n",
              "      <td id=\"T_f20d0_row5_col0\" class=\"data row5 col0\" >call_count</td>\n",
              "      <td id=\"T_f20d0_row5_col1\" class=\"data row5 col1\" >4.463000</td>\n",
              "      <td id=\"T_f20d0_row5_col2\" class=\"data row5 col2\" >20.117000</td>\n",
              "      <td id=\"T_f20d0_row5_col3\" class=\"data row5 col3\" >-20.117000</td>\n",
              "      <td id=\"T_f20d0_row5_col4\" class=\"data row5 col4\" >1.137000</td>\n",
              "      <td id=\"T_f20d0_row5_col5\" class=\"data row5 col5\" >1.259000</td>\n",
              "      <td id=\"T_f20d0_row5_col6\" class=\"data row5 col6\" >1.600000</td>\n",
              "      <td id=\"T_f20d0_row5_col7\" class=\"data row5 col7\" >2.199000</td>\n",
              "      <td id=\"T_f20d0_row5_col8\" class=\"data row5 col8\" >2.623000</td>\n",
              "      <td id=\"T_f20d0_row5_col9\" class=\"data row5 col9\" >2.449000</td>\n",
              "      <td id=\"T_f20d0_row5_col10\" class=\"data row5 col10\" >2.976000</td>\n",
              "    </tr>\n",
              "    <tr>\n",
              "      <th id=\"T_f20d0_level0_row6\" class=\"row_heading level0 row6\" >6</th>\n",
              "      <td id=\"T_f20d0_row6_col0\" class=\"data row6 col0\" >instances</td>\n",
              "      <td id=\"T_f20d0_row6_col1\" class=\"data row6 col1\" >-6.086000</td>\n",
              "      <td id=\"T_f20d0_row6_col2\" class=\"data row6 col2\" >32.805000</td>\n",
              "      <td id=\"T_f20d0_row6_col3\" class=\"data row6 col3\" >-32.805000</td>\n",
              "      <td id=\"T_f20d0_row6_col4\" class=\"data row6 col4\" >-8.737000</td>\n",
              "      <td id=\"T_f20d0_row6_col5\" class=\"data row6 col5\" >-8.707000</td>\n",
              "      <td id=\"T_f20d0_row6_col6\" class=\"data row6 col6\" >-8.465000</td>\n",
              "      <td id=\"T_f20d0_row6_col7\" class=\"data row6 col7\" >-7.311000</td>\n",
              "      <td id=\"T_f20d0_row6_col8\" class=\"data row6 col8\" >-6.456000</td>\n",
              "      <td id=\"T_f20d0_row6_col9\" class=\"data row6 col9\" >-6.978000</td>\n",
              "      <td id=\"T_f20d0_row6_col10\" class=\"data row6 col10\" >-6.576000</td>\n",
              "    </tr>\n",
              "  </tbody>\n",
              "</table>\n"
            ]
          },
          "metadata": {},
          "execution_count": 12
        }
      ]
    },
    {
      "cell_type": "code",
      "source": [
        "df.describe()"
      ],
      "metadata": {
        "colab": {
          "base_uri": "https://localhost:8080/",
          "height": 320
        },
        "id": "iTwSQ4ZGmdug",
        "outputId": "d4b2ddc1-93e0-43fe-8471-d8dbb9c8d61e"
      },
      "execution_count": null,
      "outputs": [
        {
          "output_type": "execute_result",
          "data": {
            "text/plain": [
              "                               point    call_count  total_call_time  \\\n",
              "count                       18363749  1.836375e+07     1.836375e+07   \n",
              "mean   2024-05-01 00:38:09.429339648  2.782507e+02     1.099198e+04   \n",
              "min              2024-04-15 23:32:00  0.000000e+00     0.000000e+00   \n",
              "25%              2024-04-23 12:00:00  1.000000e+00     0.000000e+00   \n",
              "50%              2024-05-01 00:37:00  2.000000e+00     4.000000e-03   \n",
              "75%              2024-05-08 13:09:00  1.700000e+01     1.170693e+00   \n",
              "max              2024-05-16 00:58:00  3.234600e+04     5.295675e+08   \n",
              "std                              NaN  9.276939e+02     2.666378e+05   \n",
              "\n",
              "       total_exclusive_time  min_call_time  max_call_time  sum_of_squares  \\\n",
              "count          1.836375e+07   1.836375e+07   1.836375e+07    1.836375e+07   \n",
              "mean           6.331889e+03   1.547996e+03   1.812190e+03    1.142497e+10   \n",
              "min            0.000000e+00   0.000000e+00   0.000000e+00    0.000000e+00   \n",
              "25%            0.000000e+00   0.000000e+00   0.000000e+00    0.000000e+00   \n",
              "50%            4.000000e-03   1.190360e-04   3.973580e-03    1.737979e-06   \n",
              "75%            1.115517e+00   5.000000e-01   1.000000e+00    1.000000e+00   \n",
              "max            5.295675e+08   1.604956e+06   1.578018e+08    3.149387e+16   \n",
              "std            2.588279e+05   3.665872e+04   1.578139e+05    1.330169e+13   \n",
              "\n",
              "          instances  \n",
              "count  1.836375e+07  \n",
              "mean   9.866087e-01  \n",
              "min    6.666667e-02  \n",
              "25%    1.000000e+00  \n",
              "50%    1.000000e+00  \n",
              "75%    1.000000e+00  \n",
              "max    1.333333e+00  \n",
              "std    8.187102e-02  "
            ],
            "text/html": [
              "\n",
              "  <div id=\"df-c09b2ddc-7786-4afd-8593-55272b79e8fa\" class=\"colab-df-container\">\n",
              "    <div>\n",
              "<style scoped>\n",
              "    .dataframe tbody tr th:only-of-type {\n",
              "        vertical-align: middle;\n",
              "    }\n",
              "\n",
              "    .dataframe tbody tr th {\n",
              "        vertical-align: top;\n",
              "    }\n",
              "\n",
              "    .dataframe thead th {\n",
              "        text-align: right;\n",
              "    }\n",
              "</style>\n",
              "<table border=\"1\" class=\"dataframe\">\n",
              "  <thead>\n",
              "    <tr style=\"text-align: right;\">\n",
              "      <th></th>\n",
              "      <th>point</th>\n",
              "      <th>call_count</th>\n",
              "      <th>total_call_time</th>\n",
              "      <th>total_exclusive_time</th>\n",
              "      <th>min_call_time</th>\n",
              "      <th>max_call_time</th>\n",
              "      <th>sum_of_squares</th>\n",
              "      <th>instances</th>\n",
              "    </tr>\n",
              "  </thead>\n",
              "  <tbody>\n",
              "    <tr>\n",
              "      <th>count</th>\n",
              "      <td>18363749</td>\n",
              "      <td>1.836375e+07</td>\n",
              "      <td>1.836375e+07</td>\n",
              "      <td>1.836375e+07</td>\n",
              "      <td>1.836375e+07</td>\n",
              "      <td>1.836375e+07</td>\n",
              "      <td>1.836375e+07</td>\n",
              "      <td>1.836375e+07</td>\n",
              "    </tr>\n",
              "    <tr>\n",
              "      <th>mean</th>\n",
              "      <td>2024-05-01 00:38:09.429339648</td>\n",
              "      <td>2.782507e+02</td>\n",
              "      <td>1.099198e+04</td>\n",
              "      <td>6.331889e+03</td>\n",
              "      <td>1.547996e+03</td>\n",
              "      <td>1.812190e+03</td>\n",
              "      <td>1.142497e+10</td>\n",
              "      <td>9.866087e-01</td>\n",
              "    </tr>\n",
              "    <tr>\n",
              "      <th>min</th>\n",
              "      <td>2024-04-15 23:32:00</td>\n",
              "      <td>0.000000e+00</td>\n",
              "      <td>0.000000e+00</td>\n",
              "      <td>0.000000e+00</td>\n",
              "      <td>0.000000e+00</td>\n",
              "      <td>0.000000e+00</td>\n",
              "      <td>0.000000e+00</td>\n",
              "      <td>6.666667e-02</td>\n",
              "    </tr>\n",
              "    <tr>\n",
              "      <th>25%</th>\n",
              "      <td>2024-04-23 12:00:00</td>\n",
              "      <td>1.000000e+00</td>\n",
              "      <td>0.000000e+00</td>\n",
              "      <td>0.000000e+00</td>\n",
              "      <td>0.000000e+00</td>\n",
              "      <td>0.000000e+00</td>\n",
              "      <td>0.000000e+00</td>\n",
              "      <td>1.000000e+00</td>\n",
              "    </tr>\n",
              "    <tr>\n",
              "      <th>50%</th>\n",
              "      <td>2024-05-01 00:37:00</td>\n",
              "      <td>2.000000e+00</td>\n",
              "      <td>4.000000e-03</td>\n",
              "      <td>4.000000e-03</td>\n",
              "      <td>1.190360e-04</td>\n",
              "      <td>3.973580e-03</td>\n",
              "      <td>1.737979e-06</td>\n",
              "      <td>1.000000e+00</td>\n",
              "    </tr>\n",
              "    <tr>\n",
              "      <th>75%</th>\n",
              "      <td>2024-05-08 13:09:00</td>\n",
              "      <td>1.700000e+01</td>\n",
              "      <td>1.170693e+00</td>\n",
              "      <td>1.115517e+00</td>\n",
              "      <td>5.000000e-01</td>\n",
              "      <td>1.000000e+00</td>\n",
              "      <td>1.000000e+00</td>\n",
              "      <td>1.000000e+00</td>\n",
              "    </tr>\n",
              "    <tr>\n",
              "      <th>max</th>\n",
              "      <td>2024-05-16 00:58:00</td>\n",
              "      <td>3.234600e+04</td>\n",
              "      <td>5.295675e+08</td>\n",
              "      <td>5.295675e+08</td>\n",
              "      <td>1.604956e+06</td>\n",
              "      <td>1.578018e+08</td>\n",
              "      <td>3.149387e+16</td>\n",
              "      <td>1.333333e+00</td>\n",
              "    </tr>\n",
              "    <tr>\n",
              "      <th>std</th>\n",
              "      <td>NaN</td>\n",
              "      <td>9.276939e+02</td>\n",
              "      <td>2.666378e+05</td>\n",
              "      <td>2.588279e+05</td>\n",
              "      <td>3.665872e+04</td>\n",
              "      <td>1.578139e+05</td>\n",
              "      <td>1.330169e+13</td>\n",
              "      <td>8.187102e-02</td>\n",
              "    </tr>\n",
              "  </tbody>\n",
              "</table>\n",
              "</div>\n",
              "    <div class=\"colab-df-buttons\">\n",
              "\n",
              "  <div class=\"colab-df-container\">\n",
              "    <button class=\"colab-df-convert\" onclick=\"convertToInteractive('df-c09b2ddc-7786-4afd-8593-55272b79e8fa')\"\n",
              "            title=\"Convert this dataframe to an interactive table.\"\n",
              "            style=\"display:none;\">\n",
              "\n",
              "  <svg xmlns=\"http://www.w3.org/2000/svg\" height=\"24px\" viewBox=\"0 -960 960 960\">\n",
              "    <path d=\"M120-120v-720h720v720H120Zm60-500h600v-160H180v160Zm220 220h160v-160H400v160Zm0 220h160v-160H400v160ZM180-400h160v-160H180v160Zm440 0h160v-160H620v160ZM180-180h160v-160H180v160Zm440 0h160v-160H620v160Z\"/>\n",
              "  </svg>\n",
              "    </button>\n",
              "\n",
              "  <style>\n",
              "    .colab-df-container {\n",
              "      display:flex;\n",
              "      gap: 12px;\n",
              "    }\n",
              "\n",
              "    .colab-df-convert {\n",
              "      background-color: #E8F0FE;\n",
              "      border: none;\n",
              "      border-radius: 50%;\n",
              "      cursor: pointer;\n",
              "      display: none;\n",
              "      fill: #1967D2;\n",
              "      height: 32px;\n",
              "      padding: 0 0 0 0;\n",
              "      width: 32px;\n",
              "    }\n",
              "\n",
              "    .colab-df-convert:hover {\n",
              "      background-color: #E2EBFA;\n",
              "      box-shadow: 0px 1px 2px rgba(60, 64, 67, 0.3), 0px 1px 3px 1px rgba(60, 64, 67, 0.15);\n",
              "      fill: #174EA6;\n",
              "    }\n",
              "\n",
              "    .colab-df-buttons div {\n",
              "      margin-bottom: 4px;\n",
              "    }\n",
              "\n",
              "    [theme=dark] .colab-df-convert {\n",
              "      background-color: #3B4455;\n",
              "      fill: #D2E3FC;\n",
              "    }\n",
              "\n",
              "    [theme=dark] .colab-df-convert:hover {\n",
              "      background-color: #434B5C;\n",
              "      box-shadow: 0px 1px 3px 1px rgba(0, 0, 0, 0.15);\n",
              "      filter: drop-shadow(0px 1px 2px rgba(0, 0, 0, 0.3));\n",
              "      fill: #FFFFFF;\n",
              "    }\n",
              "  </style>\n",
              "\n",
              "    <script>\n",
              "      const buttonEl =\n",
              "        document.querySelector('#df-c09b2ddc-7786-4afd-8593-55272b79e8fa button.colab-df-convert');\n",
              "      buttonEl.style.display =\n",
              "        google.colab.kernel.accessAllowed ? 'block' : 'none';\n",
              "\n",
              "      async function convertToInteractive(key) {\n",
              "        const element = document.querySelector('#df-c09b2ddc-7786-4afd-8593-55272b79e8fa');\n",
              "        const dataTable =\n",
              "          await google.colab.kernel.invokeFunction('convertToInteractive',\n",
              "                                                    [key], {});\n",
              "        if (!dataTable) return;\n",
              "\n",
              "        const docLinkHtml = 'Like what you see? Visit the ' +\n",
              "          '<a target=\"_blank\" href=https://colab.research.google.com/notebooks/data_table.ipynb>data table notebook</a>'\n",
              "          + ' to learn more about interactive tables.';\n",
              "        element.innerHTML = '';\n",
              "        dataTable['output_type'] = 'display_data';\n",
              "        await google.colab.output.renderOutput(dataTable, element);\n",
              "        const docLink = document.createElement('div');\n",
              "        docLink.innerHTML = docLinkHtml;\n",
              "        element.appendChild(docLink);\n",
              "      }\n",
              "    </script>\n",
              "  </div>\n",
              "\n",
              "\n",
              "<div id=\"df-4eed4f04-9819-435c-827f-a2cb573ca29d\">\n",
              "  <button class=\"colab-df-quickchart\" onclick=\"quickchart('df-4eed4f04-9819-435c-827f-a2cb573ca29d')\"\n",
              "            title=\"Suggest charts\"\n",
              "            style=\"display:none;\">\n",
              "\n",
              "<svg xmlns=\"http://www.w3.org/2000/svg\" height=\"24px\"viewBox=\"0 0 24 24\"\n",
              "     width=\"24px\">\n",
              "    <g>\n",
              "        <path d=\"M19 3H5c-1.1 0-2 .9-2 2v14c0 1.1.9 2 2 2h14c1.1 0 2-.9 2-2V5c0-1.1-.9-2-2-2zM9 17H7v-7h2v7zm4 0h-2V7h2v10zm4 0h-2v-4h2v4z\"/>\n",
              "    </g>\n",
              "</svg>\n",
              "  </button>\n",
              "\n",
              "<style>\n",
              "  .colab-df-quickchart {\n",
              "      --bg-color: #E8F0FE;\n",
              "      --fill-color: #1967D2;\n",
              "      --hover-bg-color: #E2EBFA;\n",
              "      --hover-fill-color: #174EA6;\n",
              "      --disabled-fill-color: #AAA;\n",
              "      --disabled-bg-color: #DDD;\n",
              "  }\n",
              "\n",
              "  [theme=dark] .colab-df-quickchart {\n",
              "      --bg-color: #3B4455;\n",
              "      --fill-color: #D2E3FC;\n",
              "      --hover-bg-color: #434B5C;\n",
              "      --hover-fill-color: #FFFFFF;\n",
              "      --disabled-bg-color: #3B4455;\n",
              "      --disabled-fill-color: #666;\n",
              "  }\n",
              "\n",
              "  .colab-df-quickchart {\n",
              "    background-color: var(--bg-color);\n",
              "    border: none;\n",
              "    border-radius: 50%;\n",
              "    cursor: pointer;\n",
              "    display: none;\n",
              "    fill: var(--fill-color);\n",
              "    height: 32px;\n",
              "    padding: 0;\n",
              "    width: 32px;\n",
              "  }\n",
              "\n",
              "  .colab-df-quickchart:hover {\n",
              "    background-color: var(--hover-bg-color);\n",
              "    box-shadow: 0 1px 2px rgba(60, 64, 67, 0.3), 0 1px 3px 1px rgba(60, 64, 67, 0.15);\n",
              "    fill: var(--button-hover-fill-color);\n",
              "  }\n",
              "\n",
              "  .colab-df-quickchart-complete:disabled,\n",
              "  .colab-df-quickchart-complete:disabled:hover {\n",
              "    background-color: var(--disabled-bg-color);\n",
              "    fill: var(--disabled-fill-color);\n",
              "    box-shadow: none;\n",
              "  }\n",
              "\n",
              "  .colab-df-spinner {\n",
              "    border: 2px solid var(--fill-color);\n",
              "    border-color: transparent;\n",
              "    border-bottom-color: var(--fill-color);\n",
              "    animation:\n",
              "      spin 1s steps(1) infinite;\n",
              "  }\n",
              "\n",
              "  @keyframes spin {\n",
              "    0% {\n",
              "      border-color: transparent;\n",
              "      border-bottom-color: var(--fill-color);\n",
              "      border-left-color: var(--fill-color);\n",
              "    }\n",
              "    20% {\n",
              "      border-color: transparent;\n",
              "      border-left-color: var(--fill-color);\n",
              "      border-top-color: var(--fill-color);\n",
              "    }\n",
              "    30% {\n",
              "      border-color: transparent;\n",
              "      border-left-color: var(--fill-color);\n",
              "      border-top-color: var(--fill-color);\n",
              "      border-right-color: var(--fill-color);\n",
              "    }\n",
              "    40% {\n",
              "      border-color: transparent;\n",
              "      border-right-color: var(--fill-color);\n",
              "      border-top-color: var(--fill-color);\n",
              "    }\n",
              "    60% {\n",
              "      border-color: transparent;\n",
              "      border-right-color: var(--fill-color);\n",
              "    }\n",
              "    80% {\n",
              "      border-color: transparent;\n",
              "      border-right-color: var(--fill-color);\n",
              "      border-bottom-color: var(--fill-color);\n",
              "    }\n",
              "    90% {\n",
              "      border-color: transparent;\n",
              "      border-bottom-color: var(--fill-color);\n",
              "    }\n",
              "  }\n",
              "</style>\n",
              "\n",
              "  <script>\n",
              "    async function quickchart(key) {\n",
              "      const quickchartButtonEl =\n",
              "        document.querySelector('#' + key + ' button');\n",
              "      quickchartButtonEl.disabled = true;  // To prevent multiple clicks.\n",
              "      quickchartButtonEl.classList.add('colab-df-spinner');\n",
              "      try {\n",
              "        const charts = await google.colab.kernel.invokeFunction(\n",
              "            'suggestCharts', [key], {});\n",
              "      } catch (error) {\n",
              "        console.error('Error during call to suggestCharts:', error);\n",
              "      }\n",
              "      quickchartButtonEl.classList.remove('colab-df-spinner');\n",
              "      quickchartButtonEl.classList.add('colab-df-quickchart-complete');\n",
              "    }\n",
              "    (() => {\n",
              "      let quickchartButtonEl =\n",
              "        document.querySelector('#df-4eed4f04-9819-435c-827f-a2cb573ca29d button');\n",
              "      quickchartButtonEl.style.display =\n",
              "        google.colab.kernel.accessAllowed ? 'block' : 'none';\n",
              "    })();\n",
              "  </script>\n",
              "</div>\n",
              "    </div>\n",
              "  </div>\n"
            ],
            "application/vnd.google.colaboratory.intrinsic+json": {
              "type": "dataframe",
              "summary": "{\n  \"name\": \"df\",\n  \"rows\": 8,\n  \"fields\": [\n    {\n      \"column\": \"point\",\n      \"properties\": {\n        \"dtype\": \"date\",\n        \"min\": \"1970-01-01 00:00:00.018363749\",\n        \"max\": \"2024-05-16 00:58:00\",\n        \"num_unique_values\": 7,\n        \"samples\": [\n          \"18363749\",\n          \"2024-05-01 00:38:09.429339648\",\n          \"2024-05-08 13:09:00\"\n        ],\n        \"semantic_type\": \"\",\n        \"description\": \"\"\n      }\n    },\n    {\n      \"column\": \"call_count\",\n      \"properties\": {\n        \"dtype\": \"number\",\n        \"std\": 6490879.835742792,\n        \"min\": 0.0,\n        \"max\": 18363749.0,\n        \"num_unique_values\": 8,\n        \"samples\": [\n          278.2507364373472,\n          17.0,\n          18363749.0\n        ],\n        \"semantic_type\": \"\",\n        \"description\": \"\"\n      }\n    },\n    {\n      \"column\": \"total_call_time\",\n      \"properties\": {\n        \"dtype\": \"number\",\n        \"std\": 186399116.1619363,\n        \"min\": 0.0,\n        \"max\": 529567500.0,\n        \"num_unique_values\": 7,\n        \"samples\": [\n          18363749.0,\n          10991.98128564364,\n          529567500.0\n        ],\n        \"semantic_type\": \"\",\n        \"description\": \"\"\n      }\n    },\n    {\n      \"column\": \"total_exclusive_time\",\n      \"properties\": {\n        \"dtype\": \"number\",\n        \"std\": 186399769.4607553,\n        \"min\": 0.0,\n        \"max\": 529567500.0,\n        \"num_unique_values\": 7,\n        \"samples\": [\n          18363749.0,\n          6331.889389424012,\n          529567500.0\n        ],\n        \"semantic_type\": \"\",\n        \"description\": \"\"\n      }\n    },\n    {\n      \"column\": \"min_call_time\",\n      \"properties\": {\n        \"dtype\": \"number\",\n        \"std\": 6433949.467797121,\n        \"min\": 0.0,\n        \"max\": 18363749.0,\n        \"num_unique_values\": 7,\n        \"samples\": [\n          18363749.0,\n          1547.9960508897375,\n          1604956.0\n        ],\n        \"semantic_type\": \"\",\n        \"description\": \"\"\n      }\n    },\n    {\n      \"column\": \"max_call_time\",\n      \"properties\": {\n        \"dtype\": \"number\",\n        \"std\": 55229837.60530157,\n        \"min\": 0.0,\n        \"max\": 157801820.0,\n        \"num_unique_values\": 7,\n        \"samples\": [\n          18363749.0,\n          1812.189560373744,\n          157801820.0\n        ],\n        \"semantic_type\": \"\",\n        \"description\": \"\"\n      }\n    },\n    {\n      \"column\": \"sum_of_squares\",\n      \"properties\": {\n        \"dtype\": \"number\",\n        \"std\": 1.1134094244637372e+16,\n        \"min\": 0.0,\n        \"max\": 3.1493873296613376e+16,\n        \"num_unique_values\": 7,\n        \"samples\": [\n          18363749.0,\n          11424974548.868055,\n          3.1493873296613376e+16\n        ],\n        \"semantic_type\": \"\",\n        \"description\": \"\"\n      }\n    },\n    {\n      \"column\": \"instances\",\n      \"properties\": {\n        \"dtype\": \"number\",\n        \"std\": 6492565.446753919,\n        \"min\": 0.06666667,\n        \"max\": 18363749.0,\n        \"num_unique_values\": 6,\n        \"samples\": [\n          18363749.0,\n          0.9866086712590363,\n          0.08187102026786428\n        ],\n        \"semantic_type\": \"\",\n        \"description\": \"\"\n      }\n    }\n  ]\n}"
            }
          },
          "metadata": {},
          "execution_count": 13
        }
      ]
    },
    {
      "cell_type": "code",
      "source": [
        "df.head()"
      ],
      "metadata": {
        "colab": {
          "base_uri": "https://localhost:8080/",
          "height": 226
        },
        "id": "O7O9j7823r-1",
        "outputId": "94ed4169-995e-4243-f6c8-b25187c29ed9"
      },
      "execution_count": null,
      "outputs": [
        {
          "output_type": "execute_result",
          "data": {
            "text/plain": [
              "                point  call_count  total_call_time  total_exclusive_time  \\\n",
              "0 2024-04-15 23:33:00         0.0              0.0                   0.0   \n",
              "1 2024-04-15 23:34:00         0.0              0.0                   0.0   \n",
              "2 2024-04-15 23:35:00         0.0              0.0                   0.0   \n",
              "3 2024-04-15 23:36:00         0.0              0.0                   0.0   \n",
              "4 2024-04-15 23:37:00         0.0              0.0                   0.0   \n",
              "\n",
              "   min_call_time  max_call_time  sum_of_squares  instances  \n",
              "0            0.0            0.0             0.0        1.0  \n",
              "1            0.0            0.0             0.0        1.0  \n",
              "2            0.0            0.0             0.0        1.0  \n",
              "3            0.0            0.0             0.0        1.0  \n",
              "4            0.0            0.0             0.0        1.0  "
            ],
            "text/html": [
              "\n",
              "  <div id=\"df-98d73a81-cdfd-4166-8a5d-245c4ce577ab\" class=\"colab-df-container\">\n",
              "    <div>\n",
              "<style scoped>\n",
              "    .dataframe tbody tr th:only-of-type {\n",
              "        vertical-align: middle;\n",
              "    }\n",
              "\n",
              "    .dataframe tbody tr th {\n",
              "        vertical-align: top;\n",
              "    }\n",
              "\n",
              "    .dataframe thead th {\n",
              "        text-align: right;\n",
              "    }\n",
              "</style>\n",
              "<table border=\"1\" class=\"dataframe\">\n",
              "  <thead>\n",
              "    <tr style=\"text-align: right;\">\n",
              "      <th></th>\n",
              "      <th>point</th>\n",
              "      <th>call_count</th>\n",
              "      <th>total_call_time</th>\n",
              "      <th>total_exclusive_time</th>\n",
              "      <th>min_call_time</th>\n",
              "      <th>max_call_time</th>\n",
              "      <th>sum_of_squares</th>\n",
              "      <th>instances</th>\n",
              "    </tr>\n",
              "  </thead>\n",
              "  <tbody>\n",
              "    <tr>\n",
              "      <th>0</th>\n",
              "      <td>2024-04-15 23:33:00</td>\n",
              "      <td>0.0</td>\n",
              "      <td>0.0</td>\n",
              "      <td>0.0</td>\n",
              "      <td>0.0</td>\n",
              "      <td>0.0</td>\n",
              "      <td>0.0</td>\n",
              "      <td>1.0</td>\n",
              "    </tr>\n",
              "    <tr>\n",
              "      <th>1</th>\n",
              "      <td>2024-04-15 23:34:00</td>\n",
              "      <td>0.0</td>\n",
              "      <td>0.0</td>\n",
              "      <td>0.0</td>\n",
              "      <td>0.0</td>\n",
              "      <td>0.0</td>\n",
              "      <td>0.0</td>\n",
              "      <td>1.0</td>\n",
              "    </tr>\n",
              "    <tr>\n",
              "      <th>2</th>\n",
              "      <td>2024-04-15 23:35:00</td>\n",
              "      <td>0.0</td>\n",
              "      <td>0.0</td>\n",
              "      <td>0.0</td>\n",
              "      <td>0.0</td>\n",
              "      <td>0.0</td>\n",
              "      <td>0.0</td>\n",
              "      <td>1.0</td>\n",
              "    </tr>\n",
              "    <tr>\n",
              "      <th>3</th>\n",
              "      <td>2024-04-15 23:36:00</td>\n",
              "      <td>0.0</td>\n",
              "      <td>0.0</td>\n",
              "      <td>0.0</td>\n",
              "      <td>0.0</td>\n",
              "      <td>0.0</td>\n",
              "      <td>0.0</td>\n",
              "      <td>1.0</td>\n",
              "    </tr>\n",
              "    <tr>\n",
              "      <th>4</th>\n",
              "      <td>2024-04-15 23:37:00</td>\n",
              "      <td>0.0</td>\n",
              "      <td>0.0</td>\n",
              "      <td>0.0</td>\n",
              "      <td>0.0</td>\n",
              "      <td>0.0</td>\n",
              "      <td>0.0</td>\n",
              "      <td>1.0</td>\n",
              "    </tr>\n",
              "  </tbody>\n",
              "</table>\n",
              "</div>\n",
              "    <div class=\"colab-df-buttons\">\n",
              "\n",
              "  <div class=\"colab-df-container\">\n",
              "    <button class=\"colab-df-convert\" onclick=\"convertToInteractive('df-98d73a81-cdfd-4166-8a5d-245c4ce577ab')\"\n",
              "            title=\"Convert this dataframe to an interactive table.\"\n",
              "            style=\"display:none;\">\n",
              "\n",
              "  <svg xmlns=\"http://www.w3.org/2000/svg\" height=\"24px\" viewBox=\"0 -960 960 960\">\n",
              "    <path d=\"M120-120v-720h720v720H120Zm60-500h600v-160H180v160Zm220 220h160v-160H400v160Zm0 220h160v-160H400v160ZM180-400h160v-160H180v160Zm440 0h160v-160H620v160ZM180-180h160v-160H180v160Zm440 0h160v-160H620v160Z\"/>\n",
              "  </svg>\n",
              "    </button>\n",
              "\n",
              "  <style>\n",
              "    .colab-df-container {\n",
              "      display:flex;\n",
              "      gap: 12px;\n",
              "    }\n",
              "\n",
              "    .colab-df-convert {\n",
              "      background-color: #E8F0FE;\n",
              "      border: none;\n",
              "      border-radius: 50%;\n",
              "      cursor: pointer;\n",
              "      display: none;\n",
              "      fill: #1967D2;\n",
              "      height: 32px;\n",
              "      padding: 0 0 0 0;\n",
              "      width: 32px;\n",
              "    }\n",
              "\n",
              "    .colab-df-convert:hover {\n",
              "      background-color: #E2EBFA;\n",
              "      box-shadow: 0px 1px 2px rgba(60, 64, 67, 0.3), 0px 1px 3px 1px rgba(60, 64, 67, 0.15);\n",
              "      fill: #174EA6;\n",
              "    }\n",
              "\n",
              "    .colab-df-buttons div {\n",
              "      margin-bottom: 4px;\n",
              "    }\n",
              "\n",
              "    [theme=dark] .colab-df-convert {\n",
              "      background-color: #3B4455;\n",
              "      fill: #D2E3FC;\n",
              "    }\n",
              "\n",
              "    [theme=dark] .colab-df-convert:hover {\n",
              "      background-color: #434B5C;\n",
              "      box-shadow: 0px 1px 3px 1px rgba(0, 0, 0, 0.15);\n",
              "      filter: drop-shadow(0px 1px 2px rgba(0, 0, 0, 0.3));\n",
              "      fill: #FFFFFF;\n",
              "    }\n",
              "  </style>\n",
              "\n",
              "    <script>\n",
              "      const buttonEl =\n",
              "        document.querySelector('#df-98d73a81-cdfd-4166-8a5d-245c4ce577ab button.colab-df-convert');\n",
              "      buttonEl.style.display =\n",
              "        google.colab.kernel.accessAllowed ? 'block' : 'none';\n",
              "\n",
              "      async function convertToInteractive(key) {\n",
              "        const element = document.querySelector('#df-98d73a81-cdfd-4166-8a5d-245c4ce577ab');\n",
              "        const dataTable =\n",
              "          await google.colab.kernel.invokeFunction('convertToInteractive',\n",
              "                                                    [key], {});\n",
              "        if (!dataTable) return;\n",
              "\n",
              "        const docLinkHtml = 'Like what you see? Visit the ' +\n",
              "          '<a target=\"_blank\" href=https://colab.research.google.com/notebooks/data_table.ipynb>data table notebook</a>'\n",
              "          + ' to learn more about interactive tables.';\n",
              "        element.innerHTML = '';\n",
              "        dataTable['output_type'] = 'display_data';\n",
              "        await google.colab.output.renderOutput(dataTable, element);\n",
              "        const docLink = document.createElement('div');\n",
              "        docLink.innerHTML = docLinkHtml;\n",
              "        element.appendChild(docLink);\n",
              "      }\n",
              "    </script>\n",
              "  </div>\n",
              "\n",
              "\n",
              "<div id=\"df-bd551747-a1c4-48f4-86a9-3aba59b0b263\">\n",
              "  <button class=\"colab-df-quickchart\" onclick=\"quickchart('df-bd551747-a1c4-48f4-86a9-3aba59b0b263')\"\n",
              "            title=\"Suggest charts\"\n",
              "            style=\"display:none;\">\n",
              "\n",
              "<svg xmlns=\"http://www.w3.org/2000/svg\" height=\"24px\"viewBox=\"0 0 24 24\"\n",
              "     width=\"24px\">\n",
              "    <g>\n",
              "        <path d=\"M19 3H5c-1.1 0-2 .9-2 2v14c0 1.1.9 2 2 2h14c1.1 0 2-.9 2-2V5c0-1.1-.9-2-2-2zM9 17H7v-7h2v7zm4 0h-2V7h2v10zm4 0h-2v-4h2v4z\"/>\n",
              "    </g>\n",
              "</svg>\n",
              "  </button>\n",
              "\n",
              "<style>\n",
              "  .colab-df-quickchart {\n",
              "      --bg-color: #E8F0FE;\n",
              "      --fill-color: #1967D2;\n",
              "      --hover-bg-color: #E2EBFA;\n",
              "      --hover-fill-color: #174EA6;\n",
              "      --disabled-fill-color: #AAA;\n",
              "      --disabled-bg-color: #DDD;\n",
              "  }\n",
              "\n",
              "  [theme=dark] .colab-df-quickchart {\n",
              "      --bg-color: #3B4455;\n",
              "      --fill-color: #D2E3FC;\n",
              "      --hover-bg-color: #434B5C;\n",
              "      --hover-fill-color: #FFFFFF;\n",
              "      --disabled-bg-color: #3B4455;\n",
              "      --disabled-fill-color: #666;\n",
              "  }\n",
              "\n",
              "  .colab-df-quickchart {\n",
              "    background-color: var(--bg-color);\n",
              "    border: none;\n",
              "    border-radius: 50%;\n",
              "    cursor: pointer;\n",
              "    display: none;\n",
              "    fill: var(--fill-color);\n",
              "    height: 32px;\n",
              "    padding: 0;\n",
              "    width: 32px;\n",
              "  }\n",
              "\n",
              "  .colab-df-quickchart:hover {\n",
              "    background-color: var(--hover-bg-color);\n",
              "    box-shadow: 0 1px 2px rgba(60, 64, 67, 0.3), 0 1px 3px 1px rgba(60, 64, 67, 0.15);\n",
              "    fill: var(--button-hover-fill-color);\n",
              "  }\n",
              "\n",
              "  .colab-df-quickchart-complete:disabled,\n",
              "  .colab-df-quickchart-complete:disabled:hover {\n",
              "    background-color: var(--disabled-bg-color);\n",
              "    fill: var(--disabled-fill-color);\n",
              "    box-shadow: none;\n",
              "  }\n",
              "\n",
              "  .colab-df-spinner {\n",
              "    border: 2px solid var(--fill-color);\n",
              "    border-color: transparent;\n",
              "    border-bottom-color: var(--fill-color);\n",
              "    animation:\n",
              "      spin 1s steps(1) infinite;\n",
              "  }\n",
              "\n",
              "  @keyframes spin {\n",
              "    0% {\n",
              "      border-color: transparent;\n",
              "      border-bottom-color: var(--fill-color);\n",
              "      border-left-color: var(--fill-color);\n",
              "    }\n",
              "    20% {\n",
              "      border-color: transparent;\n",
              "      border-left-color: var(--fill-color);\n",
              "      border-top-color: var(--fill-color);\n",
              "    }\n",
              "    30% {\n",
              "      border-color: transparent;\n",
              "      border-left-color: var(--fill-color);\n",
              "      border-top-color: var(--fill-color);\n",
              "      border-right-color: var(--fill-color);\n",
              "    }\n",
              "    40% {\n",
              "      border-color: transparent;\n",
              "      border-right-color: var(--fill-color);\n",
              "      border-top-color: var(--fill-color);\n",
              "    }\n",
              "    60% {\n",
              "      border-color: transparent;\n",
              "      border-right-color: var(--fill-color);\n",
              "    }\n",
              "    80% {\n",
              "      border-color: transparent;\n",
              "      border-right-color: var(--fill-color);\n",
              "      border-bottom-color: var(--fill-color);\n",
              "    }\n",
              "    90% {\n",
              "      border-color: transparent;\n",
              "      border-bottom-color: var(--fill-color);\n",
              "    }\n",
              "  }\n",
              "</style>\n",
              "\n",
              "  <script>\n",
              "    async function quickchart(key) {\n",
              "      const quickchartButtonEl =\n",
              "        document.querySelector('#' + key + ' button');\n",
              "      quickchartButtonEl.disabled = true;  // To prevent multiple clicks.\n",
              "      quickchartButtonEl.classList.add('colab-df-spinner');\n",
              "      try {\n",
              "        const charts = await google.colab.kernel.invokeFunction(\n",
              "            'suggestCharts', [key], {});\n",
              "      } catch (error) {\n",
              "        console.error('Error during call to suggestCharts:', error);\n",
              "      }\n",
              "      quickchartButtonEl.classList.remove('colab-df-spinner');\n",
              "      quickchartButtonEl.classList.add('colab-df-quickchart-complete');\n",
              "    }\n",
              "    (() => {\n",
              "      let quickchartButtonEl =\n",
              "        document.querySelector('#df-bd551747-a1c4-48f4-86a9-3aba59b0b263 button');\n",
              "      quickchartButtonEl.style.display =\n",
              "        google.colab.kernel.accessAllowed ? 'block' : 'none';\n",
              "    })();\n",
              "  </script>\n",
              "</div>\n",
              "    </div>\n",
              "  </div>\n"
            ],
            "application/vnd.google.colaboratory.intrinsic+json": {
              "type": "dataframe",
              "variable_name": "df"
            }
          },
          "metadata": {},
          "execution_count": 14
        }
      ]
    },
    {
      "cell_type": "code",
      "source": [
        "type(df)"
      ],
      "metadata": {
        "colab": {
          "base_uri": "https://localhost:8080/",
          "height": 224
        },
        "id": "5lS5h8KX4xAx",
        "outputId": "31e2c790-3c01-456e-860a-bb859723f324"
      },
      "execution_count": null,
      "outputs": [
        {
          "output_type": "execute_result",
          "data": {
            "text/plain": [
              "pandas.core.frame.DataFrame"
            ],
            "text/html": [
              "<div style=\"max-width:800px; border: 1px solid var(--colab-border-color);\"><style>\n",
              "      pre.function-repr-contents {\n",
              "        overflow-x: auto;\n",
              "        padding: 8px 12px;\n",
              "        max-height: 500px;\n",
              "      }\n",
              "\n",
              "      pre.function-repr-contents.function-repr-contents-collapsed {\n",
              "        cursor: pointer;\n",
              "        max-height: 100px;\n",
              "      }\n",
              "    </style>\n",
              "    <pre style=\"white-space: initial; background:\n",
              "         var(--colab-secondary-surface-color); padding: 8px 12px;\n",
              "         border-bottom: 1px solid var(--colab-border-color);\"><b>pandas.core.frame.DataFrame</b><br/>def __init__(data=None, index: Axes | None=None, columns: Axes | None=None, dtype: Dtype | None=None, copy: bool | None=None) -&gt; None</pre><pre class=\"function-repr-contents function-repr-contents-collapsed\" style=\"\"><a class=\"filepath\" style=\"display:none\" href=\"#\">/usr/local/lib/python3.10/dist-packages/pandas/core/frame.py</a>Two-dimensional, size-mutable, potentially heterogeneous tabular data.\n",
              "\n",
              "Data structure also contains labeled axes (rows and columns).\n",
              "Arithmetic operations align on both row and column labels. Can be\n",
              "thought of as a dict-like container for Series objects. The primary\n",
              "pandas data structure.\n",
              "\n",
              "Parameters\n",
              "----------\n",
              "data : ndarray (structured or homogeneous), Iterable, dict, or DataFrame\n",
              "    Dict can contain Series, arrays, constants, dataclass or list-like objects. If\n",
              "    data is a dict, column order follows insertion-order. If a dict contains Series\n",
              "    which have an index defined, it is aligned by its index. This alignment also\n",
              "    occurs if data is a Series or a DataFrame itself. Alignment is done on\n",
              "    Series/DataFrame inputs.\n",
              "\n",
              "    If data is a list of dicts, column order follows insertion-order.\n",
              "\n",
              "index : Index or array-like\n",
              "    Index to use for resulting frame. Will default to RangeIndex if\n",
              "    no indexing information part of input data and no index provided.\n",
              "columns : Index or array-like\n",
              "    Column labels to use for resulting frame when data does not have them,\n",
              "    defaulting to RangeIndex(0, 1, 2, ..., n). If data contains column labels,\n",
              "    will perform column selection instead.\n",
              "dtype : dtype, default None\n",
              "    Data type to force. Only a single dtype is allowed. If None, infer.\n",
              "copy : bool or None, default None\n",
              "    Copy data from inputs.\n",
              "    For dict data, the default of None behaves like ``copy=True``.  For DataFrame\n",
              "    or 2d ndarray input, the default of None behaves like ``copy=False``.\n",
              "    If data is a dict containing one or more Series (possibly of different dtypes),\n",
              "    ``copy=False`` will ensure that these inputs are not copied.\n",
              "\n",
              "    .. versionchanged:: 1.3.0\n",
              "\n",
              "See Also\n",
              "--------\n",
              "DataFrame.from_records : Constructor from tuples, also record arrays.\n",
              "DataFrame.from_dict : From dicts of Series, arrays, or dicts.\n",
              "read_csv : Read a comma-separated values (csv) file into DataFrame.\n",
              "read_table : Read general delimited file into DataFrame.\n",
              "read_clipboard : Read text from clipboard into DataFrame.\n",
              "\n",
              "Notes\n",
              "-----\n",
              "Please reference the :ref:`User Guide &lt;basics.dataframe&gt;` for more information.\n",
              "\n",
              "Examples\n",
              "--------\n",
              "Constructing DataFrame from a dictionary.\n",
              "\n",
              "&gt;&gt;&gt; d = {&#x27;col1&#x27;: [1, 2], &#x27;col2&#x27;: [3, 4]}\n",
              "&gt;&gt;&gt; df = pd.DataFrame(data=d)\n",
              "&gt;&gt;&gt; df\n",
              "   col1  col2\n",
              "0     1     3\n",
              "1     2     4\n",
              "\n",
              "Notice that the inferred dtype is int64.\n",
              "\n",
              "&gt;&gt;&gt; df.dtypes\n",
              "col1    int64\n",
              "col2    int64\n",
              "dtype: object\n",
              "\n",
              "To enforce a single dtype:\n",
              "\n",
              "&gt;&gt;&gt; df = pd.DataFrame(data=d, dtype=np.int8)\n",
              "&gt;&gt;&gt; df.dtypes\n",
              "col1    int8\n",
              "col2    int8\n",
              "dtype: object\n",
              "\n",
              "Constructing DataFrame from a dictionary including Series:\n",
              "\n",
              "&gt;&gt;&gt; d = {&#x27;col1&#x27;: [0, 1, 2, 3], &#x27;col2&#x27;: pd.Series([2, 3], index=[2, 3])}\n",
              "&gt;&gt;&gt; pd.DataFrame(data=d, index=[0, 1, 2, 3])\n",
              "   col1  col2\n",
              "0     0   NaN\n",
              "1     1   NaN\n",
              "2     2   2.0\n",
              "3     3   3.0\n",
              "\n",
              "Constructing DataFrame from numpy ndarray:\n",
              "\n",
              "&gt;&gt;&gt; df2 = pd.DataFrame(np.array([[1, 2, 3], [4, 5, 6], [7, 8, 9]]),\n",
              "...                    columns=[&#x27;a&#x27;, &#x27;b&#x27;, &#x27;c&#x27;])\n",
              "&gt;&gt;&gt; df2\n",
              "   a  b  c\n",
              "0  1  2  3\n",
              "1  4  5  6\n",
              "2  7  8  9\n",
              "\n",
              "Constructing DataFrame from a numpy ndarray that has labeled columns:\n",
              "\n",
              "&gt;&gt;&gt; data = np.array([(1, 2, 3), (4, 5, 6), (7, 8, 9)],\n",
              "...                 dtype=[(&quot;a&quot;, &quot;i4&quot;), (&quot;b&quot;, &quot;i4&quot;), (&quot;c&quot;, &quot;i4&quot;)])\n",
              "&gt;&gt;&gt; df3 = pd.DataFrame(data, columns=[&#x27;c&#x27;, &#x27;a&#x27;])\n",
              "...\n",
              "&gt;&gt;&gt; df3\n",
              "   c  a\n",
              "0  3  1\n",
              "1  6  4\n",
              "2  9  7\n",
              "\n",
              "Constructing DataFrame from dataclass:\n",
              "\n",
              "&gt;&gt;&gt; from dataclasses import make_dataclass\n",
              "&gt;&gt;&gt; Point = make_dataclass(&quot;Point&quot;, [(&quot;x&quot;, int), (&quot;y&quot;, int)])\n",
              "&gt;&gt;&gt; pd.DataFrame([Point(0, 0), Point(0, 3), Point(2, 3)])\n",
              "   x  y\n",
              "0  0  0\n",
              "1  0  3\n",
              "2  2  3\n",
              "\n",
              "Constructing DataFrame from Series/DataFrame:\n",
              "\n",
              "&gt;&gt;&gt; ser = pd.Series([1, 2, 3], index=[&quot;a&quot;, &quot;b&quot;, &quot;c&quot;])\n",
              "&gt;&gt;&gt; df = pd.DataFrame(data=ser, index=[&quot;a&quot;, &quot;c&quot;])\n",
              "&gt;&gt;&gt; df\n",
              "   0\n",
              "a  1\n",
              "c  3\n",
              "\n",
              "&gt;&gt;&gt; df1 = pd.DataFrame([1, 2, 3], index=[&quot;a&quot;, &quot;b&quot;, &quot;c&quot;], columns=[&quot;x&quot;])\n",
              "&gt;&gt;&gt; df2 = pd.DataFrame(data=df1, index=[&quot;a&quot;, &quot;c&quot;])\n",
              "&gt;&gt;&gt; df2\n",
              "   x\n",
              "a  1\n",
              "c  3</pre>\n",
              "      <script>\n",
              "      if (google.colab.kernel.accessAllowed && google.colab.files && google.colab.files.view) {\n",
              "        for (const element of document.querySelectorAll('.filepath')) {\n",
              "          element.style.display = 'block'\n",
              "          element.onclick = (event) => {\n",
              "            event.preventDefault();\n",
              "            event.stopPropagation();\n",
              "            google.colab.files.view(element.textContent, 490);\n",
              "          };\n",
              "        }\n",
              "      }\n",
              "      for (const element of document.querySelectorAll('.function-repr-contents')) {\n",
              "        element.onclick = (event) => {\n",
              "          event.preventDefault();\n",
              "          event.stopPropagation();\n",
              "          element.classList.toggle('function-repr-contents-collapsed');\n",
              "        };\n",
              "      }\n",
              "      </script>\n",
              "      </div>"
            ]
          },
          "metadata": {},
          "execution_count": 15
        }
      ]
    },
    {
      "cell_type": "markdown",
      "source": [
        "### Графики"
      ],
      "metadata": {
        "id": "10gnKthhCoym"
      }
    },
    {
      "cell_type": "code",
      "source": [
        "df.set_index('point', inplace=True)"
      ],
      "metadata": {
        "id": "NDPMI0Wr-hae"
      },
      "execution_count": 12,
      "outputs": []
    },
    {
      "cell_type": "code",
      "source": [
        "def plot_data(dataset, ficha, markersize=5):\n",
        "    plt.figure(figsize=(10, 6))\n",
        "    plt.scatter(dataset.index, dataset[ficha], s=markersize)\n",
        "    plt.title(f'График {ficha} по времени')\n",
        "    plt.xlabel('Время')\n",
        "    plt.ylabel(f'{ficha}')\n",
        "    plt.grid(True)\n",
        "    plt.show()"
      ],
      "metadata": {
        "id": "83JTKU1c_FDa"
      },
      "execution_count": 95,
      "outputs": []
    },
    {
      "cell_type": "code",
      "source": [
        "plot_data(df, 'call_count')"
      ],
      "metadata": {
        "colab": {
          "base_uri": "https://localhost:8080/",
          "height": 526
        },
        "id": "gnzzzV6O_5LL",
        "outputId": "e0c602b1-5b92-4b01-eb17-5971b8371f6a"
      },
      "execution_count": 24,
      "outputs": [
        {
          "output_type": "display_data",
          "data": {
            "text/plain": [
              "<Figure size 1000x600 with 1 Axes>"
            ],
            "image/png": "[encoded data removed]"
          },
          "metadata": {}
        }
      ]
    },
    {
      "cell_type": "code",
      "source": [
        "plot_data(df, 'total_exclusive_time')"
      ],
      "metadata": {
        "colab": {
          "base_uri": "https://localhost:8080/",
          "height": 549
        },
        "id": "kUpGOvPNALsa",
        "outputId": "8f004345-369a-441b-8627-206e628fe1b0"
      },
      "execution_count": 25,
      "outputs": [
        {
          "output_type": "display_data",
          "data": {
            "text/plain": [
              "<Figure size 1000x600 with 1 Axes>"
            ],
            "image/png": "[encoded data removed]"
          },
          "metadata": {}
        }
      ]
    },
    {
      "cell_type": "code",
      "source": [
        "plot_data(df, 'total_call_time')"
      ],
      "metadata": {
        "colab": {
          "base_uri": "https://localhost:8080/",
          "height": 549
        },
        "id": "XRVhjT6f8e2v",
        "outputId": "1bf70f23-d329-4104-f956-6cf5bf012dbc"
      },
      "execution_count": 26,
      "outputs": [
        {
          "output_type": "display_data",
          "data": {
            "text/plain": [
              "<Figure size 1000x600 with 1 Axes>"
            ],
            "image/png": "[encoded data removed]"
          },
          "metadata": {}
        }
      ]
    },
    {
      "cell_type": "code",
      "source": [
        "plot_data(df, 'min_call_time')"
      ],
      "metadata": {
        "colab": {
          "base_uri": "https://localhost:8080/",
          "height": 540
        },
        "id": "oz_NcFYfA5j0",
        "outputId": "6a3ade2d-8b05-4ac2-acf4-ca14dbabc1f8"
      },
      "execution_count": 28,
      "outputs": [
        {
          "output_type": "display_data",
          "data": {
            "text/plain": [
              "<Figure size 1000x600 with 1 Axes>"
            ],
            "image/png": "[encoded data removed]"
          },
          "metadata": {}
        }
      ]
    },
    {
      "cell_type": "code",
      "source": [
        "plot_data(df, 'max_call_time')"
      ],
      "metadata": {
        "colab": {
          "base_uri": "https://localhost:8080/",
          "height": 540
        },
        "id": "IClEqU1OBY8p",
        "outputId": "7441a0d9-b82d-404c-9e2d-c3296a243aa5"
      },
      "execution_count": 30,
      "outputs": [
        {
          "output_type": "display_data",
          "data": {
            "text/plain": [
              "<Figure size 1000x600 with 1 Axes>"
            ],
            "image/png": "[encoded data removed]"
          },
          "metadata": {}
        }
      ]
    },
    {
      "cell_type": "code",
      "source": [
        "plot_data(df, 'sum_of_squares')"
      ],
      "metadata": {
        "colab": {
          "base_uri": "https://localhost:8080/",
          "height": 540
        },
        "id": "LW2sSqCIBd5I",
        "outputId": "5888751e-dfe3-4abd-dbed-dbd777dcedc6"
      },
      "execution_count": 31,
      "outputs": [
        {
          "output_type": "display_data",
          "data": {
            "text/plain": [
              "<Figure size 1000x600 with 1 Axes>"
            ],
            "image/png": "[encoded data removed]"
          },
          "metadata": {}
        }
      ]
    },
    {
      "cell_type": "code",
      "source": [
        "plot_data(df, 'instances')"
      ],
      "metadata": {
        "colab": {
          "base_uri": "https://localhost:8080/",
          "height": 541
        },
        "id": "mSJ6WWTIBhrU",
        "outputId": "475cec5a-d8d0-4294-b153-da4450e0dd0f"
      },
      "execution_count": 32,
      "outputs": [
        {
          "output_type": "display_data",
          "data": {
            "text/plain": [
              "<Figure size 1000x600 with 1 Axes>"
            ],
            "image/png": "[encoded data removed]"
          },
          "metadata": {}
        }
      ]
    },
    {
      "cell_type": "markdown",
      "source": [
        "### Графики и индикаторы"
      ],
      "metadata": {
        "id": "c65OUpfwCuyr"
      }
    },
    {
      "cell_type": "code",
      "source": [
        "df.index = pd.to_datetime(df.index)\n",
        "\n",
        "start_date = '2024-04-19 23:33:00'\n",
        "end_date = '2024-04-21 23:33:00'\n",
        "\n",
        "selected_df = df.loc[start_date:end_date]"
      ],
      "metadata": {
        "id": "KY_-hG1zDM67"
      },
      "execution_count": 196,
      "outputs": []
    },
    {
      "cell_type": "code",
      "source": [
        "selected_df['total_call_time'] = selected_df['total_call_time'].astype(float)"
      ],
      "metadata": {
        "id": "Q50KcdWHXNPD"
      },
      "execution_count": 197,
      "outputs": []
    },
    {
      "cell_type": "code",
      "source": [
        "selected_df.shape"
      ],
      "metadata": {
        "colab": {
          "base_uri": "https://localhost:8080/"
        },
        "id": "4lb1HnqFIeg6",
        "outputId": "5426e933-f80a-4a05-e343-b69ad7b2044d"
      },
      "execution_count": 198,
      "outputs": [
        {
          "output_type": "execute_result",
          "data": {
            "text/plain": [
              "(1223827, 12)"
            ]
          },
          "metadata": {},
          "execution_count": 198
        }
      ]
    },
    {
      "cell_type": "code",
      "source": [
        "selected_df = selected_df[selected_df['total_call_time'] > 1150000]\n",
        "selected_df['total_call_time'].head()\n",
        "selected_df.shape"
      ],
      "metadata": {
        "colab": {
          "base_uri": "https://localhost:8080/"
        },
        "id": "Thh0qTFXSleK",
        "outputId": "a7f65193-f024-4668-cea9-52a1ec7a1308"
      },
      "execution_count": 199,
      "outputs": [
        {
          "output_type": "execute_result",
          "data": {
            "text/plain": [
              "(2372, 12)"
            ]
          },
          "metadata": {},
          "execution_count": 199
        }
      ]
    },
    {
      "cell_type": "code",
      "source": [
        "df = df.drop(['MACD', 'MACD_Diff'], axis=1)"
      ],
      "metadata": {
        "id": "6UNvnGJrbIV1"
      },
      "execution_count": null,
      "outputs": []
    },
    {
      "cell_type": "code",
      "source": [
        "selected_df.head(5)"
      ],
      "metadata": {
        "colab": {
          "base_uri": "https://localhost:8080/",
          "height": 344
        },
        "id": "UcPnZmX5Zs-Y",
        "outputId": "c3e5a399-ef9f-4dbc-e954-3d6faaa98203"
      },
      "execution_count": 201,
      "outputs": [
        {
          "output_type": "execute_result",
          "data": {
            "text/plain": [
              "                     call_count  total_call_time  total_exclusive_time  \\\n",
              "point                                                                    \n",
              "2024-04-19 23:33:00      4195.0        2035491.0             2035491.0   \n",
              "2024-04-19 23:34:00      4363.0        2096969.0             2096969.0   \n",
              "2024-04-19 23:35:00      4432.5        2113595.5             2113595.5   \n",
              "2024-04-19 23:36:00      4300.5        2053526.0             2053526.0   \n",
              "2024-04-19 23:37:00      4187.5        2021291.0             2021291.0   \n",
              "\n",
              "                     min_call_time  max_call_time  sum_of_squares  instances  \\\n",
              "point                                                                          \n",
              "2024-04-19 23:33:00          201.0        36583.0    5.408571e+09        1.0   \n",
              "2024-04-19 23:34:00          201.0        36220.0    4.832825e+09        1.0   \n",
              "2024-04-19 23:35:00          201.0        36220.0    4.802707e+09        1.0   \n",
              "2024-04-19 23:36:00          201.0        31720.0    4.723840e+09        1.0   \n",
              "2024-04-19 23:37:00          201.0        31720.0    4.883476e+09        1.0   \n",
              "\n",
              "                             MACD   MACD_Signal     MACD_Diff  \\\n",
              "point                                                           \n",
              "2024-04-19 23:33:00   8859.696573 -10174.075543  19033.772115   \n",
              "2024-04-19 23:34:00  15880.438753  -4963.172684  20843.611436   \n",
              "2024-04-19 23:35:00  22526.377056    534.737264  21991.639792   \n",
              "2024-04-19 23:36:00  22684.728980   4964.735608  17719.993373   \n",
              "2024-04-19 23:37:00  19978.825456   7967.553577  12011.271879   \n",
              "\n",
              "                     total_call_time_sma_5  SMA_change_total_call_time_5  \n",
              "point                                                                     \n",
              "2024-04-19 23:33:00              2035491.0                       -9641.0  \n",
              "2024-04-19 23:34:00              2096969.0                       61478.0  \n",
              "2024-04-19 23:35:00              2113595.5                       16626.5  \n",
              "2024-04-19 23:36:00              2053526.0                      -60069.5  \n",
              "2024-04-19 23:37:00              2021291.0                      -32235.0  "
            ],
            "text/html": [
              "\n",
              "  <div id=\"df-b1bc9711-774d-4741-bda4-bca438e3a767\" class=\"colab-df-container\">\n",
              "    <div>\n",
              "<style scoped>\n",
              "    .dataframe tbody tr th:only-of-type {\n",
              "        vertical-align: middle;\n",
              "    }\n",
              "\n",
              "    .dataframe tbody tr th {\n",
              "        vertical-align: top;\n",
              "    }\n",
              "\n",
              "    .dataframe thead th {\n",
              "        text-align: right;\n",
              "    }\n",
              "</style>\n",
              "<table border=\"1\" class=\"dataframe\">\n",
              "  <thead>\n",
              "    <tr style=\"text-align: right;\">\n",
              "      <th></th>\n",
              "      <th>call_count</th>\n",
              "      <th>total_call_time</th>\n",
              "      <th>total_exclusive_time</th>\n",
              "      <th>min_call_time</th>\n",
              "      <th>max_call_time</th>\n",
              "      <th>sum_of_squares</th>\n",
              "      <th>instances</th>\n",
              "      <th>MACD</th>\n",
              "      <th>MACD_Signal</th>\n",
              "      <th>MACD_Diff</th>\n",
              "      <th>total_call_time_sma_5</th>\n",
              "      <th>SMA_change_total_call_time_5</th>\n",
              "    </tr>\n",
              "    <tr>\n",
              "      <th>point</th>\n",
              "      <th></th>\n",
              "      <th></th>\n",
              "      <th></th>\n",
              "      <th></th>\n",
              "      <th></th>\n",
              "      <th></th>\n",
              "      <th></th>\n",
              "      <th></th>\n",
              "      <th></th>\n",
              "      <th></th>\n",
              "      <th></th>\n",
              "      <th></th>\n",
              "    </tr>\n",
              "  </thead>\n",
              "  <tbody>\n",
              "    <tr>\n",
              "      <th>2024-04-19 23:33:00</th>\n",
              "      <td>4195.0</td>\n",
              "      <td>2035491.0</td>\n",
              "      <td>2035491.0</td>\n",
              "      <td>201.0</td>\n",
              "      <td>36583.0</td>\n",
              "      <td>5.408571e+09</td>\n",
              "      <td>1.0</td>\n",
              "      <td>8859.696573</td>\n",
              "      <td>-10174.075543</td>\n",
              "      <td>19033.772115</td>\n",
              "      <td>2035491.0</td>\n",
              "      <td>-9641.0</td>\n",
              "    </tr>\n",
              "    <tr>\n",
              "      <th>2024-04-19 23:34:00</th>\n",
              "      <td>4363.0</td>\n",
              "      <td>2096969.0</td>\n",
              "      <td>2096969.0</td>\n",
              "      <td>201.0</td>\n",
              "      <td>36220.0</td>\n",
              "      <td>4.832825e+09</td>\n",
              "      <td>1.0</td>\n",
              "      <td>15880.438753</td>\n",
              "      <td>-4963.172684</td>\n",
              "      <td>20843.611436</td>\n",
              "      <td>2096969.0</td>\n",
              "      <td>61478.0</td>\n",
              "    </tr>\n",
              "    <tr>\n",
              "      <th>2024-04-19 23:35:00</th>\n",
              "      <td>4432.5</td>\n",
              "      <td>2113595.5</td>\n",
              "      <td>2113595.5</td>\n",
              "      <td>201.0</td>\n",
              "      <td>36220.0</td>\n",
              "      <td>4.802707e+09</td>\n",
              "      <td>1.0</td>\n",
              "      <td>22526.377056</td>\n",
              "      <td>534.737264</td>\n",
              "      <td>21991.639792</td>\n",
              "      <td>2113595.5</td>\n",
              "      <td>16626.5</td>\n",
              "    </tr>\n",
              "    <tr>\n",
              "      <th>2024-04-19 23:36:00</th>\n",
              "      <td>4300.5</td>\n",
              "      <td>2053526.0</td>\n",
              "      <td>2053526.0</td>\n",
              "      <td>201.0</td>\n",
              "      <td>31720.0</td>\n",
              "      <td>4.723840e+09</td>\n",
              "      <td>1.0</td>\n",
              "      <td>22684.728980</td>\n",
              "      <td>4964.735608</td>\n",
              "      <td>17719.993373</td>\n",
              "      <td>2053526.0</td>\n",
              "      <td>-60069.5</td>\n",
              "    </tr>\n",
              "    <tr>\n",
              "      <th>2024-04-19 23:37:00</th>\n",
              "      <td>4187.5</td>\n",
              "      <td>2021291.0</td>\n",
              "      <td>2021291.0</td>\n",
              "      <td>201.0</td>\n",
              "      <td>31720.0</td>\n",
              "      <td>4.883476e+09</td>\n",
              "      <td>1.0</td>\n",
              "      <td>19978.825456</td>\n",
              "      <td>7967.553577</td>\n",
              "      <td>12011.271879</td>\n",
              "      <td>2021291.0</td>\n",
              "      <td>-32235.0</td>\n",
              "    </tr>\n",
              "  </tbody>\n",
              "</table>\n",
              "</div>\n",
              "    <div class=\"colab-df-buttons\">\n",
              "\n",
              "  <div class=\"colab-df-container\">\n",
              "    <button class=\"colab-df-convert\" onclick=\"convertToInteractive('df-b1bc9711-774d-4741-bda4-bca438e3a767')\"\n",
              "            title=\"Convert this dataframe to an interactive table.\"\n",
              "            style=\"display:none;\">\n",
              "\n",
              "  <svg xmlns=\"http://www.w3.org/2000/svg\" height=\"24px\" viewBox=\"0 -960 960 960\">\n",
              "    <path d=\"M120-120v-720h720v720H120Zm60-500h600v-160H180v160Zm220 220h160v-160H400v160Zm0 220h160v-160H400v160ZM180-400h160v-160H180v160Zm440 0h160v-160H620v160ZM180-180h160v-160H180v160Zm440 0h160v-160H620v160Z\"/>\n",
              "  </svg>\n",
              "    </button>\n",
              "\n",
              "  <style>\n",
              "    .colab-df-container {\n",
              "      display:flex;\n",
              "      gap: 12px;\n",
              "    }\n",
              "\n",
              "    .colab-df-convert {\n",
              "      background-color: #E8F0FE;\n",
              "      border: none;\n",
              "      border-radius: 50%;\n",
              "      cursor: pointer;\n",
              "      display: none;\n",
              "      fill: #1967D2;\n",
              "      height: 32px;\n",
              "      padding: 0 0 0 0;\n",
              "      width: 32px;\n",
              "    }\n",
              "\n",
              "    .colab-df-convert:hover {\n",
              "      background-color: #E2EBFA;\n",
              "      box-shadow: 0px 1px 2px rgba(60, 64, 67, 0.3), 0px 1px 3px 1px rgba(60, 64, 67, 0.15);\n",
              "      fill: #174EA6;\n",
              "    }\n",
              "\n",
              "    .colab-df-buttons div {\n",
              "      margin-bottom: 4px;\n",
              "    }\n",
              "\n",
              "    [theme=dark] .colab-df-convert {\n",
              "      background-color: #3B4455;\n",
              "      fill: #D2E3FC;\n",
              "    }\n",
              "\n",
              "    [theme=dark] .colab-df-convert:hover {\n",
              "      background-color: #434B5C;\n",
              "      box-shadow: 0px 1px 3px 1px rgba(0, 0, 0, 0.15);\n",
              "      filter: drop-shadow(0px 1px 2px rgba(0, 0, 0, 0.3));\n",
              "      fill: #FFFFFF;\n",
              "    }\n",
              "  </style>\n",
              "\n",
              "    <script>\n",
              "      const buttonEl =\n",
              "        document.querySelector('#df-b1bc9711-774d-4741-bda4-bca438e3a767 button.colab-df-convert');\n",
              "      buttonEl.style.display =\n",
              "        google.colab.kernel.accessAllowed ? 'block' : 'none';\n",
              "\n",
              "      async function convertToInteractive(key) {\n",
              "        const element = document.querySelector('#df-b1bc9711-774d-4741-bda4-bca438e3a767');\n",
              "        const dataTable =\n",
              "          await google.colab.kernel.invokeFunction('convertToInteractive',\n",
              "                                                    [key], {});\n",
              "        if (!dataTable) return;\n",
              "\n",
              "        const docLinkHtml = 'Like what you see? Visit the ' +\n",
              "          '<a target=\"_blank\" href=https://colab.research.google.com/notebooks/data_table.ipynb>data table notebook</a>'\n",
              "          + ' to learn more about interactive tables.';\n",
              "        element.innerHTML = '';\n",
              "        dataTable['output_type'] = 'display_data';\n",
              "        await google.colab.output.renderOutput(dataTable, element);\n",
              "        const docLink = document.createElement('div');\n",
              "        docLink.innerHTML = docLinkHtml;\n",
              "        element.appendChild(docLink);\n",
              "      }\n",
              "    </script>\n",
              "  </div>\n",
              "\n",
              "\n",
              "<div id=\"df-ccf3443a-9c84-4e44-b698-df4cbfd2c50f\">\n",
              "  <button class=\"colab-df-quickchart\" onclick=\"quickchart('df-ccf3443a-9c84-4e44-b698-df4cbfd2c50f')\"\n",
              "            title=\"Suggest charts\"\n",
              "            style=\"display:none;\">\n",
              "\n",
              "<svg xmlns=\"http://www.w3.org/2000/svg\" height=\"24px\"viewBox=\"0 0 24 24\"\n",
              "     width=\"24px\">\n",
              "    <g>\n",
              "        <path d=\"M19 3H5c-1.1 0-2 .9-2 2v14c0 1.1.9 2 2 2h14c1.1 0 2-.9 2-2V5c0-1.1-.9-2-2-2zM9 17H7v-7h2v7zm4 0h-2V7h2v10zm4 0h-2v-4h2v4z\"/>\n",
              "    </g>\n",
              "</svg>\n",
              "  </button>\n",
              "\n",
              "<style>\n",
              "  .colab-df-quickchart {\n",
              "      --bg-color: #E8F0FE;\n",
              "      --fill-color: #1967D2;\n",
              "      --hover-bg-color: #E2EBFA;\n",
              "      --hover-fill-color: #174EA6;\n",
              "      --disabled-fill-color: #AAA;\n",
              "      --disabled-bg-color: #DDD;\n",
              "  }\n",
              "\n",
              "  [theme=dark] .colab-df-quickchart {\n",
              "      --bg-color: #3B4455;\n",
              "      --fill-color: #D2E3FC;\n",
              "      --hover-bg-color: #434B5C;\n",
              "      --hover-fill-color: #FFFFFF;\n",
              "      --disabled-bg-color: #3B4455;\n",
              "      --disabled-fill-color: #666;\n",
              "  }\n",
              "\n",
              "  .colab-df-quickchart {\n",
              "    background-color: var(--bg-color);\n",
              "    border: none;\n",
              "    border-radius: 50%;\n",
              "    cursor: pointer;\n",
              "    display: none;\n",
              "    fill: var(--fill-color);\n",
              "    height: 32px;\n",
              "    padding: 0;\n",
              "    width: 32px;\n",
              "  }\n",
              "\n",
              "  .colab-df-quickchart:hover {\n",
              "    background-color: var(--hover-bg-color);\n",
              "    box-shadow: 0 1px 2px rgba(60, 64, 67, 0.3), 0 1px 3px 1px rgba(60, 64, 67, 0.15);\n",
              "    fill: var(--button-hover-fill-color);\n",
              "  }\n",
              "\n",
              "  .colab-df-quickchart-complete:disabled,\n",
              "  .colab-df-quickchart-complete:disabled:hover {\n",
              "    background-color: var(--disabled-bg-color);\n",
              "    fill: var(--disabled-fill-color);\n",
              "    box-shadow: none;\n",
              "  }\n",
              "\n",
              "  .colab-df-spinner {\n",
              "    border: 2px solid var(--fill-color);\n",
              "    border-color: transparent;\n",
              "    border-bottom-color: var(--fill-color);\n",
              "    animation:\n",
              "      spin 1s steps(1) infinite;\n",
              "  }\n",
              "\n",
              "  @keyframes spin {\n",
              "    0% {\n",
              "      border-color: transparent;\n",
              "      border-bottom-color: var(--fill-color);\n",
              "      border-left-color: var(--fill-color);\n",
              "    }\n",
              "    20% {\n",
              "      border-color: transparent;\n",
              "      border-left-color: var(--fill-color);\n",
              "      border-top-color: var(--fill-color);\n",
              "    }\n",
              "    30% {\n",
              "      border-color: transparent;\n",
              "      border-left-color: var(--fill-color);\n",
              "      border-top-color: var(--fill-color);\n",
              "      border-right-color: var(--fill-color);\n",
              "    }\n",
              "    40% {\n",
              "      border-color: transparent;\n",
              "      border-right-color: var(--fill-color);\n",
              "      border-top-color: var(--fill-color);\n",
              "    }\n",
              "    60% {\n",
              "      border-color: transparent;\n",
              "      border-right-color: var(--fill-color);\n",
              "    }\n",
              "    80% {\n",
              "      border-color: transparent;\n",
              "      border-right-color: var(--fill-color);\n",
              "      border-bottom-color: var(--fill-color);\n",
              "    }\n",
              "    90% {\n",
              "      border-color: transparent;\n",
              "      border-bottom-color: var(--fill-color);\n",
              "    }\n",
              "  }\n",
              "</style>\n",
              "\n",
              "  <script>\n",
              "    async function quickchart(key) {\n",
              "      const quickchartButtonEl =\n",
              "        document.querySelector('#' + key + ' button');\n",
              "      quickchartButtonEl.disabled = true;  // To prevent multiple clicks.\n",
              "      quickchartButtonEl.classList.add('colab-df-spinner');\n",
              "      try {\n",
              "        const charts = await google.colab.kernel.invokeFunction(\n",
              "            'suggestCharts', [key], {});\n",
              "      } catch (error) {\n",
              "        console.error('Error during call to suggestCharts:', error);\n",
              "      }\n",
              "      quickchartButtonEl.classList.remove('colab-df-spinner');\n",
              "      quickchartButtonEl.classList.add('colab-df-quickchart-complete');\n",
              "    }\n",
              "    (() => {\n",
              "      let quickchartButtonEl =\n",
              "        document.querySelector('#df-ccf3443a-9c84-4e44-b698-df4cbfd2c50f button');\n",
              "      quickchartButtonEl.style.display =\n",
              "        google.colab.kernel.accessAllowed ? 'block' : 'none';\n",
              "    })();\n",
              "  </script>\n",
              "</div>\n",
              "    </div>\n",
              "  </div>\n"
            ],
            "application/vnd.google.colaboratory.intrinsic+json": {
              "type": "dataframe",
              "variable_name": "selected_df",
              "summary": "{\n  \"name\": \"selected_df\",\n  \"rows\": 2372,\n  \"fields\": [\n    {\n      \"column\": \"point\",\n      \"properties\": {\n        \"dtype\": \"date\",\n        \"min\": \"2024-04-19 23:33:00\",\n        \"max\": \"2024-04-21 23:33:00\",\n        \"num_unique_values\": 2372,\n        \"samples\": [\n          \"2024-04-20 17:50:00\",\n          \"2024-04-21 09:11:00\",\n          \"2024-04-20 01:13:00\"\n        ],\n        \"semantic_type\": \"\",\n        \"description\": \"\"\n      }\n    },\n    {\n      \"column\": \"call_count\",\n      \"properties\": {\n        \"dtype\": \"number\",\n        \"std\": 902.821837926845,\n        \"min\": 2108.0,\n        \"max\": 9047.0,\n        \"num_unique_values\": 1880,\n        \"samples\": [\n          2670.0,\n          4453.0,\n          4104.0\n        ],\n        \"semantic_type\": \"\",\n        \"description\": \"\"\n      }\n    },\n    {\n      \"column\": \"total_call_time\",\n      \"properties\": {\n        \"dtype\": \"number\",\n        \"std\": 399835.6519517513,\n        \"min\": 1150364.5,\n        \"max\": 4242140.5,\n        \"num_unique_values\": 2371,\n        \"samples\": [\n          1961275.0,\n          2138883.0,\n          1350233.0\n        ],\n        \"semantic_type\": \"\",\n        \"description\": \"\"\n      }\n    },\n    {\n      \"column\": \"total_exclusive_time\",\n      \"properties\": {\n        \"dtype\": \"number\",\n        \"std\": 399835.6519517513,\n        \"min\": 1150364.5,\n        \"max\": 4242140.5,\n        \"num_unique_values\": 2371,\n        \"samples\": [\n          1961275.0,\n          2138883.0,\n          1350233.0\n        ],\n        \"semantic_type\": \"\",\n        \"description\": \"\"\n      }\n    },\n    {\n      \"column\": \"min_call_time\",\n      \"properties\": {\n        \"dtype\": \"number\",\n        \"std\": 0.0,\n        \"min\": 201.0,\n        \"max\": 201.0,\n        \"num_unique_values\": 1,\n        \"samples\": [\n          201.0\n        ],\n        \"semantic_type\": \"\",\n        \"description\": \"\"\n      }\n    },\n    {\n      \"column\": \"max_call_time\",\n      \"properties\": {\n        \"dtype\": \"number\",\n        \"std\": 19081.26159413614,\n        \"min\": 24515.0,\n        \"max\": 138706.0,\n        \"num_unique_values\": 494,\n        \"samples\": [\n          53872.0\n        ],\n        \"semantic_type\": \"\",\n        \"description\": \"\"\n      }\n    },\n    {\n      \"column\": \"sum_of_squares\",\n      \"properties\": {\n        \"dtype\": \"number\",\n        \"std\": 1553110140.0594912,\n        \"min\": 3199301625.0,\n        \"max\": 16145979093.5,\n        \"num_unique_values\": 2372,\n        \"samples\": [\n          4484731927.0\n        ],\n        \"semantic_type\": \"\",\n        \"description\": \"\"\n      }\n    },\n    {\n      \"column\": \"instances\",\n      \"properties\": {\n        \"dtype\": \"number\",\n        \"std\": 0.0,\n        \"min\": 1.0,\n        \"max\": 1.0,\n        \"num_unique_values\": 1,\n        \"samples\": [\n          1.0\n        ],\n        \"semantic_type\": \"\",\n        \"description\": \"\"\n      }\n    },\n    {\n      \"column\": \"MACD\",\n      \"properties\": {\n        \"dtype\": \"number\",\n        \"std\": 86874.7438443942,\n        \"min\": -201450.19980018027,\n        \"max\": 552894.1335123016,\n        \"num_unique_values\": 2372,\n        \"samples\": [\n          180885.4379668627\n        ],\n        \"semantic_type\": \"\",\n        \"description\": \"\"\n      }\n    },\n    {\n      \"column\": \"MACD_Signal\",\n      \"properties\": {\n        \"dtype\": \"number\",\n        \"std\": 79222.98586155105,\n        \"min\": -172081.19177479498,\n        \"max\": 501975.8537852151,\n        \"num_unique_values\": 2372,\n        \"samples\": [\n          261509.19949765998\n        ],\n        \"semantic_type\": \"\",\n        \"description\": \"\"\n      }\n    },\n    {\n      \"column\": \"MACD_Diff\",\n      \"properties\": {\n        \"dtype\": \"number\",\n        \"std\": 31823.649448823227,\n        \"min\": -158814.2392674459,\n        \"max\": 251219.01227463604,\n        \"num_unique_values\": 2372,\n        \"samples\": [\n          -80623.76153079729\n        ],\n        \"semantic_type\": \"\",\n        \"description\": \"\"\n      }\n    },\n    {\n      \"column\": \"total_call_time_sma_5\",\n      \"properties\": {\n        \"dtype\": \"number\",\n        \"std\": 399835.6519517513,\n        \"min\": 1150364.5,\n        \"max\": 4242140.5,\n        \"num_unique_values\": 2371,\n        \"samples\": [\n          1961275.0\n        ],\n        \"semantic_type\": \"\",\n        \"description\": \"\"\n      }\n    },\n    {\n      \"column\": \"SMA_change_total_call_time_5\",\n      \"properties\": {\n        \"dtype\": \"number\",\n        \"std\": 75143.65388326504,\n        \"min\": -203974.5,\n        \"max\": 2041665.45604,\n        \"num_unique_values\": 2360,\n        \"samples\": [\n          51359.5\n        ],\n        \"semantic_type\": \"\",\n        \"description\": \"\"\n      }\n    }\n  ]\n}"
            }
          },
          "metadata": {},
          "execution_count": 201
        }
      ]
    },
    {
      "cell_type": "code",
      "source": [
        "def plot_data(dataset, fichas, threshold=1, markersize=1, linewidth=0.5):\n",
        "    plt.figure(figsize=(10, 6))\n",
        "\n",
        "    for ficha in fichas:\n",
        "        filtered_data = dataset[dataset[ficha] >= threshold]\n",
        "        plt.plot(filtered_data.index, filtered_data[ficha], marker='o',\n",
        "                 markersize=markersize, linestyle='-', linewidth=linewidth,\n",
        "                 label=ficha)\n",
        "\n",
        "    plt.title('График нескольких фичей по времени')\n",
        "    plt.xlabel('Время')\n",
        "    plt.ylabel('Значение')\n",
        "    plt.grid(True)\n",
        "    plt.legend()\n",
        "    plt.show()"
      ],
      "metadata": {
        "id": "qvZEKimcaR1G"
      },
      "execution_count": 193,
      "outputs": []
    },
    {
      "cell_type": "code",
      "source": [
        "plot_data(selected_df, ['total_call_time'],\n",
        "          threshold=0, markersize=1, linewidth=0.5)"
      ],
      "metadata": {
        "colab": {
          "base_uri": "https://localhost:8080/",
          "height": 548
        },
        "id": "plk6EqZ8aSbi",
        "outputId": "69131a2d-67b3-4baf-cee7-33db6dfe468a"
      },
      "execution_count": 204,
      "outputs": [
        {
          "output_type": "display_data",
          "data": {
            "text/plain": [
              "<Figure size 1000x600 with 1 Axes>"
            ],
            "image/png": "[encoded data removed]"
          },
          "metadata": {}
        }
      ]
    },
    {
      "cell_type": "code",
      "source": [
        "import matplotlib.pyplot as plt\n",
        "\n",
        "# Получаем данные из датафрейма\n",
        "x = df.index\n",
        "macd_signal = df['MACD_Signal']\n",
        "total_call_time = df['total_call_time']\n",
        "\n",
        "# Создаем фигуру и две оси\n",
        "fig, ax1 = plt.subplots(figsize=(12, 6))\n",
        "\n",
        "# Строим график MACD_Signal на первой оси\n",
        "ax1.plot(x, macd_signal, color='blue', label='MACD_Signal')\n",
        "ax1.set_xlabel('Date')\n",
        "ax1.set_ylabel('MACD_Signal', color='blue')\n",
        "ax1.tick_params('y', colors='blue')\n",
        "\n",
        "# Создаем вторую ось для total_call_time\n",
        "ax2 = ax1.twinx()\n",
        "\n",
        "# Строим график total_call_time на второй оси\n",
        "ax2.plot(x, total_call_time, color='red', label='total_call_time')\n",
        "ax2.set_ylabel('total_call_time', color='red')\n",
        "ax2.tick_params('y', colors='red')\n",
        "\n",
        "# Объединяем легенды\n",
        "lines1, labels1 = ax1.get_legend_handles_labels()\n",
        "lines2, labels2 = ax2.get_legend_handles_labels()\n",
        "ax1.legend(lines1 + lines2, labels1 + labels2, loc='upper left')\n",
        "\n",
        "# Показываем график\n",
        "plt.title('MACD_Signal and total_call_time')\n",
        "plt.show()"
      ],
      "metadata": {
        "colab": {
          "base_uri": "https://localhost:8080/",
          "height": 454
        },
        "id": "0oUp9Tcgb8j0",
        "outputId": "2c65b797-0ced-4126-849b-b481f30cc528"
      },
      "execution_count": 205,
      "outputs": [
        {
          "output_type": "display_data",
          "data": {
            "text/plain": [
              "<Figure size 1200x600 with 2 Axes>"
            ],
            "image/png": "[encoded data removed]"
          },
          "metadata": {}
        }
      ]
    },
    {
      "cell_type": "code",
      "source": [
        "#1.1. Простое_скользящее_среднее (sma) и уклон\n",
        "def add_indicators_sma(dataset):\n",
        "    list_name_sma = ['5']\n",
        "    list_wind_sma = [1]\n",
        "    list_param = ['total_call_time']\n",
        "    for par in range(len(list_param)):\n",
        "        for itr in range(len(list_name_sma)):\n",
        "            df[f'{list_param[par]}_sma_{list_name_sma[itr]}'] = ta.trend.sma_indicator(df[list_param[par]], window=list_wind_sma[itr])\n",
        "            df[f'SMA_change_{list_param[par]}_{list_name_sma[itr]}'] = df[f'{list_param[par]}_sma_{list_name_sma[itr]}'].diff()\n",
        "            df[f'Slope_SMA_change_{list_param[par]}_{list_name_sma[itr]}'] = np.arctan(dataset[f'SMA_change_{list_param[par]}_{list_name_sma[itr]}']).apply(np.rad2deg)\n",
        "\n",
        "add_indicators(df)"
      ],
      "metadata": {
        "id": "0uhdbdoqSBiV"
      },
      "execution_count": null,
      "outputs": []
    },
    {
      "cell_type": "code",
      "source": [],
      "metadata": {
        "id": "HR9qIldnSBfr"
      },
      "execution_count": null,
      "outputs": []
    },
    {
      "cell_type": "code",
      "source": [],
      "metadata": {
        "id": "JZfDfcDaSBdB"
      },
      "execution_count": null,
      "outputs": []
    },
    {
      "cell_type": "code",
      "source": [],
      "metadata": {
        "id": "c0tiIRrrDQ-U"
      },
      "execution_count": null,
      "outputs": []
    },
    {
      "cell_type": "code",
      "source": [
        "# Функция для построения графика MACD\n",
        "def plot_macd(dataframe, title):\n",
        "    plt.figure(figsize=(12, 8))\n",
        "\n",
        "    macd = ta.trend.MACD(df['total_call_time'])\n",
        "    df['MACD'] = macd.macd()\n",
        "    df['MACD_Signal'] = macd.macd_signal()\n",
        "    df['MACD_Diff'] = macd.macd_diff()\n",
        "\n",
        "    # Сигнальная линия MACD\n",
        "    plt.plot(dataframe.index, dataframe['MACD'], label='MACD', color='blue')\n",
        "\n",
        "    # Сигнальная линия MACD\n",
        "    plt.plot(dataframe.index, dataframe['MACD_Signal'], label='MACD Signal Line', linestyle='--', color='red')\n",
        "\n",
        "    # Разница MACD\n",
        "    plt.fill_between(dataframe.index, dataframe['MACD'],\n",
        "                     dataframe['MACD_Signal'],\n",
        "                     where=(dataframe['MACD']>dataframe['MACD_Signal']),\n",
        "                     interpolate=True, alpha=0.35, color='green')\n",
        "    plt.fill_between(dataframe.index, dataframe['MACD'],\n",
        "                     dataframe['MACD_Signal'],\n",
        "                     where=(dataframe['MACD']<dataframe['MACD_Signal']),\n",
        "                     interpolate=True, alpha=0.35, color='yellow')\n",
        "\n",
        "    plt.title(title)\n",
        "    plt.xlabel('Дата')\n",
        "    plt.ylabel('MACD')\n",
        "    plt.legend(loc='upper left')\n",
        "    plt.grid(True)\n",
        "    plt.show()\n",
        "\n",
        "# Построение графика MACD\n",
        "plot_macd(selected_df, 'MACD, MACD Signal Line и MACD Difference')"
      ],
      "metadata": {
        "colab": {
          "base_uri": "https://localhost:8080/",
          "height": 515
        },
        "id": "bBXwUrWBDQ5t",
        "outputId": "a5174a2d-6594-4d01-b8a8-673e21acbfac"
      },
      "execution_count": 74,
      "outputs": [
        {
          "output_type": "error",
          "ename": "KeyError",
          "evalue": "'MACD'",
          "traceback": [
            "\u001b[0;31m---------------------------------------------------------------------------\u001b[0m",
            "\u001b[0;31mKeyError\u001b[0m                                  Traceback (most recent call last)",
            "\u001b[0;32m/usr/local/lib/python3.10/dist-packages/pandas/core/indexes/base.py\u001b[0m in \u001b[0;36mget_loc\u001b[0;34m(self, key)\u001b[0m\n\u001b[1;32m   3652\u001b[0m         \u001b[0;32mtry\u001b[0m\u001b[0;34m:\u001b[0m\u001b[0;34m\u001b[0m\u001b[0;34m\u001b[0m\u001b[0m\n\u001b[0;32m-> 3653\u001b[0;31m             \u001b[0;32mreturn\u001b[0m \u001b[0mself\u001b[0m\u001b[0;34m.\u001b[0m\u001b[0m_engine\u001b[0m\u001b[0;34m.\u001b[0m\u001b[0mget_loc\u001b[0m\u001b[0;34m(\u001b[0m\u001b[0mcasted_key\u001b[0m\u001b[0;34m)\u001b[0m\u001b[0;34m\u001b[0m\u001b[0;34m\u001b[0m\u001b[0m\n\u001b[0m\u001b[1;32m   3654\u001b[0m         \u001b[0;32mexcept\u001b[0m \u001b[0mKeyError\u001b[0m \u001b[0;32mas\u001b[0m \u001b[0merr\u001b[0m\u001b[0;34m:\u001b[0m\u001b[0;34m\u001b[0m\u001b[0;34m\u001b[0m\u001b[0m\n",
            "\u001b[0;32m/usr/local/lib/python3.10/dist-packages/pandas/_libs/index.pyx\u001b[0m in \u001b[0;36mpandas._libs.index.IndexEngine.get_loc\u001b[0;34m()\u001b[0m\n",
            "\u001b[0;32m/usr/local/lib/python3.10/dist-packages/pandas/_libs/index.pyx\u001b[0m in \u001b[0;36mpandas._libs.index.IndexEngine.get_loc\u001b[0;34m()\u001b[0m\n",
            "\u001b[0;32mpandas/_libs/hashtable_class_helper.pxi\u001b[0m in \u001b[0;36mpandas._libs.hashtable.PyObjectHashTable.get_item\u001b[0;34m()\u001b[0m\n",
            "\u001b[0;32mpandas/_libs/hashtable_class_helper.pxi\u001b[0m in \u001b[0;36mpandas._libs.hashtable.PyObjectHashTable.get_item\u001b[0;34m()\u001b[0m\n",
            "\u001b[0;31mKeyError\u001b[0m: 'MACD'",
            "\nThe above exception was the direct cause of the following exception:\n",
            "\u001b[0;31mKeyError\u001b[0m                                  Traceback (most recent call last)",
            "\u001b[0;32m<ipython-input-74-0b3100bb1256>\u001b[0m in \u001b[0;36m<cell line: 34>\u001b[0;34m()\u001b[0m\n\u001b[1;32m     32\u001b[0m \u001b[0;34m\u001b[0m\u001b[0m\n\u001b[1;32m     33\u001b[0m \u001b[0;31m# Построение графика MACD\u001b[0m\u001b[0;34m\u001b[0m\u001b[0;34m\u001b[0m\u001b[0m\n\u001b[0;32m---> 34\u001b[0;31m \u001b[0mplot_macd\u001b[0m\u001b[0;34m(\u001b[0m\u001b[0mselected_df\u001b[0m\u001b[0;34m,\u001b[0m \u001b[0;34m'MACD, MACD Signal Line и MACD Difference'\u001b[0m\u001b[0;34m)\u001b[0m\u001b[0;34m\u001b[0m\u001b[0;34m\u001b[0m\u001b[0m\n\u001b[0m",
            "\u001b[0;32m<ipython-input-74-0b3100bb1256>\u001b[0m in \u001b[0;36mplot_macd\u001b[0;34m(dataframe, title)\u001b[0m\n\u001b[1;32m      9\u001b[0m \u001b[0;34m\u001b[0m\u001b[0m\n\u001b[1;32m     10\u001b[0m     \u001b[0;31m# Сигнальная линия MACD\u001b[0m\u001b[0;34m\u001b[0m\u001b[0;34m\u001b[0m\u001b[0m\n\u001b[0;32m---> 11\u001b[0;31m     \u001b[0mplt\u001b[0m\u001b[0;34m.\u001b[0m\u001b[0mplot\u001b[0m\u001b[0;34m(\u001b[0m\u001b[0mdataframe\u001b[0m\u001b[0;34m.\u001b[0m\u001b[0mindex\u001b[0m\u001b[0;34m,\u001b[0m \u001b[0mdataframe\u001b[0m\u001b[0;34m[\u001b[0m\u001b[0;34m'MACD'\u001b[0m\u001b[0;34m]\u001b[0m\u001b[0;34m,\u001b[0m \u001b[0mlabel\u001b[0m\u001b[0;34m=\u001b[0m\u001b[0;34m'MACD'\u001b[0m\u001b[0;34m,\u001b[0m \u001b[0mcolor\u001b[0m\u001b[0;34m=\u001b[0m\u001b[0;34m'blue'\u001b[0m\u001b[0;34m)\u001b[0m\u001b[0;34m\u001b[0m\u001b[0;34m\u001b[0m\u001b[0m\n\u001b[0m\u001b[1;32m     12\u001b[0m \u001b[0;34m\u001b[0m\u001b[0m\n\u001b[1;32m     13\u001b[0m     \u001b[0;31m# Сигнальная линия MACD\u001b[0m\u001b[0;34m\u001b[0m\u001b[0;34m\u001b[0m\u001b[0m\n",
            "\u001b[0;32m/usr/local/lib/python3.10/dist-packages/pandas/core/frame.py\u001b[0m in \u001b[0;36m__getitem__\u001b[0;34m(self, key)\u001b[0m\n\u001b[1;32m   3759\u001b[0m             \u001b[0;32mif\u001b[0m \u001b[0mself\u001b[0m\u001b[0;34m.\u001b[0m\u001b[0mcolumns\u001b[0m\u001b[0;34m.\u001b[0m\u001b[0mnlevels\u001b[0m \u001b[0;34m>\u001b[0m \u001b[0;36m1\u001b[0m\u001b[0;34m:\u001b[0m\u001b[0;34m\u001b[0m\u001b[0;34m\u001b[0m\u001b[0m\n\u001b[1;32m   3760\u001b[0m                 \u001b[0;32mreturn\u001b[0m \u001b[0mself\u001b[0m\u001b[0;34m.\u001b[0m\u001b[0m_getitem_multilevel\u001b[0m\u001b[0;34m(\u001b[0m\u001b[0mkey\u001b[0m\u001b[0;34m)\u001b[0m\u001b[0;34m\u001b[0m\u001b[0;34m\u001b[0m\u001b[0m\n\u001b[0;32m-> 3761\u001b[0;31m             \u001b[0mindexer\u001b[0m \u001b[0;34m=\u001b[0m \u001b[0mself\u001b[0m\u001b[0;34m.\u001b[0m\u001b[0mcolumns\u001b[0m\u001b[0;34m.\u001b[0m\u001b[0mget_loc\u001b[0m\u001b[0;34m(\u001b[0m\u001b[0mkey\u001b[0m\u001b[0;34m)\u001b[0m\u001b[0;34m\u001b[0m\u001b[0;34m\u001b[0m\u001b[0m\n\u001b[0m\u001b[1;32m   3762\u001b[0m             \u001b[0;32mif\u001b[0m \u001b[0mis_integer\u001b[0m\u001b[0;34m(\u001b[0m\u001b[0mindexer\u001b[0m\u001b[0;34m)\u001b[0m\u001b[0;34m:\u001b[0m\u001b[0;34m\u001b[0m\u001b[0;34m\u001b[0m\u001b[0m\n\u001b[1;32m   3763\u001b[0m                 \u001b[0mindexer\u001b[0m \u001b[0;34m=\u001b[0m \u001b[0;34m[\u001b[0m\u001b[0mindexer\u001b[0m\u001b[0;34m]\u001b[0m\u001b[0;34m\u001b[0m\u001b[0;34m\u001b[0m\u001b[0m\n",
            "\u001b[0;32m/usr/local/lib/python3.10/dist-packages/pandas/core/indexes/base.py\u001b[0m in \u001b[0;36mget_loc\u001b[0;34m(self, key)\u001b[0m\n\u001b[1;32m   3653\u001b[0m             \u001b[0;32mreturn\u001b[0m \u001b[0mself\u001b[0m\u001b[0;34m.\u001b[0m\u001b[0m_engine\u001b[0m\u001b[0;34m.\u001b[0m\u001b[0mget_loc\u001b[0m\u001b[0;34m(\u001b[0m\u001b[0mcasted_key\u001b[0m\u001b[0;34m)\u001b[0m\u001b[0;34m\u001b[0m\u001b[0;34m\u001b[0m\u001b[0m\n\u001b[1;32m   3654\u001b[0m         \u001b[0;32mexcept\u001b[0m \u001b[0mKeyError\u001b[0m \u001b[0;32mas\u001b[0m \u001b[0merr\u001b[0m\u001b[0;34m:\u001b[0m\u001b[0;34m\u001b[0m\u001b[0;34m\u001b[0m\u001b[0m\n\u001b[0;32m-> 3655\u001b[0;31m             \u001b[0;32mraise\u001b[0m \u001b[0mKeyError\u001b[0m\u001b[0;34m(\u001b[0m\u001b[0mkey\u001b[0m\u001b[0;34m)\u001b[0m \u001b[0;32mfrom\u001b[0m \u001b[0merr\u001b[0m\u001b[0;34m\u001b[0m\u001b[0;34m\u001b[0m\u001b[0m\n\u001b[0m\u001b[1;32m   3656\u001b[0m         \u001b[0;32mexcept\u001b[0m \u001b[0mTypeError\u001b[0m\u001b[0;34m:\u001b[0m\u001b[0;34m\u001b[0m\u001b[0;34m\u001b[0m\u001b[0m\n\u001b[1;32m   3657\u001b[0m             \u001b[0;31m# If we have a listlike key, _check_indexing_error will raise\u001b[0m\u001b[0;34m\u001b[0m\u001b[0;34m\u001b[0m\u001b[0m\n",
            "\u001b[0;31mKeyError\u001b[0m: 'MACD'"
          ]
        },
        {
          "output_type": "display_data",
          "data": {
            "text/plain": [
              "<Figure size 1200x800 with 0 Axes>"
            ]
          },
          "metadata": {}
        }
      ]
    },
    {
      "cell_type": "markdown",
      "source": [
        "## Алгоритмы"
      ],
      "metadata": {
        "id": "VgLG9Koi1TFk"
      }
    },
    {
      "cell_type": "markdown",
      "source": [
        "### МСП"
      ],
      "metadata": {
        "id": "bbeXeClD05KX"
      }
    },
    {
      "cell_type": "code",
      "source": [
        "#device = tf.device(\"gpu:0\" if tf.test.is_gpu_available() else \"cpu:0\")\n",
        "#print(f\"Используем устройство: {device}\")\n",
        "\n",
        "X = df.drop(['point'], axis=1)\n",
        "\n",
        "scaler = StandardScaler()\n",
        "X_scaled = scaler.fit_transform(X)\n",
        "\n",
        "model = Sequential()\n",
        "model.add(Dense(32, input_dim=df.shape[1], activation='relu'))\n",
        "model.add(Dropout(0.1))\n",
        "model.add(Dense(32, activation='relu'))\n",
        "model.add(Dropout(0.1))\n",
        "model.add(Dense(16, activation='relu'))\n",
        "model.add(Dropout(0.1))\n",
        "model.add(Dense(X_scaled.shape[1], activation='linear'))\n",
        "\n",
        "model.compile(optimizer=Adam(learning_rate=0.01), loss=MeanSquaredError())\n",
        "\n",
        "early_stopping = EarlyStopping(monitor='loss', patience=5, verbose=1)\n",
        "tqdm_callback = TqdmCallback(verbose=1)\n",
        "\n",
        "model.fit(X_scaled, X_scaled, epochs=15, batch_size=64, verbose=0,\n",
        "          callbacks=[tqdm_callback, early_stopping])"
      ],
      "metadata": {
        "id": "PqlF0wPUHw7F"
      },
      "execution_count": null,
      "outputs": []
    },
    {
      "cell_type": "markdown",
      "source": [
        "### CNN"
      ],
      "metadata": {
        "id": "00IOcxuJ0w4Q"
      }
    },
    {
      "cell_type": "code",
      "source": [
        "#device = tf.device(\"gpu:0\" if tf.test.is_gpu_available() else \"cpu:0\")\n",
        "#print(f\"Используем устройство: {device}\")\n",
        "\n",
        "X = df.drop(['point'], axis=1)\n",
        "\n",
        "scaler = StandardScaler()\n",
        "X_scaled = scaler.fit_transform(X)\n",
        "\n",
        "model = Sequential()\n",
        "model.add(Conv1D(filters=32, kernel_size=3, activation='relu',\n",
        "                 input_shape=(X_scaled.shape[1], 1)))\n",
        "model.add(MaxPooling1D(pool_size=2))\n",
        "model.add(Conv1D(filters=64, kernel_size=3, activation='relu'))\n",
        "model.add(MaxPooling1D(pool_size=2))\n",
        "model.add(Flatten())\n",
        "model.add(Dense(16, activation='relu'))\n",
        "model.add(Dense(X_scaled.shape[1], activation='linear'))\n",
        "\n",
        "model.compile(optimizer=Adam(learning_rate=0.001), loss=MeanSquaredError())\n",
        "\n",
        "early_stopping = EarlyStopping(monitor='loss', patience=5, verbose=1)\n",
        "tqdm_callback = TqdmCallback(verbose=1)\n",
        "\n",
        "model.fit(X_scaled.reshape(-1, X_scaled.shape[1], 1), X_scaled,\n",
        "          epochs=15, batch_size=64, verbose=0,\n",
        "          callbacks=[tqdm_callback, early_stopping])"
      ],
      "metadata": {
        "id": "qKVmq9nYHo6W"
      },
      "execution_count": null,
      "outputs": []
    },
    {
      "cell_type": "markdown",
      "source": [
        "### RNN"
      ],
      "metadata": {
        "id": "0Gqqpr7r0r1V"
      }
    },
    {
      "cell_type": "code",
      "source": [
        "#device = tf.device(\"gpu:0\" if tf.test.is_gpu_available() else \"cpu:0\")\n",
        "#print(f\"Используем устройство: {device}\")\n",
        "\n",
        "X = df.drop(['point'], axis=1)\n",
        "\n",
        "scaler = StandardScaler()\n",
        "X_scaled = scaler.fit_transform(X)\n",
        "\n",
        "model = Sequential()\n",
        "model.add(LSTM(32, input_shape=(X_scaled.shape[1], 1), return_sequences=False))\n",
        "model.add(Dropout(0.2))\n",
        "model.add(Dense(16, activation='relu'))\n",
        "model.add(Dense(X_scaled.shape[1], activation='linear'))\n",
        "\n",
        "model.compile(optimizer=Adam(learning_rate=0.001), loss=MeanSquaredError())\n",
        "\n",
        "early_stopping = EarlyStopping(monitor='loss', patience=5, verbose=1)\n",
        "tqdm_callback = TqdmCallback(verbose=1)\n",
        "\n",
        "model.fit(X_scaled.reshape(-1, X_scaled.shape[1], 1), X_scaled, epochs=15,\n",
        "          batch_size=64, verbose=0,\n",
        "          callbacks=[tqdm_callback, early_stopping])"
      ],
      "metadata": {
        "id": "iiB3JczxHh96"
      },
      "execution_count": null,
      "outputs": []
    },
    {
      "cell_type": "markdown",
      "source": [
        "### Автокодировщик (Autoencoder) (+)"
      ],
      "metadata": {
        "id": "ULaHntiP32a_"
      }
    },
    {
      "cell_type": "code",
      "source": [
        "#device = tf.device(\"gpu:0\" if tf.test.is_gpu_available() else \"cpu:0\")\n",
        "#print(f\"Используем устройство: {device}\")\n",
        "\n",
        "import pandas as pd\n",
        "from sklearn.preprocessing import StandardScaler\n",
        "from tensorflow.keras.models import Sequential\n",
        "from tensorflow.keras.layers import Dense, Input\n",
        "from tensorflow.keras.optimizers import Adam\n",
        "from tqdm.keras import TqdmCallback\n",
        "from tensorflow.keras.callbacks import EarlyStopping, ReduceLROnPlateau\n",
        "\n",
        "X = df.drop(['point'], axis=1)\n",
        "\n",
        "scaler = StandardScaler()\n",
        "X_scaled = scaler.fit_transform(X)\n",
        "\n",
        "input_dim = X_scaled.shape[1]\n",
        "encoding_dim = int(input_dim / 2)\n",
        "\n",
        "model = Sequential()\n",
        "model.add(Input(shape=(input_dim,)))\n",
        "model.add(Dense(encoding_dim, activation='relu'))\n",
        "model.add(Dense(input_dim, activation='linear'))\n",
        "\n",
        "model.compile(optimizer=Adam(), loss='mean_squared_error')\n",
        "\n",
        "tqdm_callback = TqdmCallback(verbose=1)\n",
        "early_stopping = EarlyStopping(monitor='loss', patience=10, verbose=1)\n",
        "lr_scheduler = ReduceLROnPlateau(monitor='loss', factor=0.1, patience=5, verbose=1)\n",
        "callbacks = [tqdm_callback, early_stopping, lr_scheduler]\n",
        "\n",
        "model.fit(X_scaled, X_scaled, epochs=10, batch_size=64, callbacks=callbacks)\n",
        "\n",
        "X_reconstructed = model.predict(X_scaled)\n",
        "reconstruction_error = ((X_scaled - X_reconstructed) ** 2).mean(axis=1)\n",
        "\n",
        "df['reconstruction_error'] = reconstruction_error\n",
        "\n",
        "# Print the results\n",
        "print(df)"
      ],
      "metadata": {
        "colab": {
          "base_uri": "https://localhost:8080/",
          "height": 344,
          "referenced_widgets": [
            "8aed81116a454eee8a4baf74a9fedaae",
            "3fdd11bd5a4a44b7a4d9a604b34f8d90",
            "232f782da95f4be68bfadfdbb354b1dd",
            "1fdd0f0f88184357a7fd6b335babcfcd",
            "7756b0963e25449e8bddcc752eff8d0e",
            "b7107c548e76493ba78ba3d5cd05edf7",
            "5efcad0cfc8a4a43b010e098d08da977",
            "0a1bdd80e61e422596c87a37b3ae9258",
            "3a8109f9a6cc417bad58bf3b2bbd4177",
            "3649124dcc9a4d7594ca75b5b8138f34",
            "e0b9299460e3428d813900601466a26d",
            "1c6ed926cb8244b69649d16f39400025",
            "31857f1a6104414a9a688d6381fdfab9",
            "30928a036bb24d9ca8bd6ffdd49a925f",
            "9d4959f3201a4635af3406fe099912d2",
            "56b73bce9dfc40b282e20ec7d48949f7",
            "8dd409411aad4f62ba5124402984e98a",
            "47d43093525a49458c76f64c4e962a9c",
            "e52ae9712d2848998cd31489f2e92400",
            "4def5b6b41d64d5e9a9661797c501384",
            "d029a2d3dab04d9b88d82198ba7afb02",
            "966096e74aa248628b0b544958078627"
          ]
        },
        "id": "kPWP-Zod0Jzi",
        "outputId": "b9d479c8-36b5-4571-a9f8-22f78e64872e"
      },
      "execution_count": null,
      "outputs": [
        {
          "output_type": "display_data",
          "data": {
            "text/plain": [
              "0epoch [00:00, ?epoch/s]"
            ],
            "application/vnd.jupyter.widget-view+json": {
              "version_major": 2,
              "version_minor": 0,
              "model_id": "8aed81116a454eee8a4baf74a9fedaae"
            }
          },
          "metadata": {}
        },
        {
          "output_type": "display_data",
          "data": {
            "text/plain": [
              "0batch [00:00, ?batch/s]"
            ],
            "application/vnd.jupyter.widget-view+json": {
              "version_major": 2,
              "version_minor": 0,
              "model_id": "1c6ed926cb8244b69649d16f39400025"
            }
          },
          "metadata": {}
        },
        {
          "output_type": "stream",
          "name": "stdout",
          "text": [
            "Epoch 1/10\n",
            "286934/286934 [==============================] - 659s 2ms/step - loss: 0.5717 - lr: 0.0010\n",
            "Epoch 2/10\n",
            "286934/286934 [==============================] - 692s 2ms/step - loss: 0.5597 - lr: 0.0010\n",
            "Epoch 3/10\n",
            "286934/286934 [==============================] - 658s 2ms/step - loss: 0.5396 - lr: 0.0010\n",
            "Epoch 4/10\n",
            "286934/286934 [==============================] - 659s 2ms/step - loss: 0.5330 - lr: 0.0010\n",
            "Epoch 5/10\n",
            "286934/286934 [==============================] - 650s 2ms/step - loss: 0.5318 - lr: 0.0010\n",
            "Epoch 6/10\n",
            "286934/286934 [==============================] - 679s 2ms/step - loss: 0.5515 - lr: 0.0010\n",
            "Epoch 7/10\n",
            "121256/286934 [===========>..................] - ETA: 6:40 - loss: 0.1554"
          ]
        }
      ]
    },
    {
      "cell_type": "code",
      "source": [
        "reconstructed = model.predict(X_scaled)\n",
        "mse = np.mean(np.power(X_scaled - reconstructed, 2), axis=1)\n",
        "threshold = np.mean(mse) + 2 * np.std(mse)\n",
        "anomalies = mse > threshold\n",
        "\n",
        "df['anomaly'] = anomalies.astype(int)\n",
        "print(df)\n",
        "\n",
        "unique_values = df['anomaly'].unique()\n",
        "print(f\"Уникальные значения в колонке 'anomaly': {unique_values}\")\n",
        "\n",
        "count_0 = df[df['anomaly'] == 0].shape[0]\n",
        "count_1 = df[df['anomaly'] == 1].shape[0]\n",
        "\n",
        "print(f\"Количество значений 0: {count_0}\")\n",
        "print(f\"Количество значений 1: {count_1}\")\n",
        "\n",
        "df_0 = df[df['is_anomaly_simple'] == 0]\n",
        "df_1 = df[df['is_anomaly_simple'] == 1]\n",
        "\n",
        "print(df_1['point'])"
      ],
      "metadata": {
        "id": "LK_va0gyIwCx"
      },
      "execution_count": null,
      "outputs": []
    },
    {
      "cell_type": "code",
      "source": [
        "plt.figure(figsize=(12, 6))\n",
        "plt.plot(df_1['point'], [0] * len(df_1), 'ro', markersize=5)\n",
        "plt.xlabel('Время')\n",
        "plt.ylabel('Значение')\n",
        "plt.title('Распределение значений по времени для класса 1')\n",
        "plt.show()\n",
        "\n",
        "df = df.drop('is_anomaly_simple', axis=1)"
      ],
      "metadata": {
        "id": "nSET4cN0IzuU"
      },
      "execution_count": null,
      "outputs": []
    },
    {
      "cell_type": "markdown",
      "source": [
        "### Вариационный автокодировщик (Variational Autoencoder, VAE)"
      ],
      "metadata": {
        "id": "NiQ7fHsu39Yf"
      }
    },
    {
      "cell_type": "code",
      "source": [
        "import numpy as np\n",
        "import pandas as pd\n",
        "from tensorflow.keras.layers import Input, Dense, Lambda\n",
        "from tensorflow.keras.models import Model\n",
        "from tensorflow.keras.optimizers import Adam\n",
        "from tensorflow.keras.callbacks import EarlyStopping, ModelCheckpoint\n",
        "import tensorflow.keras.backend as K\n",
        "\n",
        "# Преобразование 'point' в datetime\n",
        "df['point'] = pd.to_datetime(df['point'])\n",
        "\n",
        "# Нормализация данных\n",
        "X = df[['call_count', 'total_call_time', 'total_exclusive_time', 'min_call_time', 'max_call_time', 'sum_of_squares', 'instances']].values\n",
        "X = (X - X.mean(axis=0)) / X.std(axis=0)\n",
        "\n",
        "# Определение параметров модели\n",
        "input_dim = X.shape[1]\n",
        "latent_dim = 2  # Размерность латентного пространства\n",
        "\n",
        "# Построение модели\n",
        "inputs = Input(shape=(input_dim,))\n",
        "z_mean = Dense(latent_dim, name='z_mean')(inputs)\n",
        "z_log_var = Dense(latent_dim, name='z_log_var')(inputs)\n",
        "\n",
        "def sampling(args):\n",
        "    z_mean, z_log_var = args\n",
        "    epsilon = K.random_normal(shape=(K.shape(z_mean)[0], latent_dim), mean=0.0, stddev=1.0)\n",
        "    return z_mean + K.exp(z_log_var / 2) * epsilon\n",
        "\n",
        "z = Lambda(sampling, output_shape=(latent_dim,), name='z')([z_mean, z_log_var])\n",
        "\n",
        "# Декодер\n",
        "decoder_hidden = Dense(64, activation='relu')(z)\n",
        "outputs = Dense(input_dim, activation='linear')(decoder_hidden)\n",
        "\n",
        "# Определение модели\n",
        "vae = Model(inputs, outputs)\n",
        "\n",
        "# Определение функции потерь для вариационного автокодировщика\n",
        "def vae_loss(inputs, outputs):\n",
        "    reconstruction_loss = K.mean(K.square(inputs - outputs))\n",
        "    kl_loss = -0.5 * K.sum(1 + z_log_var - K.square(z_mean) - K.exp(z_log_var), axis=-1)\n",
        "    return reconstruction_loss + kl_loss\n",
        "\n",
        "# Компиляция модели\n",
        "vae.compile(optimizer=Adam(lr=0.001), loss=vae_loss)\n",
        "\n",
        "# Обучение модели\n",
        "early_stopping = EarlyStopping(monitor='loss', patience=10, verbose=1)\n",
        "model_checkpoint = ModelCheckpoint('best_vae_model.h5', monitor='loss', save_best_only=True, verbose=1)\n",
        "vae.fit(X, X, epochs=100, batch_size=32, validation_split=0.2, callbacks=[early_stopping, model_checkpoint])"
      ],
      "metadata": {
        "colab": {
          "base_uri": "https://localhost:8080/",
          "height": 498
        },
        "id": "EcMSFwWp0Jxh",
        "outputId": "d5dcbc4b-91d1-4e92-fc1c-6714a06f215a"
      },
      "execution_count": null,
      "outputs": [
        {
          "output_type": "error",
          "ename": "TypeError",
          "evalue": "Exception encountered when calling layer \"z\" (type Lambda).\n\nInput 'y' of 'Mul' Op has type float32 that does not match type float16 of argument 'x'.\n\nCall arguments received by layer \"z\" (type Lambda):\n  • inputs=['tf.Tensor(shape=(None, 2), dtype=float16)', 'tf.Tensor(shape=(None, 2), dtype=float16)']\n  • mask=None\n  • training=None",
          "traceback": [
            "\u001b[0;31m---------------------------------------------------------------------------\u001b[0m",
            "\u001b[0;31mTypeError\u001b[0m                                 Traceback (most recent call last)",
            "\u001b[0;32m<ipython-input-24-38d31c24909c>\u001b[0m in \u001b[0;36m<cell line: 30>\u001b[0;34m()\u001b[0m\n\u001b[1;32m     28\u001b[0m     \u001b[0;32mreturn\u001b[0m \u001b[0mz_mean\u001b[0m \u001b[0;34m+\u001b[0m \u001b[0mK\u001b[0m\u001b[0;34m.\u001b[0m\u001b[0mexp\u001b[0m\u001b[0;34m(\u001b[0m\u001b[0mz_log_var\u001b[0m \u001b[0;34m/\u001b[0m \u001b[0;36m2\u001b[0m\u001b[0;34m)\u001b[0m \u001b[0;34m*\u001b[0m \u001b[0mepsilon\u001b[0m\u001b[0;34m\u001b[0m\u001b[0;34m\u001b[0m\u001b[0m\n\u001b[1;32m     29\u001b[0m \u001b[0;34m\u001b[0m\u001b[0m\n\u001b[0;32m---> 30\u001b[0;31m \u001b[0mz\u001b[0m \u001b[0;34m=\u001b[0m \u001b[0mLambda\u001b[0m\u001b[0;34m(\u001b[0m\u001b[0msampling\u001b[0m\u001b[0;34m,\u001b[0m \u001b[0moutput_shape\u001b[0m\u001b[0;34m=\u001b[0m\u001b[0;34m(\u001b[0m\u001b[0mlatent_dim\u001b[0m\u001b[0;34m,\u001b[0m\u001b[0;34m)\u001b[0m\u001b[0;34m,\u001b[0m \u001b[0mname\u001b[0m\u001b[0;34m=\u001b[0m\u001b[0;34m'z'\u001b[0m\u001b[0;34m)\u001b[0m\u001b[0;34m(\u001b[0m\u001b[0;34m[\u001b[0m\u001b[0mz_mean\u001b[0m\u001b[0;34m,\u001b[0m \u001b[0mz_log_var\u001b[0m\u001b[0;34m]\u001b[0m\u001b[0;34m)\u001b[0m\u001b[0;34m\u001b[0m\u001b[0;34m\u001b[0m\u001b[0m\n\u001b[0m\u001b[1;32m     31\u001b[0m \u001b[0;34m\u001b[0m\u001b[0m\n\u001b[1;32m     32\u001b[0m \u001b[0;31m# Декодер\u001b[0m\u001b[0;34m\u001b[0m\u001b[0;34m\u001b[0m\u001b[0m\n",
            "\u001b[0;32m/usr/local/lib/python3.10/dist-packages/keras/src/utils/traceback_utils.py\u001b[0m in \u001b[0;36merror_handler\u001b[0;34m(*args, **kwargs)\u001b[0m\n\u001b[1;32m     68\u001b[0m             \u001b[0;31m# To get the full stack trace, call:\u001b[0m\u001b[0;34m\u001b[0m\u001b[0;34m\u001b[0m\u001b[0m\n\u001b[1;32m     69\u001b[0m             \u001b[0;31m# `tf.debugging.disable_traceback_filtering()`\u001b[0m\u001b[0;34m\u001b[0m\u001b[0;34m\u001b[0m\u001b[0m\n\u001b[0;32m---> 70\u001b[0;31m             \u001b[0;32mraise\u001b[0m \u001b[0me\u001b[0m\u001b[0;34m.\u001b[0m\u001b[0mwith_traceback\u001b[0m\u001b[0;34m(\u001b[0m\u001b[0mfiltered_tb\u001b[0m\u001b[0;34m)\u001b[0m \u001b[0;32mfrom\u001b[0m \u001b[0;32mNone\u001b[0m\u001b[0;34m\u001b[0m\u001b[0;34m\u001b[0m\u001b[0m\n\u001b[0m\u001b[1;32m     71\u001b[0m         \u001b[0;32mfinally\u001b[0m\u001b[0;34m:\u001b[0m\u001b[0;34m\u001b[0m\u001b[0;34m\u001b[0m\u001b[0m\n\u001b[1;32m     72\u001b[0m             \u001b[0;32mdel\u001b[0m \u001b[0mfiltered_tb\u001b[0m\u001b[0;34m\u001b[0m\u001b[0;34m\u001b[0m\u001b[0m\n",
            "\u001b[0;32m<ipython-input-24-38d31c24909c>\u001b[0m in \u001b[0;36msampling\u001b[0;34m(args)\u001b[0m\n\u001b[1;32m     26\u001b[0m     \u001b[0mz_mean\u001b[0m\u001b[0;34m,\u001b[0m \u001b[0mz_log_var\u001b[0m \u001b[0;34m=\u001b[0m \u001b[0margs\u001b[0m\u001b[0;34m\u001b[0m\u001b[0;34m\u001b[0m\u001b[0m\n\u001b[1;32m     27\u001b[0m     \u001b[0mepsilon\u001b[0m \u001b[0;34m=\u001b[0m \u001b[0mK\u001b[0m\u001b[0;34m.\u001b[0m\u001b[0mrandom_normal\u001b[0m\u001b[0;34m(\u001b[0m\u001b[0mshape\u001b[0m\u001b[0;34m=\u001b[0m\u001b[0;34m(\u001b[0m\u001b[0mK\u001b[0m\u001b[0;34m.\u001b[0m\u001b[0mshape\u001b[0m\u001b[0;34m(\u001b[0m\u001b[0mz_mean\u001b[0m\u001b[0;34m)\u001b[0m\u001b[0;34m[\u001b[0m\u001b[0;36m0\u001b[0m\u001b[0;34m]\u001b[0m\u001b[0;34m,\u001b[0m \u001b[0mlatent_dim\u001b[0m\u001b[0;34m)\u001b[0m\u001b[0;34m,\u001b[0m \u001b[0mmean\u001b[0m\u001b[0;34m=\u001b[0m\u001b[0;36m0.0\u001b[0m\u001b[0;34m,\u001b[0m \u001b[0mstddev\u001b[0m\u001b[0;34m=\u001b[0m\u001b[0;36m1.0\u001b[0m\u001b[0;34m)\u001b[0m\u001b[0;34m\u001b[0m\u001b[0;34m\u001b[0m\u001b[0m\n\u001b[0;32m---> 28\u001b[0;31m     \u001b[0;32mreturn\u001b[0m \u001b[0mz_mean\u001b[0m \u001b[0;34m+\u001b[0m \u001b[0mK\u001b[0m\u001b[0;34m.\u001b[0m\u001b[0mexp\u001b[0m\u001b[0;34m(\u001b[0m\u001b[0mz_log_var\u001b[0m \u001b[0;34m/\u001b[0m \u001b[0;36m2\u001b[0m\u001b[0;34m)\u001b[0m \u001b[0;34m*\u001b[0m \u001b[0mepsilon\u001b[0m\u001b[0;34m\u001b[0m\u001b[0;34m\u001b[0m\u001b[0m\n\u001b[0m\u001b[1;32m     29\u001b[0m \u001b[0;34m\u001b[0m\u001b[0m\n\u001b[1;32m     30\u001b[0m \u001b[0mz\u001b[0m \u001b[0;34m=\u001b[0m \u001b[0mLambda\u001b[0m\u001b[0;34m(\u001b[0m\u001b[0msampling\u001b[0m\u001b[0;34m,\u001b[0m \u001b[0moutput_shape\u001b[0m\u001b[0;34m=\u001b[0m\u001b[0;34m(\u001b[0m\u001b[0mlatent_dim\u001b[0m\u001b[0;34m,\u001b[0m\u001b[0;34m)\u001b[0m\u001b[0;34m,\u001b[0m \u001b[0mname\u001b[0m\u001b[0;34m=\u001b[0m\u001b[0;34m'z'\u001b[0m\u001b[0;34m)\u001b[0m\u001b[0;34m(\u001b[0m\u001b[0;34m[\u001b[0m\u001b[0mz_mean\u001b[0m\u001b[0;34m,\u001b[0m \u001b[0mz_log_var\u001b[0m\u001b[0;34m]\u001b[0m\u001b[0;34m)\u001b[0m\u001b[0;34m\u001b[0m\u001b[0;34m\u001b[0m\u001b[0m\n",
            "\u001b[0;31mTypeError\u001b[0m: Exception encountered when calling layer \"z\" (type Lambda).\n\nInput 'y' of 'Mul' Op has type float32 that does not match type float16 of argument 'x'.\n\nCall arguments received by layer \"z\" (type Lambda):\n  • inputs=['tf.Tensor(shape=(None, 2), dtype=float16)', 'tf.Tensor(shape=(None, 2), dtype=float16)']\n  • mask=None\n  • training=None"
          ]
        }
      ]
    },
    {
      "cell_type": "markdown",
      "source": [
        "### Глубокая нейронная сеть с рекуррентным звеном (Deep Neural Network with Recurrent Layers) (на примере LSTM)"
      ],
      "metadata": {
        "id": "jfmSk9Zv4AMA"
      }
    },
    {
      "cell_type": "code",
      "source": [
        "import numpy as np\n",
        "import pandas as pd\n",
        "from tensorflow.keras.models import Sequential\n",
        "from tensorflow.keras.layers import LSTM, Dense, Dropout\n",
        "from tensorflow.keras.optimizers import Adam\n",
        "from tensorflow.keras.callbacks import EarlyStopping, ModelCheckpoint\n",
        "\n",
        "# Преобразование 'point' в datetime\n",
        "df['point'] = pd.to_datetime(df['point'])\n",
        "\n",
        "# Подготовка данных\n",
        "X = df[['call_count', 'total_call_time', 'total_exclusive_time',\n",
        "        'min_call_time', 'max_call_time', 'sum_of_squares', 'instances']].values\n",
        "y = df['call_count'].values\n",
        "\n",
        "# Нормализация данных\n",
        "X_mean = X.mean(axis=0)\n",
        "X_std = X.std(axis=0)\n",
        "X = (X - X_mean) / X_std\n",
        "\n",
        "# Reshape данных для LSTM\n",
        "X = X.reshape(X.shape[0], 1, X.shape[1])\n",
        "\n",
        "# Определение параметров модели\n",
        "input_dim = X.shape[2]\n",
        "output_dim = 1\n",
        "seq_length = 1\n",
        "lstm_units = 64\n",
        "dropout_rate = 0.2\n",
        "\n",
        "# Построение модели\n",
        "model = Sequential()\n",
        "model.add(LSTM(lstm_units, input_shape=(seq_length, input_dim), return_sequences=False))\n",
        "model.add(Dropout(dropout_rate))\n",
        "model.add(Dense(output_dim, activation='linear'))\n",
        "\n",
        "# Компиляция модели\n",
        "model.compile(optimizer=Adam(lr=0.001), loss='mean_squared_error')\n",
        "\n",
        "# Обучение модели\n",
        "early_stopping = EarlyStopping(monitor='val_loss', patience=10, verbose=1)\n",
        "model_checkpoint = ModelCheckpoint('best_lstm_model.h5', monitor='val_loss', save_best_only=True, verbose=1)\n",
        "model.fit(X, y, epochs=100, batch_size=32, validation_split=0.2, callbacks=[early_stopping, model_checkpoint])"
      ],
      "metadata": {
        "colab": {
          "base_uri": "https://localhost:8080/"
        },
        "id": "KtWpKxsw0Jvg",
        "outputId": "d62f92f2-1606-4ad8-c439-af60873bc2be"
      },
      "execution_count": null,
      "outputs": [
        {
          "output_type": "stream",
          "name": "stderr",
          "text": [
            "WARNING:absl:`lr` is deprecated in Keras optimizer, please use `learning_rate` or use the legacy optimizer, e.g.,tf.keras.optimizers.legacy.Adam.\n"
          ]
        },
        {
          "output_type": "stream",
          "name": "stdout",
          "text": [
            "Epoch 1/100\n",
            "1/1 [==============================] - ETA: 0s - loss: nan\n",
            "Epoch 1: val_loss did not improve from inf\n",
            "1/1 [==============================] - 5s 5s/step - loss: nan - val_loss: nan\n",
            "Epoch 2/100\n",
            "1/1 [==============================] - ETA: 0s - loss: nan\n",
            "Epoch 2: val_loss did not improve from inf\n",
            "1/1 [==============================] - 0s 97ms/step - loss: nan - val_loss: nan\n",
            "Epoch 3/100\n",
            "1/1 [==============================] - ETA: 0s - loss: nan\n",
            "Epoch 3: val_loss did not improve from inf\n",
            "1/1 [==============================] - 0s 76ms/step - loss: nan - val_loss: nan\n",
            "Epoch 4/100\n",
            "1/1 [==============================] - ETA: 0s - loss: nan\n",
            "Epoch 4: val_loss did not improve from inf\n",
            "1/1 [==============================] - 0s 79ms/step - loss: nan - val_loss: nan\n",
            "Epoch 5/100\n",
            "1/1 [==============================] - ETA: 0s - loss: nan\n",
            "Epoch 5: val_loss did not improve from inf\n",
            "1/1 [==============================] - 0s 50ms/step - loss: nan - val_loss: nan\n",
            "Epoch 6/100\n",
            "1/1 [==============================] - ETA: 0s - loss: nan\n",
            "Epoch 6: val_loss did not improve from inf\n",
            "1/1 [==============================] - 0s 39ms/step - loss: nan - val_loss: nan\n",
            "Epoch 7/100\n",
            "1/1 [==============================] - ETA: 0s - loss: nan\n",
            "Epoch 7: val_loss did not improve from inf\n",
            "1/1 [==============================] - 0s 46ms/step - loss: nan - val_loss: nan\n",
            "Epoch 8/100\n",
            "1/1 [==============================] - ETA: 0s - loss: nan\n",
            "Epoch 8: val_loss did not improve from inf\n",
            "1/1 [==============================] - 0s 42ms/step - loss: nan - val_loss: nan\n",
            "Epoch 9/100\n",
            "1/1 [==============================] - ETA: 0s - loss: nan\n",
            "Epoch 9: val_loss did not improve from inf\n",
            "1/1 [==============================] - 0s 42ms/step - loss: nan - val_loss: nan\n",
            "Epoch 10/100\n",
            "1/1 [==============================] - ETA: 0s - loss: nan\n",
            "Epoch 10: val_loss did not improve from inf\n",
            "1/1 [==============================] - 0s 42ms/step - loss: nan - val_loss: nan\n",
            "Epoch 10: early stopping\n"
          ]
        },
        {
          "output_type": "execute_result",
          "data": {
            "text/plain": [
              "<keras.src.callbacks.History at 0x79475f17f2e0>"
            ]
          },
          "metadata": {},
          "execution_count": 27
        }
      ]
    },
    {
      "cell_type": "markdown",
      "source": [
        "### Комбинированная модель (Hybrid Model) (CNN + LSTM) (+)"
      ],
      "metadata": {
        "id": "UeFaKoFb4E4g"
      }
    },
    {
      "cell_type": "code",
      "source": [
        "from tensorflow.keras.models import Sequential\n",
        "from tensorflow.keras.layers import Conv1D, MaxPooling1D, LSTM, Bidirectional, Dense, Dropout, BatchNormalization"
      ],
      "metadata": {
        "id": "kYQm3x9wZzpd"
      },
      "execution_count": null,
      "outputs": []
    },
    {
      "cell_type": "code",
      "source": [
        "import numpy as np\n",
        "import pandas as pd\n",
        "from tensorflow.keras.models import Sequential\n",
        "from tensorflow.keras.layers import LSTM, Dense, Dropout, Conv1D, MaxPooling1D, Flatten\n",
        "from tensorflow.keras.optimizers import Adam\n",
        "from tensorflow.keras.callbacks import EarlyStopping, ModelCheckpoint\n",
        "\n",
        "# Преобразование 'point' в datetime\n",
        "df['point'] = pd.to_datetime(df['point'])\n",
        "\n",
        "# Подготовка данных\n",
        "X = df[['call_count', 'total_call_time', 'total_exclusive_time',\n",
        "        'min_call_time', 'max_call_time', 'sum_of_squares', 'instances']].values\n",
        "y = df['call_count'].values\n",
        "\n",
        "# Нормализация данных\n",
        "X_mean = X.mean(axis=0)\n",
        "X_std = X.std(axis=0)\n",
        "X = (X - X_mean) / X_std\n",
        "\n",
        "# Reshape данных для CNN и LSTM\n",
        "X = X.reshape(X.shape[0], X.shape[1], 1)\n",
        "\n",
        "# Определение параметров модели\n",
        "input_shape = (X.shape[1], 1)\n",
        "output_dim = 1\n",
        "cnn_filters = 32\n",
        "cnn_kernel_size = 3\n",
        "lstm_units = 64\n",
        "dropout_rate = 0.2\n",
        "\n",
        "# Построение модели\n",
        "model = Sequential()\n",
        "model.add(Conv1D(filters=cnn_filters, kernel_size=cnn_kernel_size, activation='relu', input_shape=input_shape))\n",
        "model.add(MaxPooling1D(pool_size=2))\n",
        "model.add(LSTM(lstm_units, return_sequences=False))\n",
        "model.add(Dropout(dropout_rate))\n",
        "model.add(Dense(output_dim, activation='linear'))\n",
        "\n",
        "# Компиляция модели\n",
        "model.compile(optimizer=Adam(learning_rate=0.001), loss='mean_squared_error')\n",
        "\n",
        "# Обучение модели\n",
        "early_stopping = EarlyStopping(monitor='val_loss', patience=10, verbose=1)\n",
        "model_checkpoint = ModelCheckpoint('best_hybrid_model.h5', monitor='val_loss', save_best_only=True, verbose=1)\n",
        "model.fit(X, y, epochs=100,\n",
        "          batch_size=16,\n",
        "          validation_split=0.2,\n",
        "          callbacks=[early_stopping, model_checkpoint])"
      ],
      "metadata": {
        "colab": {
          "base_uri": "https://localhost:8080/"
        },
        "id": "3e50mkHh0Jti",
        "outputId": "45bc9a67-2553-4428-add1-9f02f0afbde2"
      },
      "execution_count": null,
      "outputs": [
        {
          "output_type": "stream",
          "name": "stdout",
          "text": [
            "Epoch 1/100\n",
            "1/1 [==============================] - ETA: 0s - loss: 0.5347\n",
            "Epoch 1: val_loss improved from inf to 0.35962, saving model to best_hybrid_model.h5\n",
            "1/1 [==============================] - 7s 7s/step - loss: 0.5347 - val_loss: 0.3596\n",
            "Epoch 2/100\n",
            "1/1 [==============================] - ETA: 0s - loss: 0.3550\n",
            "Epoch 2: val_loss did not improve from 0.35962\n",
            "1/1 [==============================] - 0s 79ms/step - loss: 0.3550 - val_loss: 0.3596\n",
            "Epoch 3/100\n",
            "1/1 [==============================] - ETA: 0s - loss: 0.4829\n",
            "Epoch 3: val_loss did not improve from 0.35962\n",
            "1/1 [==============================] - 0s 102ms/step - loss: 0.4829 - val_loss: 0.3596\n",
            "Epoch 4/100\n",
            "1/1 [==============================] - ETA: 0s - loss: 0.7217\n",
            "Epoch 4: val_loss did not improve from 0.35962\n",
            "1/1 [==============================] - 0s 93ms/step - loss: 0.7217 - val_loss: 0.3596\n",
            "Epoch 5/100\n",
            "1/1 [==============================] - ETA: 0s - loss: 0.4551\n",
            "Epoch 5: val_loss did not improve from 0.35962\n",
            "1/1 [==============================] - 0s 89ms/step - loss: 0.4551 - val_loss: 0.3596\n",
            "Epoch 6/100\n",
            "1/1 [==============================] - ETA: 0s - loss: 1.2988\n",
            "Epoch 6: val_loss did not improve from 0.35962\n",
            "1/1 [==============================] - 0s 104ms/step - loss: 1.2988 - val_loss: 0.3596\n",
            "Epoch 7/100\n",
            "1/1 [==============================] - ETA: 0s - loss: 0.8999\n",
            "Epoch 7: val_loss did not improve from 0.35962\n",
            "1/1 [==============================] - 0s 97ms/step - loss: 0.8999 - val_loss: 0.3596\n",
            "Epoch 8/100\n",
            "1/1 [==============================] - ETA: 0s - loss: 0.2893\n",
            "Epoch 8: val_loss did not improve from 0.35962\n",
            "1/1 [==============================] - 0s 117ms/step - loss: 0.2893 - val_loss: 0.3596\n",
            "Epoch 9/100\n",
            "1/1 [==============================] - ETA: 0s - loss: 0.2671\n",
            "Epoch 9: val_loss did not improve from 0.35962\n",
            "1/1 [==============================] - 0s 88ms/step - loss: 0.2671 - val_loss: 0.3596\n",
            "Epoch 10/100\n",
            "1/1 [==============================] - ETA: 0s - loss: 0.2455\n",
            "Epoch 10: val_loss did not improve from 0.35962\n",
            "1/1 [==============================] - 0s 76ms/step - loss: 0.2455 - val_loss: 0.3596\n",
            "Epoch 11/100\n",
            "1/1 [==============================] - ETA: 0s - loss: 0.5615\n",
            "Epoch 11: val_loss did not improve from 0.35962\n",
            "1/1 [==============================] - 0s 64ms/step - loss: 0.5615 - val_loss: 0.3596\n",
            "Epoch 11: early stopping\n"
          ]
        },
        {
          "output_type": "execute_result",
          "data": {
            "text/plain": [
              "<keras.src.callbacks.History at 0x794784ff6f20>"
            ]
          },
          "metadata": {},
          "execution_count": 43
        }
      ]
    },
    {
      "cell_type": "markdown",
      "source": [
        "## LSTM"
      ],
      "metadata": {
        "id": "riLu0ALdEMXQ"
      }
    },
    {
      "cell_type": "code",
      "source": [
        "from tensorflow.keras.callbacks import EarlyStopping, ModelCheckpoint"
      ],
      "metadata": {
        "id": "IUu67VzBWC7q"
      },
      "execution_count": null,
      "outputs": []
    },
    {
      "cell_type": "code",
      "source": [
        "#device = tf.device(\"gpu:0\" if tf.test.is_gpu_available() else \"cpu:0\")\n",
        "#print(f\"Используем устройство: {device}\")\n",
        "\n",
        "df['point'] = pd.to_datetime(df['point'])\n",
        "\n",
        "X = df[['call_count', 'total_call_time', 'total_exclusive_time',\n",
        "        'min_call_time', 'max_call_time', 'sum_of_squares',\n",
        "        'instances']].values.reshape(len(df), 1, 7)\n",
        "y = df['point'].values\n",
        "\n",
        "model = Sequential()\n",
        "model.add(LSTM(64, input_shape=(1, 7), return_sequences=True))\n",
        "model.add(Dropout(0.2))\n",
        "model.add(LSTM(32))\n",
        "model.add(Dropout(0.2))\n",
        "model.add(Dense(1, activation='linear'))\n",
        "\n",
        "model.compile(optimizer=Adam(lr=0.001), loss='mse')\n",
        "\n",
        "early_stopping = EarlyStopping(monitor='val_loss', patience=10, verbose=1)\n",
        "model_checkpoint = ModelCheckpoint('best_model.h5', monitor='val_loss', save_best_only=True, verbose=1)\n",
        "\n",
        "model.fit(X, y, epochs=5, batch_size=32, verbose=1, validation_split=0.2, callbacks=[early_stopping, model_checkpoint])"
      ],
      "metadata": {
        "colab": {
          "base_uri": "https://localhost:8080/",
          "height": 359
        },
        "id": "8Aseuij-EP7n",
        "outputId": "d55a790f-1a4e-41b8-87d4-0f244cd82932"
      },
      "execution_count": null,
      "outputs": [
        {
          "output_type": "stream",
          "name": "stderr",
          "text": [
            "WARNING:absl:`lr` is deprecated in Keras optimizer, please use `learning_rate` or use the legacy optimizer, e.g.,tf.keras.optimizers.legacy.Adam.\n"
          ]
        },
        {
          "output_type": "error",
          "ename": "ValueError",
          "evalue": "Failed to convert a NumPy array to a Tensor (Unsupported numpy type: NPY_DATETIME).",
          "traceback": [
            "\u001b[0;31m---------------------------------------------------------------------------\u001b[0m",
            "\u001b[0;31mValueError\u001b[0m                                Traceback (most recent call last)",
            "\u001b[0;32m<ipython-input-20-1f4d21574a72>\u001b[0m in \u001b[0;36m<cell line: 23>\u001b[0;34m()\u001b[0m\n\u001b[1;32m     21\u001b[0m \u001b[0mmodel_checkpoint\u001b[0m \u001b[0;34m=\u001b[0m \u001b[0mModelCheckpoint\u001b[0m\u001b[0;34m(\u001b[0m\u001b[0;34m'best_model.h5'\u001b[0m\u001b[0;34m,\u001b[0m \u001b[0mmonitor\u001b[0m\u001b[0;34m=\u001b[0m\u001b[0;34m'val_loss'\u001b[0m\u001b[0;34m,\u001b[0m \u001b[0msave_best_only\u001b[0m\u001b[0;34m=\u001b[0m\u001b[0;32mTrue\u001b[0m\u001b[0;34m,\u001b[0m \u001b[0mverbose\u001b[0m\u001b[0;34m=\u001b[0m\u001b[0;36m1\u001b[0m\u001b[0;34m)\u001b[0m\u001b[0;34m\u001b[0m\u001b[0;34m\u001b[0m\u001b[0m\n\u001b[1;32m     22\u001b[0m \u001b[0;34m\u001b[0m\u001b[0m\n\u001b[0;32m---> 23\u001b[0;31m \u001b[0mmodel\u001b[0m\u001b[0;34m.\u001b[0m\u001b[0mfit\u001b[0m\u001b[0;34m(\u001b[0m\u001b[0mX\u001b[0m\u001b[0;34m,\u001b[0m \u001b[0my\u001b[0m\u001b[0;34m,\u001b[0m \u001b[0mepochs\u001b[0m\u001b[0;34m=\u001b[0m\u001b[0;36m5\u001b[0m\u001b[0;34m,\u001b[0m \u001b[0mbatch_size\u001b[0m\u001b[0;34m=\u001b[0m\u001b[0;36m32\u001b[0m\u001b[0;34m,\u001b[0m \u001b[0mverbose\u001b[0m\u001b[0;34m=\u001b[0m\u001b[0;36m1\u001b[0m\u001b[0;34m,\u001b[0m \u001b[0mvalidation_split\u001b[0m\u001b[0;34m=\u001b[0m\u001b[0;36m0.2\u001b[0m\u001b[0;34m,\u001b[0m \u001b[0mcallbacks\u001b[0m\u001b[0;34m=\u001b[0m\u001b[0;34m[\u001b[0m\u001b[0mearly_stopping\u001b[0m\u001b[0;34m,\u001b[0m \u001b[0mmodel_checkpoint\u001b[0m\u001b[0;34m]\u001b[0m\u001b[0;34m)\u001b[0m\u001b[0;34m\u001b[0m\u001b[0;34m\u001b[0m\u001b[0m\n\u001b[0m",
            "\u001b[0;32m/usr/local/lib/python3.10/dist-packages/keras/src/utils/traceback_utils.py\u001b[0m in \u001b[0;36merror_handler\u001b[0;34m(*args, **kwargs)\u001b[0m\n\u001b[1;32m     68\u001b[0m             \u001b[0;31m# To get the full stack trace, call:\u001b[0m\u001b[0;34m\u001b[0m\u001b[0;34m\u001b[0m\u001b[0m\n\u001b[1;32m     69\u001b[0m             \u001b[0;31m# `tf.debugging.disable_traceback_filtering()`\u001b[0m\u001b[0;34m\u001b[0m\u001b[0;34m\u001b[0m\u001b[0m\n\u001b[0;32m---> 70\u001b[0;31m             \u001b[0;32mraise\u001b[0m \u001b[0me\u001b[0m\u001b[0;34m.\u001b[0m\u001b[0mwith_traceback\u001b[0m\u001b[0;34m(\u001b[0m\u001b[0mfiltered_tb\u001b[0m\u001b[0;34m)\u001b[0m \u001b[0;32mfrom\u001b[0m \u001b[0;32mNone\u001b[0m\u001b[0;34m\u001b[0m\u001b[0;34m\u001b[0m\u001b[0m\n\u001b[0m\u001b[1;32m     71\u001b[0m         \u001b[0;32mfinally\u001b[0m\u001b[0;34m:\u001b[0m\u001b[0;34m\u001b[0m\u001b[0;34m\u001b[0m\u001b[0m\n\u001b[1;32m     72\u001b[0m             \u001b[0;32mdel\u001b[0m \u001b[0mfiltered_tb\u001b[0m\u001b[0;34m\u001b[0m\u001b[0;34m\u001b[0m\u001b[0m\n",
            "\u001b[0;32m/usr/local/lib/python3.10/dist-packages/tensorflow/python/framework/constant_op.py\u001b[0m in \u001b[0;36mconvert_to_eager_tensor\u001b[0;34m(value, ctx, dtype)\u001b[0m\n\u001b[1;32m    101\u001b[0m       \u001b[0mdtype\u001b[0m \u001b[0;34m=\u001b[0m \u001b[0mdtypes\u001b[0m\u001b[0;34m.\u001b[0m\u001b[0mas_dtype\u001b[0m\u001b[0;34m(\u001b[0m\u001b[0mdtype\u001b[0m\u001b[0;34m)\u001b[0m\u001b[0;34m.\u001b[0m\u001b[0mas_datatype_enum\u001b[0m\u001b[0;34m\u001b[0m\u001b[0;34m\u001b[0m\u001b[0m\n\u001b[1;32m    102\u001b[0m   \u001b[0mctx\u001b[0m\u001b[0;34m.\u001b[0m\u001b[0mensure_initialized\u001b[0m\u001b[0;34m(\u001b[0m\u001b[0;34m)\u001b[0m\u001b[0;34m\u001b[0m\u001b[0;34m\u001b[0m\u001b[0m\n\u001b[0;32m--> 103\u001b[0;31m   \u001b[0;32mreturn\u001b[0m \u001b[0mops\u001b[0m\u001b[0;34m.\u001b[0m\u001b[0mEagerTensor\u001b[0m\u001b[0;34m(\u001b[0m\u001b[0mvalue\u001b[0m\u001b[0;34m,\u001b[0m \u001b[0mctx\u001b[0m\u001b[0;34m.\u001b[0m\u001b[0mdevice_name\u001b[0m\u001b[0;34m,\u001b[0m \u001b[0mdtype\u001b[0m\u001b[0;34m)\u001b[0m\u001b[0;34m\u001b[0m\u001b[0;34m\u001b[0m\u001b[0m\n\u001b[0m\u001b[1;32m    104\u001b[0m \u001b[0;34m\u001b[0m\u001b[0m\n\u001b[1;32m    105\u001b[0m \u001b[0;34m\u001b[0m\u001b[0m\n",
            "\u001b[0;31mValueError\u001b[0m: Failed to convert a NumPy array to a Tensor (Unsupported numpy type: NPY_DATETIME)."
          ]
        }
      ]
    },
    {
      "cell_type": "markdown",
      "source": [
        "## Построение_индикаторов_для_обрезки_датасета"
      ],
      "metadata": {
        "id": "1nLAvUeznF7l"
      }
    },
    {
      "cell_type": "code",
      "source": [
        "df_isolation = df.set_index('point')"
      ],
      "metadata": {
        "id": "P1Dxvly0Qu-a"
      },
      "execution_count": null,
      "outputs": []
    },
    {
      "cell_type": "code",
      "source": [
        "# Нам в модель не надо брать все данные надо только чувствительные участки\n",
        "\n"
      ],
      "metadata": {
        "id": "pj-NoVGg1eDr"
      },
      "execution_count": null,
      "outputs": []
    },
    {
      "cell_type": "code",
      "source": [
        "def add_indicators(dataset):\n",
        "\n",
        "    #1.3. Система направленного движения (average directional movement index)\n",
        "    adx_indicator = ADXIndicator(df['high'], df['low'], df['price'], 2, False)\n",
        "    df['+DI'] = adx_indicator.adx_pos()\n",
        "    df['-DI'] = adx_indicator.adx_neg()\n",
        "    #df_analysis['ADX'] = adx_indicator.adx() ###!!!\n",
        "\n",
        "    #1.4. Cкользящая средняя по корпусу (the hull moving average)\n",
        "    def WMA(s, period):\n",
        "        return s.rolling(period).apply(lambda x: ((np.arange(period)+1)*x).sum()/(np.arange(period)+1).sum(), raw=True)\n",
        "    def HMA(s, period):\n",
        "        return WMA(WMA(s, period//2).multiply(2).sub(WMA(s, period)), int(np.sqrt(period)))\n",
        "    df['hma'] = HMA(dataset['price'], 10)\n",
        "\n",
        "    #1.5. Стохастический осциллятор (stochastic oscillator)\n",
        "    df['stoch'] = ta.momentum.StochasticOscillator(df['high'], df['low'], df['price']).stoch()\n",
        "\n",
        "    #1.6. Облако Ichimoku (Ichimoku cloud)\n",
        "    df['ichimoku_tenkan'] = ta.trend.ichimoku_base_line(df['high'], df['low'], window1=9, window2=26, fillna=True)\n",
        "    df['ichimoku_kijun'] = ta.trend.ichimoku_conversion_line(df['high'], df['low'], window2=26, fillna=True)\n",
        "    df['ichimoku_senkou_a'] = ta.trend.ichimoku_a(df['high'], df['low'], window2=26, fillna=True)\n",
        "    df['ichimoku_senkou_b'] = ta.trend.ichimoku_b(df['high'], df['low'], window2=26, fillna=True)\n",
        "\n",
        "    #1.7. Williams %R (williams_%r)\n",
        "    period = 5\n",
        "    highest_high = df['high'].rolling(period).max()\n",
        "    lowest_low = df['low'].rolling(period).min()\n",
        "    close = df['price']\n",
        "    williams_r = (highest_high - close) / (highest_high - lowest_low) * -100\n",
        "    df['williams_%r'] = williams_r\n",
        "\n",
        "    return dataset\n",
        "\n",
        "df = add_indicators(df)"
      ],
      "metadata": {
        "id": "yuRiNNgtnFdF"
      },
      "execution_count": null,
      "outputs": []
    },
    {
      "cell_type": "code",
      "source": [],
      "metadata": {
        "id": "nqwWyGuZTbWE"
      },
      "execution_count": null,
      "outputs": []
    },
    {
      "cell_type": "markdown",
      "source": [
        "#### 1. Robust Covariance"
      ],
      "metadata": {
        "id": "_aAP_Cr_Fs-o"
      }
    },
    {
      "cell_type": "code",
      "source": [
        "#df.to_feather('/content/drive/MyDrive/Hackatons/RedLab_Anomaly_Detection/metrics_collector.feather')"
      ],
      "metadata": {
        "id": "LoIpNvTPLb_w"
      },
      "execution_count": null,
      "outputs": []
    },
    {
      "cell_type": "code",
      "source": [
        "# Применение Robust Covariance для обнаружения аномалий\n",
        "X = df[['call_count', 'total_call_time',\n",
        "        'total_exclusive_time', 'min_call_time',\n",
        "        'max_call_time', 'sum_of_squares', 'instances']].values\n",
        "clf = EllipticEnvelope(contamination=0.5)\n",
        "\n",
        "with tqdm(total=len(X), desc=\"Processing data\") as pbar:\n",
        "    y_pred = clf.fit_predict(X)\n",
        "    pbar.update(len(X))\n",
        "\n",
        "# Определение аномальных объектов\n",
        "outliers_mask = (y_pred == -1)\n",
        "print(\"Аномальные объекты:\")\n",
        "print(df.loc[outliers_mask])"
      ],
      "metadata": {
        "colab": {
          "base_uri": "https://localhost:8080/",
          "height": 411
        },
        "id": "xasvtfzp68Mc",
        "outputId": "d513b32a-36b8-4c3a-d138-daeff5a1dbbc"
      },
      "execution_count": null,
      "outputs": [
        {
          "output_type": "stream",
          "name": "stderr",
          "text": [
            "Processing data:   0%|          | 0/18363749 [00:26<?, ?it/s]\n"
          ]
        },
        {
          "output_type": "error",
          "ename": "KeyboardInterrupt",
          "evalue": "",
          "traceback": [
            "\u001b[0;31m---------------------------------------------------------------------------\u001b[0m",
            "\u001b[0;31mKeyboardInterrupt\u001b[0m                         Traceback (most recent call last)",
            "\u001b[0;32m<ipython-input-11-8bb77e1cf3ed>\u001b[0m in \u001b[0;36m<cell line: 7>\u001b[0;34m()\u001b[0m\n\u001b[1;32m      6\u001b[0m \u001b[0;34m\u001b[0m\u001b[0m\n\u001b[1;32m      7\u001b[0m \u001b[0;32mwith\u001b[0m \u001b[0mtqdm\u001b[0m\u001b[0;34m(\u001b[0m\u001b[0mtotal\u001b[0m\u001b[0;34m=\u001b[0m\u001b[0mlen\u001b[0m\u001b[0;34m(\u001b[0m\u001b[0mX\u001b[0m\u001b[0;34m)\u001b[0m\u001b[0;34m,\u001b[0m \u001b[0mdesc\u001b[0m\u001b[0;34m=\u001b[0m\u001b[0;34m\"Processing data\"\u001b[0m\u001b[0;34m)\u001b[0m \u001b[0;32mas\u001b[0m \u001b[0mpbar\u001b[0m\u001b[0;34m:\u001b[0m\u001b[0;34m\u001b[0m\u001b[0;34m\u001b[0m\u001b[0m\n\u001b[0;32m----> 8\u001b[0;31m     \u001b[0my_pred\u001b[0m \u001b[0;34m=\u001b[0m \u001b[0mclf\u001b[0m\u001b[0;34m.\u001b[0m\u001b[0mfit_predict\u001b[0m\u001b[0;34m(\u001b[0m\u001b[0mX\u001b[0m\u001b[0;34m)\u001b[0m\u001b[0;34m\u001b[0m\u001b[0;34m\u001b[0m\u001b[0m\n\u001b[0m\u001b[1;32m      9\u001b[0m     \u001b[0mpbar\u001b[0m\u001b[0;34m.\u001b[0m\u001b[0mupdate\u001b[0m\u001b[0;34m(\u001b[0m\u001b[0mlen\u001b[0m\u001b[0;34m(\u001b[0m\u001b[0mX\u001b[0m\u001b[0;34m)\u001b[0m\u001b[0;34m)\u001b[0m\u001b[0;34m\u001b[0m\u001b[0;34m\u001b[0m\u001b[0m\n\u001b[1;32m     10\u001b[0m \u001b[0;34m\u001b[0m\u001b[0m\n",
            "\u001b[0;32m/usr/local/lib/python3.10/dist-packages/sklearn/base.py\u001b[0m in \u001b[0;36mfit_predict\u001b[0;34m(self, X, y)\u001b[0m\n\u001b[1;32m    995\u001b[0m         \"\"\"\n\u001b[1;32m    996\u001b[0m         \u001b[0;31m# override for transductive outlier detectors like LocalOulierFactor\u001b[0m\u001b[0;34m\u001b[0m\u001b[0;34m\u001b[0m\u001b[0m\n\u001b[0;32m--> 997\u001b[0;31m         \u001b[0;32mreturn\u001b[0m \u001b[0mself\u001b[0m\u001b[0;34m.\u001b[0m\u001b[0mfit\u001b[0m\u001b[0;34m(\u001b[0m\u001b[0mX\u001b[0m\u001b[0;34m)\u001b[0m\u001b[0;34m.\u001b[0m\u001b[0mpredict\u001b[0m\u001b[0;34m(\u001b[0m\u001b[0mX\u001b[0m\u001b[0;34m)\u001b[0m\u001b[0;34m\u001b[0m\u001b[0;34m\u001b[0m\u001b[0m\n\u001b[0m\u001b[1;32m    998\u001b[0m \u001b[0;34m\u001b[0m\u001b[0m\n\u001b[1;32m    999\u001b[0m \u001b[0;34m\u001b[0m\u001b[0m\n",
            "\u001b[0;32m/usr/local/lib/python3.10/dist-packages/sklearn/covariance/_elliptic_envelope.py\u001b[0m in \u001b[0;36mfit\u001b[0;34m(self, X, y)\u001b[0m\n\u001b[1;32m    180\u001b[0m         \"\"\"\n\u001b[1;32m    181\u001b[0m         \u001b[0;31m# `_validate_params` is called in `MinCovDet`\u001b[0m\u001b[0;34m\u001b[0m\u001b[0;34m\u001b[0m\u001b[0m\n\u001b[0;32m--> 182\u001b[0;31m         \u001b[0msuper\u001b[0m\u001b[0;34m(\u001b[0m\u001b[0;34m)\u001b[0m\u001b[0;34m.\u001b[0m\u001b[0mfit\u001b[0m\u001b[0;34m(\u001b[0m\u001b[0mX\u001b[0m\u001b[0;34m)\u001b[0m\u001b[0;34m\u001b[0m\u001b[0;34m\u001b[0m\u001b[0m\n\u001b[0m\u001b[1;32m    183\u001b[0m         \u001b[0mself\u001b[0m\u001b[0;34m.\u001b[0m\u001b[0moffset_\u001b[0m \u001b[0;34m=\u001b[0m \u001b[0mnp\u001b[0m\u001b[0;34m.\u001b[0m\u001b[0mpercentile\u001b[0m\u001b[0;34m(\u001b[0m\u001b[0;34m-\u001b[0m\u001b[0mself\u001b[0m\u001b[0;34m.\u001b[0m\u001b[0mdist_\u001b[0m\u001b[0;34m,\u001b[0m \u001b[0;36m100.0\u001b[0m \u001b[0;34m*\u001b[0m \u001b[0mself\u001b[0m\u001b[0;34m.\u001b[0m\u001b[0mcontamination\u001b[0m\u001b[0;34m)\u001b[0m\u001b[0;34m\u001b[0m\u001b[0;34m\u001b[0m\u001b[0m\n\u001b[1;32m    184\u001b[0m         \u001b[0;32mreturn\u001b[0m \u001b[0mself\u001b[0m\u001b[0;34m\u001b[0m\u001b[0;34m\u001b[0m\u001b[0m\n",
            "\u001b[0;32m/usr/local/lib/python3.10/dist-packages/sklearn/covariance/_robust_covariance.py\u001b[0m in \u001b[0;36mfit\u001b[0;34m(self, X, y)\u001b[0m\n\u001b[1;32m    747\u001b[0m             )\n\u001b[1;32m    748\u001b[0m         \u001b[0;31m# compute and store raw estimates\u001b[0m\u001b[0;34m\u001b[0m\u001b[0;34m\u001b[0m\u001b[0m\n\u001b[0;32m--> 749\u001b[0;31m         raw_location, raw_covariance, raw_support, raw_dist = fast_mcd(\n\u001b[0m\u001b[1;32m    750\u001b[0m             \u001b[0mX\u001b[0m\u001b[0;34m,\u001b[0m\u001b[0;34m\u001b[0m\u001b[0;34m\u001b[0m\u001b[0m\n\u001b[1;32m    751\u001b[0m             \u001b[0msupport_fraction\u001b[0m\u001b[0;34m=\u001b[0m\u001b[0mself\u001b[0m\u001b[0;34m.\u001b[0m\u001b[0msupport_fraction\u001b[0m\u001b[0;34m,\u001b[0m\u001b[0;34m\u001b[0m\u001b[0;34m\u001b[0m\u001b[0m\n",
            "\u001b[0;32m/usr/local/lib/python3.10/dist-packages/sklearn/covariance/_robust_covariance.py\u001b[0m in \u001b[0;36mfast_mcd\u001b[0;34m(X, support_fraction, cov_computation_method, random_state)\u001b[0m\n\u001b[1;32m    491\u001b[0m             \u001b[0mhigh_bound\u001b[0m \u001b[0;34m=\u001b[0m \u001b[0mlow_bound\u001b[0m \u001b[0;34m+\u001b[0m \u001b[0mn_samples_subsets\u001b[0m\u001b[0;34m\u001b[0m\u001b[0;34m\u001b[0m\u001b[0m\n\u001b[1;32m    492\u001b[0m             \u001b[0mcurrent_subset\u001b[0m \u001b[0;34m=\u001b[0m \u001b[0mX\u001b[0m\u001b[0;34m[\u001b[0m\u001b[0msamples_shuffle\u001b[0m\u001b[0;34m[\u001b[0m\u001b[0mlow_bound\u001b[0m\u001b[0;34m:\u001b[0m\u001b[0mhigh_bound\u001b[0m\u001b[0;34m]\u001b[0m\u001b[0;34m]\u001b[0m\u001b[0;34m\u001b[0m\u001b[0;34m\u001b[0m\u001b[0m\n\u001b[0;32m--> 493\u001b[0;31m             best_locations_sub, best_covariances_sub, _, _ = select_candidates(\n\u001b[0m\u001b[1;32m    494\u001b[0m                 \u001b[0mcurrent_subset\u001b[0m\u001b[0;34m,\u001b[0m\u001b[0;34m\u001b[0m\u001b[0;34m\u001b[0m\u001b[0m\n\u001b[1;32m    495\u001b[0m                 \u001b[0mh_subset\u001b[0m\u001b[0;34m,\u001b[0m\u001b[0;34m\u001b[0m\u001b[0;34m\u001b[0m\u001b[0m\n",
            "\u001b[0;32m/usr/local/lib/python3.10/dist-packages/sklearn/covariance/_robust_covariance.py\u001b[0m in \u001b[0;36mselect_candidates\u001b[0;34m(X, n_support, n_trials, select, n_iter, verbose, cov_computation_method, random_state)\u001b[0m\n\u001b[1;32m    316\u001b[0m         \u001b[0;32mfor\u001b[0m \u001b[0mj\u001b[0m \u001b[0;32min\u001b[0m \u001b[0mrange\u001b[0m\u001b[0;34m(\u001b[0m\u001b[0mn_trials\u001b[0m\u001b[0;34m)\u001b[0m\u001b[0;34m:\u001b[0m\u001b[0;34m\u001b[0m\u001b[0;34m\u001b[0m\u001b[0m\n\u001b[1;32m    317\u001b[0m             all_estimates.append(\n\u001b[0;32m--> 318\u001b[0;31m                 _c_step(\n\u001b[0m\u001b[1;32m    319\u001b[0m                     \u001b[0mX\u001b[0m\u001b[0;34m,\u001b[0m\u001b[0;34m\u001b[0m\u001b[0;34m\u001b[0m\u001b[0m\n\u001b[1;32m    320\u001b[0m                     \u001b[0mn_support\u001b[0m\u001b[0;34m,\u001b[0m\u001b[0;34m\u001b[0m\u001b[0;34m\u001b[0m\u001b[0m\n",
            "\u001b[0;32m/usr/local/lib/python3.10/dist-packages/sklearn/covariance/_robust_covariance.py\u001b[0m in \u001b[0;36m_c_step\u001b[0;34m(X, n_support, random_state, remaining_iterations, initial_estimates, verbose, cov_computation_method)\u001b[0m\n\u001b[1;32m    153\u001b[0m         \u001b[0mprevious_support\u001b[0m \u001b[0;34m=\u001b[0m \u001b[0msupport\u001b[0m\u001b[0;34m\u001b[0m\u001b[0;34m\u001b[0m\u001b[0m\n\u001b[1;32m    154\u001b[0m         \u001b[0;31m# compute a new support from the full data set mahalanobis distances\u001b[0m\u001b[0;34m\u001b[0m\u001b[0;34m\u001b[0m\u001b[0m\n\u001b[0;32m--> 155\u001b[0;31m         \u001b[0mprecision\u001b[0m \u001b[0;34m=\u001b[0m \u001b[0mlinalg\u001b[0m\u001b[0;34m.\u001b[0m\u001b[0mpinvh\u001b[0m\u001b[0;34m(\u001b[0m\u001b[0mcovariance\u001b[0m\u001b[0;34m)\u001b[0m\u001b[0;34m\u001b[0m\u001b[0;34m\u001b[0m\u001b[0m\n\u001b[0m\u001b[1;32m    156\u001b[0m         \u001b[0mX_centered\u001b[0m \u001b[0;34m=\u001b[0m \u001b[0mX\u001b[0m \u001b[0;34m-\u001b[0m \u001b[0mlocation\u001b[0m\u001b[0;34m\u001b[0m\u001b[0;34m\u001b[0m\u001b[0m\n\u001b[1;32m    157\u001b[0m         \u001b[0mdist\u001b[0m \u001b[0;34m=\u001b[0m \u001b[0;34m(\u001b[0m\u001b[0mnp\u001b[0m\u001b[0;34m.\u001b[0m\u001b[0mdot\u001b[0m\u001b[0;34m(\u001b[0m\u001b[0mX_centered\u001b[0m\u001b[0;34m,\u001b[0m \u001b[0mprecision\u001b[0m\u001b[0;34m)\u001b[0m \u001b[0;34m*\u001b[0m \u001b[0mX_centered\u001b[0m\u001b[0;34m)\u001b[0m\u001b[0;34m.\u001b[0m\u001b[0msum\u001b[0m\u001b[0;34m(\u001b[0m\u001b[0maxis\u001b[0m\u001b[0;34m=\u001b[0m\u001b[0;36m1\u001b[0m\u001b[0;34m)\u001b[0m\u001b[0;34m\u001b[0m\u001b[0;34m\u001b[0m\u001b[0m\n",
            "\u001b[0;32m/usr/local/lib/python3.10/dist-packages/scipy/linalg/_basic.py\u001b[0m in \u001b[0;36mpinvh\u001b[0;34m(a, atol, rtol, lower, return_rank, check_finite)\u001b[0m\n\u001b[1;32m   1534\u001b[0m     \"\"\"\n\u001b[1;32m   1535\u001b[0m     \u001b[0ma\u001b[0m \u001b[0;34m=\u001b[0m \u001b[0m_asarray_validated\u001b[0m\u001b[0;34m(\u001b[0m\u001b[0ma\u001b[0m\u001b[0;34m,\u001b[0m \u001b[0mcheck_finite\u001b[0m\u001b[0;34m=\u001b[0m\u001b[0mcheck_finite\u001b[0m\u001b[0;34m)\u001b[0m\u001b[0;34m\u001b[0m\u001b[0;34m\u001b[0m\u001b[0m\n\u001b[0;32m-> 1536\u001b[0;31m     \u001b[0ms\u001b[0m\u001b[0;34m,\u001b[0m \u001b[0mu\u001b[0m \u001b[0;34m=\u001b[0m \u001b[0m_decomp\u001b[0m\u001b[0;34m.\u001b[0m\u001b[0meigh\u001b[0m\u001b[0;34m(\u001b[0m\u001b[0ma\u001b[0m\u001b[0;34m,\u001b[0m \u001b[0mlower\u001b[0m\u001b[0;34m=\u001b[0m\u001b[0mlower\u001b[0m\u001b[0;34m,\u001b[0m \u001b[0mcheck_finite\u001b[0m\u001b[0;34m=\u001b[0m\u001b[0;32mFalse\u001b[0m\u001b[0;34m)\u001b[0m\u001b[0;34m\u001b[0m\u001b[0;34m\u001b[0m\u001b[0m\n\u001b[0m\u001b[1;32m   1537\u001b[0m     \u001b[0mt\u001b[0m \u001b[0;34m=\u001b[0m \u001b[0mu\u001b[0m\u001b[0;34m.\u001b[0m\u001b[0mdtype\u001b[0m\u001b[0;34m.\u001b[0m\u001b[0mchar\u001b[0m\u001b[0;34m.\u001b[0m\u001b[0mlower\u001b[0m\u001b[0;34m(\u001b[0m\u001b[0;34m)\u001b[0m\u001b[0;34m\u001b[0m\u001b[0;34m\u001b[0m\u001b[0m\n\u001b[1;32m   1538\u001b[0m     \u001b[0mmaxS\u001b[0m \u001b[0;34m=\u001b[0m \u001b[0mnp\u001b[0m\u001b[0;34m.\u001b[0m\u001b[0mmax\u001b[0m\u001b[0;34m(\u001b[0m\u001b[0mnp\u001b[0m\u001b[0;34m.\u001b[0m\u001b[0mabs\u001b[0m\u001b[0;34m(\u001b[0m\u001b[0ms\u001b[0m\u001b[0;34m)\u001b[0m\u001b[0;34m)\u001b[0m\u001b[0;34m\u001b[0m\u001b[0;34m\u001b[0m\u001b[0m\n",
            "\u001b[0;32m/usr/local/lib/python3.10/dist-packages/scipy/linalg/_decomp.py\u001b[0m in \u001b[0;36meigh\u001b[0;34m(a, b, lower, eigvals_only, overwrite_a, overwrite_b, turbo, eigvals, type, check_finite, subset_by_index, subset_by_value, driver)\u001b[0m\n\u001b[1;32m    558\u001b[0m \u001b[0;34m\u001b[0m\u001b[0m\n\u001b[1;32m    559\u001b[0m         \u001b[0mdrv_args\u001b[0m\u001b[0;34m.\u001b[0m\u001b[0mupdate\u001b[0m\u001b[0;34m(\u001b[0m\u001b[0;34m{\u001b[0m\u001b[0;34m'lower'\u001b[0m\u001b[0;34m:\u001b[0m \u001b[0mlower\u001b[0m\u001b[0;34m,\u001b[0m \u001b[0;34m'compute_v'\u001b[0m\u001b[0;34m:\u001b[0m \u001b[0;36m0\u001b[0m \u001b[0;32mif\u001b[0m \u001b[0m_job\u001b[0m \u001b[0;34m==\u001b[0m \u001b[0;34m\"N\"\u001b[0m \u001b[0;32melse\u001b[0m \u001b[0;36m1\u001b[0m\u001b[0;34m}\u001b[0m\u001b[0;34m)\u001b[0m\u001b[0;34m\u001b[0m\u001b[0;34m\u001b[0m\u001b[0m\n\u001b[0;32m--> 560\u001b[0;31m         \u001b[0mw\u001b[0m\u001b[0;34m,\u001b[0m \u001b[0mv\u001b[0m\u001b[0;34m,\u001b[0m \u001b[0;34m*\u001b[0m\u001b[0mother_args\u001b[0m\u001b[0;34m,\u001b[0m \u001b[0minfo\u001b[0m \u001b[0;34m=\u001b[0m \u001b[0mdrv\u001b[0m\u001b[0;34m(\u001b[0m\u001b[0ma\u001b[0m\u001b[0;34m=\u001b[0m\u001b[0ma1\u001b[0m\u001b[0;34m,\u001b[0m \u001b[0;34m**\u001b[0m\u001b[0mdrv_args\u001b[0m\u001b[0;34m,\u001b[0m \u001b[0;34m**\u001b[0m\u001b[0mlwork_args\u001b[0m\u001b[0;34m)\u001b[0m\u001b[0;34m\u001b[0m\u001b[0;34m\u001b[0m\u001b[0m\n\u001b[0m\u001b[1;32m    561\u001b[0m \u001b[0;34m\u001b[0m\u001b[0m\n\u001b[1;32m    562\u001b[0m     \u001b[0;32melse\u001b[0m\u001b[0;34m:\u001b[0m  \u001b[0;31m# Generalized problem\u001b[0m\u001b[0;34m\u001b[0m\u001b[0;34m\u001b[0m\u001b[0m\n",
            "\u001b[0;31mKeyboardInterrupt\u001b[0m: "
          ]
        }
      ]
    },
    {
      "cell_type": "markdown",
      "source": [
        "#### 1. IsolationForest"
      ],
      "metadata": {
        "id": "W8WFjSIN_BIR"
      }
    },
    {
      "cell_type": "code",
      "source": [
        "df_isolation = df.set_index('point')"
      ],
      "metadata": {
        "id": "ME4-VWwRDmgT"
      },
      "execution_count": null,
      "outputs": []
    },
    {
      "cell_type": "code",
      "source": [
        "%time\n",
        "# сделать подбор оптимального contamination !!!\n",
        "clf = IsolationForest(contamination=0.5)\n",
        "\n",
        "with tqdm(total=len(X), desc=\"Processing data\") as pbar:\n",
        "    y_pred = clf.fit_predict(X)\n",
        "    pbar.update(len(X))"
      ],
      "metadata": {
        "colab": {
          "base_uri": "https://localhost:8080/",
          "height": 265
        },
        "id": "hQ6_TT1w6-I8",
        "outputId": "09036df0-fd3b-4a82-c000-deafc0be7636"
      },
      "execution_count": null,
      "outputs": [
        {
          "output_type": "stream",
          "name": "stdout",
          "text": [
            "CPU times: user 5 µs, sys: 0 ns, total: 5 µs\n",
            "Wall time: 9.3 µs\n"
          ]
        },
        {
          "output_type": "error",
          "ename": "NameError",
          "evalue": "name 'X' is not defined",
          "traceback": [
            "\u001b[0;31m---------------------------------------------------------------------------\u001b[0m",
            "\u001b[0;31mNameError\u001b[0m                                 Traceback (most recent call last)",
            "\u001b[0;32m<ipython-input-10-855d03a4c090>\u001b[0m in \u001b[0;36m<cell line: 5>\u001b[0;34m()\u001b[0m\n\u001b[1;32m      3\u001b[0m \u001b[0mclf\u001b[0m \u001b[0;34m=\u001b[0m \u001b[0mIsolationForest\u001b[0m\u001b[0;34m(\u001b[0m\u001b[0mcontamination\u001b[0m\u001b[0;34m=\u001b[0m\u001b[0;36m0.5\u001b[0m\u001b[0;34m)\u001b[0m\u001b[0;34m\u001b[0m\u001b[0;34m\u001b[0m\u001b[0m\n\u001b[1;32m      4\u001b[0m \u001b[0;34m\u001b[0m\u001b[0m\n\u001b[0;32m----> 5\u001b[0;31m \u001b[0;32mwith\u001b[0m \u001b[0mtqdm\u001b[0m\u001b[0;34m(\u001b[0m\u001b[0mtotal\u001b[0m\u001b[0;34m=\u001b[0m\u001b[0mlen\u001b[0m\u001b[0;34m(\u001b[0m\u001b[0mX\u001b[0m\u001b[0;34m)\u001b[0m\u001b[0;34m,\u001b[0m \u001b[0mdesc\u001b[0m\u001b[0;34m=\u001b[0m\u001b[0;34m\"Processing data\"\u001b[0m\u001b[0;34m)\u001b[0m \u001b[0;32mas\u001b[0m \u001b[0mpbar\u001b[0m\u001b[0;34m:\u001b[0m\u001b[0;34m\u001b[0m\u001b[0;34m\u001b[0m\u001b[0m\n\u001b[0m\u001b[1;32m      6\u001b[0m     \u001b[0my_pred\u001b[0m \u001b[0;34m=\u001b[0m \u001b[0mclf\u001b[0m\u001b[0;34m.\u001b[0m\u001b[0mfit_predict\u001b[0m\u001b[0;34m(\u001b[0m\u001b[0mX\u001b[0m\u001b[0;34m)\u001b[0m\u001b[0;34m\u001b[0m\u001b[0;34m\u001b[0m\u001b[0m\n\u001b[1;32m      7\u001b[0m     \u001b[0mpbar\u001b[0m\u001b[0;34m.\u001b[0m\u001b[0mupdate\u001b[0m\u001b[0;34m(\u001b[0m\u001b[0mlen\u001b[0m\u001b[0;34m(\u001b[0m\u001b[0mX\u001b[0m\u001b[0;34m)\u001b[0m\u001b[0;34m)\u001b[0m\u001b[0;34m\u001b[0m\u001b[0;34m\u001b[0m\u001b[0m\n",
            "\u001b[0;31mNameError\u001b[0m: name 'X' is not defined"
          ]
        }
      ]
    },
    {
      "cell_type": "code",
      "source": [
        "plt.figure(figsize=(12, 6))\n",
        "plt.scatter(df.index, y_pred, c=y_pred, cmap='viridis')\n",
        "plt.title('Isolation Forest Anomaly Detection')\n",
        "plt.xlabel('Index')\n",
        "plt.ylabel('Anomaly Score')\n",
        "plt.show()"
      ],
      "metadata": {
        "id": "g_B3fXFc0OwZ"
      },
      "execution_count": null,
      "outputs": []
    },
    {
      "cell_type": "code",
      "source": [
        "del df_isolation"
      ],
      "metadata": {
        "id": "kEgATGEyECzJ"
      },
      "execution_count": null,
      "outputs": []
    },
    {
      "cell_type": "markdown",
      "source": [
        "#### 2. OneClassSVM"
      ],
      "metadata": {
        "id": "xWXlgsSTG9rm"
      }
    },
    {
      "cell_type": "code",
      "source": [
        "from sklearn.svm import OneClassSVM"
      ],
      "metadata": {
        "id": "5kK5K4KyElDx"
      },
      "execution_count": null,
      "outputs": []
    },
    {
      "cell_type": "code",
      "source": [
        "# Подготовка данных\n",
        "X = df.drop(['point'], axis=1).values\n",
        "scaler = StandardScaler()\n",
        "X_scaled = scaler.fit_transform(X)"
      ],
      "metadata": {
        "id": "v9ZxSrXOFNRk"
      },
      "execution_count": null,
      "outputs": []
    },
    {
      "cell_type": "code",
      "source": [
        "# Обучение модели OC-SVM\n",
        "clf = OneClassSVM(nu=0.01, kernel='rbf', gamma='auto')\n",
        "clf.fit(X_scaled)"
      ],
      "metadata": {
        "id": "j8C7G4WPFxqo"
      },
      "execution_count": null,
      "outputs": []
    },
    {
      "cell_type": "code",
      "source": [
        "# Определение аномалий\n",
        "anomalies = clf.predict(X_scaled)\n",
        "\n",
        "# Вывод результатов\n",
        "df['is_anomaly'] = anomalies\n",
        "print(df)"
      ],
      "metadata": {
        "id": "HUfdrGIJElB6"
      },
      "execution_count": null,
      "outputs": []
    },
    {
      "cell_type": "markdown",
      "source": [
        "#### 4. Автокодировщики (Autoencoders) - Advanced"
      ],
      "metadata": {
        "id": "nJjGKWgdT2DE"
      }
    },
    {
      "cell_type": "code",
      "source": [
        "with device:\n",
        "    model = Sequential()\n",
        "\n",
        "    # layer_1\n",
        "    model.add(Dense(16, input_dim=X_scaled.shape[1],\n",
        "                    activation=LeakyReLU()))\n",
        "    model.add(BatchNormalization())\n",
        "    model.add(Dropout(0.05))\n",
        "\n",
        "    # layer_2\n",
        "    model.add(Dense(8, activation=LeakyReLU()))\n",
        "    model.add(BatchNormalization())\n",
        "    model.add(Dropout(0.05))\n",
        "\n",
        "    # layer_3\n",
        "    model.add(Dense(16, activation=LeakyReLU()))\n",
        "    model.add(BatchNormalization())\n",
        "    model.add(Dropout(0.03))\n",
        "\n",
        "    # layer_4\n",
        "    model.add(Dense(X_scaled.shape[1], activation='linear'))\n",
        "    model.compile(optimizer=Adam(learning_rate=0.1), loss=MeanSquaredError())\n",
        "\n",
        "    early_stopping = EarlyStopping(monitor='loss', patience=10, verbose=1)\n",
        "    tqdm_callback = TqdmCallback(verbose=1)\n",
        "    model.fit(X_scaled, X_scaled, epochs=15,\n",
        "              batch_size=64, verbose=0,\n",
        "              callbacks=[tqdm_callback, early_stopping])"
      ],
      "metadata": {
        "colab": {
          "base_uri": "https://localhost:8080/",
          "height": 101,
          "referenced_widgets": [
            "ce84f69ab8b84f99aa0d218d38f133e3",
            "3d2c7967c01a46cc97073ba93efbe050",
            "ca1c3ab561ce49a49f9a1404ad45ac9c",
            "710fa06595a946b496f32a146fdaa0b4",
            "eee284412ece4832b89232b3c9fc2e6a",
            "124a3df6a57c410e9c8e5bac3a4eeb65",
            "9a9edc0475f84bd7a8cb69d945d1df8d",
            "3ef037e0c5524048ae10fd47cac6ddc4",
            "d61bed9a1f174909a68990c081fe2294",
            "052408b69fed4ad49ac334aaa16b29f1",
            "29f33b1c07274242afc3acb1bb784de5",
            "543b5bac4aba4ae5b3dde0dd6ff15eda",
            "aac96da87fff40de9a2fe17af2bd7dad",
            "364dad56521a41068be3d7a7d330b99a",
            "c682184cd877451cb7936da27e9d45c1",
            "82e12f9008664c45a1b3011e1c90fb8e",
            "b5a1e923090c4fc3a01a6e7e29a7a49a",
            "d4f3620ff0f845919b3eb025f3e18469",
            "20573526801a44508cb76c0b03337a4b",
            "ff73aada1ddd40f881cddd6d6d755803",
            "4fb4a4d83dc744fbb0e01c90a74b35d9",
            "ea4dd2d5a96b4ae3ae5eaed5a4e064ae"
          ]
        },
        "id": "y2ZxqrrIT1Va",
        "outputId": "9a3afe56-a294-4212-dc27-d0da29f36e34"
      },
      "execution_count": null,
      "outputs": [
        {
          "output_type": "display_data",
          "data": {
            "text/plain": [
              "0epoch [00:00, ?epoch/s]"
            ],
            "application/vnd.jupyter.widget-view+json": {
              "version_major": 2,
              "version_minor": 0,
              "model_id": "ce84f69ab8b84f99aa0d218d38f133e3"
            }
          },
          "metadata": {}
        },
        {
          "output_type": "display_data",
          "data": {
            "text/plain": [
              "0batch [00:00, ?batch/s]"
            ],
            "application/vnd.jupyter.widget-view+json": {
              "version_major": 2,
              "version_minor": 0,
              "model_id": "543b5bac4aba4ae5b3dde0dd6ff15eda"
            }
          },
          "metadata": {}
        }
      ]
    },
    {
      "cell_type": "code",
      "source": [
        "# Определение аномалий\n",
        "reconstructed = model.predict(X_scaled)\n",
        "mse = np.mean(np.power(X_scaled - reconstructed, 2), axis=1)\n",
        "threshold = np.mean(mse) + 2 * np.std(mse)\n",
        "anomalies = mse > threshold\n",
        "\n",
        "# Вывод результатов\n",
        "df['is_anomaly_advanced'] = anomalies.astype(int)\n",
        "print(df)"
      ],
      "metadata": {
        "id": "Oug3BstRT1T1"
      },
      "execution_count": null,
      "outputs": []
    },
    {
      "cell_type": "code",
      "source": [
        "unique_values = df['is_anomaly_advanced'].unique()\n",
        "print(unique_values)"
      ],
      "metadata": {
        "id": "rwBUs0hET1SQ"
      },
      "execution_count": null,
      "outputs": []
    },
    {
      "cell_type": "code",
      "source": [
        "unique_values = df['is_anomaly_advanced'].unique()\n",
        "print(f\"Уникальные значения в колонке 'is_anomaly_simple': {unique_values}\")\n",
        "\n",
        "# Подсчет количества значений 0 и 1\n",
        "count_0 = df[df['is_anomaly_advanced'] == 0].shape[0]\n",
        "count_1 = df[df['is_anomaly_advanced'] == 1].shape[0]\n",
        "\n",
        "print(f\"Количество значений 0: {count_0}\")\n",
        "print(f\"Количество значений 1: {count_1}\")"
      ],
      "metadata": {
        "id": "F6DNGKVDAAkU"
      },
      "execution_count": null,
      "outputs": []
    },
    {
      "cell_type": "code",
      "source": [
        "df_0 = df[df['is_anomaly_advanced'] == 0]\n",
        "df_1 = df[df['is_anomaly_advanced'] == 1]"
      ],
      "metadata": {
        "id": "0TTva8luE3cs"
      },
      "execution_count": null,
      "outputs": []
    },
    {
      "cell_type": "code",
      "source": [
        "print(df_1['point'])"
      ],
      "metadata": {
        "id": "cA9Pps6_E_Ho"
      },
      "execution_count": null,
      "outputs": []
    },
    {
      "cell_type": "code",
      "source": [
        "plt.figure(figsize=(12, 6))\n",
        "plt.plot(df_1['point'], [0] * len(df_1), 'ro', markersize=5)\n",
        "plt.xlabel('Время')\n",
        "plt.ylabel('Значение')\n",
        "plt.title('Распределение значений по времени для класса 1')\n",
        "plt.show()"
      ],
      "metadata": {
        "id": "AiJEY9HPEtPr"
      },
      "execution_count": null,
      "outputs": []
    },
    {
      "cell_type": "markdown",
      "source": [
        "#### 4. Local Outlier Factor (LOF)"
      ],
      "metadata": {
        "id": "HhGDUHPxLyje"
      }
    },
    {
      "cell_type": "code",
      "source": [],
      "metadata": {
        "id": "T38GfP7nEk9p"
      },
      "execution_count": null,
      "outputs": []
    },
    {
      "cell_type": "code",
      "source": [],
      "metadata": {
        "id": "UekoCABUHFjK"
      },
      "execution_count": null,
      "outputs": []
    },
    {
      "cell_type": "code",
      "source": [],
      "metadata": {
        "id": "eRxmSsEGHFed"
      },
      "execution_count": null,
      "outputs": []
    },
    {
      "cell_type": "code",
      "source": [],
      "metadata": {
        "id": "1PXkM6ovHFcS"
      },
      "execution_count": null,
      "outputs": []
    },
    {
      "cell_type": "code",
      "source": [],
      "metadata": {
        "id": "Xj5b3EedHFZW"
      },
      "execution_count": null,
      "outputs": []
    },
    {
      "cell_type": "markdown",
      "source": [
        "#### 2. Darts"
      ],
      "metadata": {
        "id": "PptoPYxm_OlU"
      }
    },
    {
      "cell_type": "code",
      "source": [
        "!pip show darts"
      ],
      "metadata": {
        "id": "E98k9q4RDUQk"
      },
      "execution_count": null,
      "outputs": []
    },
    {
      "cell_type": "code",
      "source": [
        "import darts\n",
        "from darts.models import HoltWintersModel"
      ],
      "metadata": {
        "id": "u_fWf4YhDS6L"
      },
      "execution_count": null,
      "outputs": []
    },
    {
      "cell_type": "code",
      "source": [
        "df.head().T"
      ],
      "metadata": {
        "id": "unBuXQ70ASXG"
      },
      "execution_count": null,
      "outputs": []
    },
    {
      "cell_type": "code",
      "source": [
        "df.info()"
      ],
      "metadata": {
        "id": "UQmVudXJ_qNv"
      },
      "execution_count": null,
      "outputs": []
    },
    {
      "cell_type": "code",
      "source": [
        "import pandas as pd\n",
        "from darts import TimeSeries\n",
        "from darts.models import HoltWintersModel\n",
        "#from darts.models.anomaly_detection.darts_detector import DartsDetector"
      ],
      "metadata": {
        "id": "nzEVUF_qDwgQ"
      },
      "execution_count": null,
      "outputs": []
    },
    {
      "cell_type": "code",
      "source": [
        "import pandas as pd\n",
        "from darts import TimeSeries\n",
        "from darts.models.forecasting.holtwinters_model import HoltWintersModel\n",
        "from darts.models.anomaly_detection.darts_detector import DartsDetector\n",
        "\n",
        "# Загружаем данные в Darts TimeSeries\n",
        "df = pd.DataFrame(df, index=pd.date_range(\"2024-04-15 23:33:00\", periods=5, freq=\"1min\"))\n",
        "\n",
        "ts = TimeSeries.from_dataframe(df, time_col_name=\"index\")\n",
        "\n",
        "# Обучаем модель Хольта-Винтерса\n",
        "model = HoltWintersModel()\n",
        "model.fit(ts)\n",
        "\n",
        "# Создаем детектор аномалий Darts\n",
        "detector = DartsDetector(model)\n",
        "\n",
        "# Обнаруживаем аномалии\n",
        "anomalies = detector.find_anomalies(ts)\n",
        "\n",
        "# Выводим результаты\n",
        "print(\"Обнаруженные аномалии:\")\n",
        "for anomaly in anomalies:\n",
        "    print(f\"Дата: {anomaly.time}, Значение: {anomaly.value}\")"
      ],
      "metadata": {
        "id": "TsIFIJ8WAjYw"
      },
      "execution_count": null,
      "outputs": []
    },
    {
      "cell_type": "code",
      "source": [
        "df = df\n",
        "\n",
        "# Преобразование DataFrame в объект TimeSeries\n",
        "time_series = TimeSeries.from_dataframe(df, 'timestamp', 'value')  # Замените 'timestamp' и 'value' на соответствующие столбцы\n",
        "\n",
        "# Масштабирование данных (необязательно)\n",
        "scaler = Scaler()\n",
        "scaled_time_series = scaler.fit_transform(time_series)\n",
        "\n",
        "# Разделение данных на тренировочные и валидационные наборы\n",
        "train, val = scaled_time_series.split_before(0.6)"
      ],
      "metadata": {
        "id": "M35k9unZ0Ooc"
      },
      "execution_count": null,
      "outputs": []
    },
    {
      "cell_type": "code",
      "source": [
        "scorer = KMeansScorer(k=2, window=5)\n",
        "scorer.fit(train)\n",
        "anom_score = scorer.score(val)"
      ],
      "metadata": {
        "id": "2SHl3Jmtz7Sl"
      },
      "execution_count": null,
      "outputs": []
    },
    {
      "cell_type": "code",
      "source": [
        "detector = QuantileDetector(high_quantile=0.99)\n",
        "detector.fit(scorer.score(train))\n",
        "binary_anom = detector.detect(anom_score)"
      ],
      "metadata": {
        "id": "PfxYMknholn4"
      },
      "execution_count": null,
      "outputs": []
    },
    {
      "cell_type": "code",
      "source": [
        "series.plot()\n",
        "(anom_score / 2. - 100).plot(label=\"computed anomaly score\", c=\"orangered\", lw=3)\n",
        "(binary_anom * 45 - 150).plot(label=\"detected binary anomaly\", lw=4)"
      ],
      "metadata": {
        "id": "nQxhML3M_5x4"
      },
      "execution_count": null,
      "outputs": []
    },
    {
      "cell_type": "markdown",
      "source": [
        "#### 3. PyPots"
      ],
      "metadata": {
        "id": "RkFI8ZohBr3U"
      }
    },
    {
      "cell_type": "code",
      "source": [
        "import numpy as np\n",
        "from pypots.univariate import SPOT\n",
        "\n",
        "# Создаем экземпляр детектора аномалий SPOT\n",
        "detector = SPOT()\n",
        "\n",
        "# Извлекаем значения столбца 'call_count' в виде массива NumPy\n",
        "data = df['call_count'].values\n",
        "\n",
        "# Применяем алгоритм SPOT для поиска аномалий\n",
        "anomalies = detector.fit_detect(data)\n",
        "\n",
        "# Отобразить результаты\n",
        "for i, is_anomaly in enumerate(anomalies):\n",
        "    if is_anomaly:\n",
        "        print(f\"Аномалия обнаружена в точке {df.index[i]}\")\n",
        "    else:\n",
        "        print(f\"Нормальное значение в точке {df.index[i]}\")"
      ],
      "metadata": {
        "id": "Or5ZK74p_5vX"
      },
      "execution_count": null,
      "outputs": []
    },
    {
      "cell_type": "code",
      "source": [],
      "metadata": {
        "id": "LYRFWigq_5sg"
      },
      "execution_count": null,
      "outputs": []
    },
    {
      "cell_type": "code",
      "source": [
        "# Сохраняем DataFrame в файл CSV\n",
        "df.to_csv('/content/drive/MyDrive/Hackatons/RedLab_Anomaly_Detection/metrics_collector_v_01.csv', index=False)\n",
        "print(\"Данные успешно сохранены в файл CSV.\")"
      ],
      "metadata": {
        "id": "7jaJ_LbNSd2V"
      },
      "execution_count": null,
      "outputs": []
    },
    {
      "cell_type": "code",
      "source": [],
      "metadata": {
        "id": "umIXcfHani3v"
      },
      "execution_count": null,
      "outputs": []
    },
    {
      "cell_type": "code",
      "source": [],
      "metadata": {
        "id": "Zrj9b5wcni1c"
      },
      "execution_count": null,
      "outputs": []
    },
    {
      "cell_type": "code",
      "source": [],
      "metadata": {
        "id": "ujtx5vh3ne3d"
      },
      "execution_count": null,
      "outputs": []
    },
    {
      "cell_type": "code",
      "source": [],
      "metadata": {
        "id": "kATqE9ltne1r"
      },
      "execution_count": null,
      "outputs": []
    },
    {
      "cell_type": "code",
      "source": [],
      "metadata": {
        "id": "6eFf2Ckgnezr"
      },
      "execution_count": null,
      "outputs": []
    },
    {
      "cell_type": "code",
      "source": [],
      "metadata": {
        "id": "Yco2XbcJnewy"
      },
      "execution_count": null,
      "outputs": []
    },
    {
      "cell_type": "code",
      "source": [],
      "metadata": {
        "id": "R_eQ-6wcneu5"
      },
      "execution_count": null,
      "outputs": []
    },
    {
      "cell_type": "code",
      "source": [],
      "metadata": {
        "id": "UmBl0KConeso"
      },
      "execution_count": null,
      "outputs": []
    },
    {
      "cell_type": "code",
      "source": [],
      "metadata": {
        "id": "4xP20CofSdyd"
      },
      "execution_count": null,
      "outputs": []
    },
    {
      "cell_type": "code",
      "source": [],
      "metadata": {
        "id": "_CfcftHERGp3"
      },
      "execution_count": null,
      "outputs": []
    },
    {
      "cell_type": "code",
      "source": [],
      "metadata": {
        "id": "esyM5-IYRGoF"
      },
      "execution_count": null,
      "outputs": []
    },
    {
      "cell_type": "code",
      "source": [],
      "metadata": {
        "id": "r9ksGGSzRGmG"
      },
      "execution_count": null,
      "outputs": []
    },
    {
      "cell_type": "markdown",
      "source": [
        "## PyPots"
      ],
      "metadata": {
        "id": "ubmSrbtZ9upb"
      }
    },
    {
      "cell_type": "code",
      "source": [
        "# Data preprocessing. Tedious, but PyPOTS can help.\n",
        "\n",
        "data = load_specific_dataset('physionet_2012')  # PyPOTS will automatically download and extract it.\n",
        "X = data['X']\n",
        "num_samples = len(X['RecordID'].unique())\n",
        "X = X.drop(['RecordID', 'Time'], axis = 1)\n",
        "X = StandardScaler().fit_transform(X.to_numpy())\n",
        "X = X.reshape(num_samples, 48, -1)\n",
        "X_ori = X  # keep X_ori for validation\n",
        "X = mcar(X, 0.1)  # randomly hold out 10% observed values as ground truth\n",
        "dataset = {\"X\": X}  # X for model input\n",
        "print(X.shape)  # (11988, 48, 37), 11988 samples and each sample has 48 time steps, 37 features\n",
        "\n",
        "# Model training. This is PyPOTS showtime.\n",
        "from pypots.imputation import SAITS\n",
        "from pypots.utils.metrics import calc_mae\n",
        "saits = SAITS(n_steps=48, n_features=37, n_layers=2, d_model=256, n_heads=4, d_k=64, d_v=64, d_ffn=128, dropout=0.1, epochs=10)\n",
        "# Here I use the whole dataset as the training set because ground truth is not visible to the model, you can also split it into train/val/test sets\n",
        "saits.fit(dataset)  # train the model on the dataset\n",
        "imputation = saits.impute(dataset)  # impute the originally-missing values and artificially-missing values\n",
        "indicating_mask = np.isnan(X) ^ np.isnan(X_ori)  # indicating mask for imputation error calculation\n",
        "mae = calc_mae(imputation, np.nan_to_num(X_ori), indicating_mask)  # calculate mean absolute error on the ground truth (artificially-missing values)\n",
        "saits.save(\"save_it_here/saits_physionet2012.pypots\")  # save the model for future use\n",
        "saits.load(\"save_it_here/saits_physionet2012.pypots\")  # reload the serialized model file for following imputation or training"
      ],
      "metadata": {
        "id": "GDXFEJdS9tzC"
      },
      "execution_count": null,
      "outputs": []
    },
    {
      "cell_type": "markdown",
      "source": [
        "## Transformer-based Autoencoder with contrastive learning and Generative Adversarial Networks (GAN)"
      ],
      "metadata": {
        "id": "tsDltk5U6O3e"
      }
    },
    {
      "cell_type": "code",
      "source": [
        "# Load the dataset\n",
        "data = pd.read_csv('creditcard.csv')"
      ],
      "metadata": {
        "id": "mfGR-vDg4gqB"
      },
      "execution_count": null,
      "outputs": []
    },
    {
      "cell_type": "code",
      "source": [
        "# Check for missing values in the 'Class' column\n",
        "print(\"Missing values in 'Class' column:\", data['Class'].isnull().sum())"
      ],
      "metadata": {
        "id": "5e9dsAax7nVs"
      },
      "execution_count": null,
      "outputs": []
    },
    {
      "cell_type": "code",
      "source": [
        "# Drop rows where 'Class' is NaN\n",
        "data = data.dropna(subset=['Class'])"
      ],
      "metadata": {
        "id": "w5WHPW4F7on1"
      },
      "execution_count": null,
      "outputs": []
    },
    {
      "cell_type": "code",
      "source": [
        "# Re-check to confirm no more NaNs in 'Class'\n",
        "print(\"Missing values in 'Class' column after dropping rows:\", data['Class'].isnull().sum())"
      ],
      "metadata": {
        "id": "hrJRkagT7qXe"
      },
      "execution_count": null,
      "outputs": []
    },
    {
      "cell_type": "code",
      "source": [
        "# Normalize 'Time' and 'Amount' using StandardScaler\n",
        "scaler = StandardScaler()\n",
        "data['NormalizedTime'] = scaler.fit_transform(data[['Time']])\n",
        "data['NormalizedAmount'] = scaler.fit_transform(data[['Amount']])\n",
        "data.drop(['Time', 'Amount'], axis=1, inplace=True)"
      ],
      "metadata": {
        "id": "e9m4rk2K7sa4"
      },
      "execution_count": null,
      "outputs": []
    },
    {
      "cell_type": "code",
      "source": [
        "# Split the dataset\n",
        "X = data.drop('Class', axis=1)\n",
        "y = data['Class']\n",
        "X_train, X_test, y_train, y_test = train_test_split(X, y, test_size=0.2, random_state=42, stratify=y)"
      ],
      "metadata": {
        "id": "N-NJRq5t7twu"
      },
      "execution_count": null,
      "outputs": []
    },
    {
      "cell_type": "markdown",
      "source": [
        "#### Data Augmentation with Geometric Distribution Masks"
      ],
      "metadata": {
        "id": "8jpJjtqs7vwO"
      }
    },
    {
      "cell_type": "code",
      "source": [
        "def apply_geometric_mask(data, mask_prob=0.1):\n",
        "    mask = np.random.geometric(p=mask_prob, size=data.shape)\n",
        "    masked_data = np.where(mask > 1, data, 0)  # Apply mask where mask > 1\n",
        "    return masked_data\n",
        "\n",
        "# Apply masks to the training data\n",
        "X_train_masked = apply_geometric_mask(X_train.values)"
      ],
      "metadata": {
        "id": "_-MQYSoq7uHy"
      },
      "execution_count": null,
      "outputs": []
    },
    {
      "cell_type": "markdown",
      "source": [
        "#### Transformer-Based Autoencoder"
      ],
      "metadata": {
        "id": "x77U8vU774QS"
      }
    },
    {
      "cell_type": "code",
      "source": [
        "class TransformerAutoencoder(nn.Module):\n",
        "    def __init__(self, input_size, feature_size=256, num_heads=4, num_layers=1, forward_expansion=4, dropout=0.1):\n",
        "        super(TransformerAutoencoder, self).__init__()\n",
        "        # Ensure feature_size is a multiple of num_heads\n",
        "        assert feature_size % num_heads == 0, \"feature_size must be divisible by num_heads\"\n",
        "\n",
        "        self.embedding = nn.Linear(input_size, feature_size)  # Adjust input feature size to transformer feature size\n",
        "        encoder_layer = nn.TransformerEncoderLayer(\n",
        "            d_model=feature_size,\n",
        "            nhead=num_heads,\n",
        "            dim_feedforward=feature_size * forward_expansion,\n",
        "            dropout=dropout,\n",
        "            batch_first=True\n",
        "        )\n",
        "        self.encoder = nn.TransformerEncoder(encoder_layer, num_layers=num_layers)\n",
        "        decoder_layer = nn.TransformerDecoderLayer(\n",
        "            d_model=feature_size,\n",
        "            nhead=num_heads,\n",
        "            dim_feedforward=feature_size * forward_expansion,\n",
        "            dropout=dropout,\n",
        "            batch_first=True\n",
        "        )\n",
        "        self.decoder = nn.TransformerDecoder(decoder_layer, num_layers=num_layers)\n",
        "        self.output_layer = nn.Linear(feature_size, input_size)  # Map back to the original input size\n",
        "\n",
        "    def forward(self, src):\n",
        "        src = self.embedding(src)  # Embed input features\n",
        "        encoded = self.encoder(src)\n",
        "        decoded = self.decoder(encoded, encoded)\n",
        "        output = self.output_layer(decoded)  # Map back to original feature space\n",
        "        return output\n",
        "\n",
        "# Use this to initialize your model\n",
        "input_size = X_train.shape[1]\n",
        "feature_size = 256  # Choose a feature size that is a multiple of num_heads\n",
        "num_heads = 4\n",
        "model = TransformerAutoencoder(input_size, feature_size, num_heads).to(device)"
      ],
      "metadata": {
        "id": "dtjWfqxj70up"
      },
      "execution_count": null,
      "outputs": []
    },
    {
      "cell_type": "code",
      "source": [
        "# Assuming X_train_masked and y_train are already defined and appropriately processed\n",
        "train_dataset = TensorDataset(torch.tensor(X_train_masked, dtype=torch.float32), torch.tensor(y_train.values, dtype=torch.float32))\n",
        "train_loader = DataLoader(train_dataset, batch_size=32, shuffle=True)\n",
        "import torch.optim as optim\n",
        "\n",
        "criterion = nn.MSELoss()  # For reconstruction loss\n",
        "optimizer = optim.Adam(model.parameters(), lr=0.001)\n",
        "\n",
        "epoch_losses = []\n",
        "\n",
        "def train_model(model, train_loader, criterion, optimizer, epochs=10):\n",
        "    model.train()\n",
        "    for epoch in range(epochs):\n",
        "        total_loss = 0\n",
        "        for data, _ in train_loader:  # Labels are not used during training\n",
        "            data = data.to(device)\n",
        "            optimizer.zero_grad()\n",
        "            outputs = model(data)\n",
        "            loss = criterion(outputs, data)\n",
        "            loss.backward()\n",
        "            optimizer.step()\n",
        "            total_loss += loss.item()\n",
        "            avg_loss=total_loss / len(train_loader)\n",
        "            epoch_losses.append(avg_loss)\n",
        "        print(f'Epoch {epoch+1}, Average Loss: {avg_loss}')\n",
        "\n",
        "train_model(model, train_loader, criterion, optimizer)"
      ],
      "metadata": {
        "id": "qlHJ1sBV77p3"
      },
      "execution_count": null,
      "outputs": []
    },
    {
      "cell_type": "code",
      "source": [
        "# Plotting the training losses\n",
        "plt.figure(figsize=(10, 5))\n",
        "plt.plot(epoch_losses, marker='o', linestyle='-')\n",
        "plt.title('Training Loss Per Epoch')\n",
        "plt.xlabel('Epoch')\n",
        "plt.ylabel('Loss')\n",
        "plt.grid(True)\n",
        "plt.show()"
      ],
      "metadata": {
        "id": "srTeE9gv782f"
      },
      "execution_count": null,
      "outputs": []
    },
    {
      "cell_type": "markdown",
      "source": [
        "#### GAN"
      ],
      "metadata": {
        "id": "omA3_2mh8L46"
      }
    },
    {
      "cell_type": "code",
      "source": [
        "class Discriminator(nn.Module):\n",
        "    def __init__(self, input_dim):\n",
        "        super(Discriminator, self).__init__()\n",
        "        self.fc1 = nn.Linear(input_dim, 128)\n",
        "        self.fc2 = nn.Linear(128, 64)\n",
        "        self.fc3 = nn.Linear(64, 1)\n",
        "        self.relu = nn.ReLU()\n",
        "        self.sigmoid = nn.Sigmoid()\n",
        "\n",
        "    def forward(self, x):\n",
        "        x = self.relu(self.fc1(x))\n",
        "        x = self.relu(self.fc2(x))\n",
        "        x = self.sigmoid(self.fc3(x))\n",
        "        return x\n",
        "\n",
        "class Generator(nn.Module):\n",
        "    def __init__(self, autoencoder_model):\n",
        "        super(Generator, self).__init__()\n",
        "        self.autoencoder = autoencoder_model\n",
        "\n",
        "    def forward(self, x):\n",
        "        return self.autoencoder(x)"
      ],
      "metadata": {
        "id": "hF6Sk8-u8NZV"
      },
      "execution_count": null,
      "outputs": []
    },
    {
      "cell_type": "markdown",
      "source": [
        "#### Contrastive Loss for Anomoly Detection"
      ],
      "metadata": {
        "id": "DTNQShAv8RUL"
      }
    },
    {
      "cell_type": "code",
      "source": [
        "class ContrastiveLoss(nn.Module):\n",
        "    def __init__(self, margin=1.0):\n",
        "        super(ContrastiveLoss, self).__init__()\n",
        "        self.margin = margin\n",
        "\n",
        "    def forward(self, output, target, label):\n",
        "        euclidean_distance = torch.nn.functional.pairwise_distance(output, target)\n",
        "        loss_contrastive = torch.mean((1-label) * torch.pow(euclidean_distance, 2) +\n",
        "                                      (label) * torch.pow(torch.clamp(self.margin - euclidean_distance, min=0.0), 2))\n",
        "        return loss_contrastive"
      ],
      "metadata": {
        "id": "VUHkauRj8SLk"
      },
      "execution_count": null,
      "outputs": []
    },
    {
      "cell_type": "markdown",
      "source": [
        "#### Train GAN alongside with AutoEncoder"
      ],
      "metadata": {
        "id": "ktzC2hUY8U8k"
      }
    },
    {
      "cell_type": "code",
      "source": [
        "def train_gan_autoencoder(autoencoder, generator, discriminator, data_loader, epochs=10):\n",
        "    # Optimizers\n",
        "    optimizer_G = torch.optim.Adam(generator.parameters(), lr=0.001)\n",
        "    optimizer_D = torch.optim.Adam(discriminator.parameters(), lr=0.001)\n",
        "    optimizer_AE = torch.optim.Adam(autoencoder.parameters(), lr=0.001)\n",
        "\n",
        "    adversarial_loss = torch.nn.BCELoss()\n",
        "\n",
        "    for epoch in range(epochs):\n",
        "        for i, (imgs, _) in enumerate(data_loader):\n",
        "\n",
        "            valid = torch.ones(imgs.size(0), 1, device=device, dtype=torch.float32)\n",
        "            fake = torch.zeros(imgs.size(0), 1, device=device, dtype=torch.float32)\n",
        "\n",
        "            # -----------------\n",
        "            #  Train Generator\n",
        "            # -----------------\n",
        "            optimizer_G.zero_grad()\n",
        "            z = torch.randn(imgs.shape[0], imgs.shape[1], device=device)\n",
        "            gen_imgs = generator(z)\n",
        "            g_loss = adversarial_loss(discriminator(gen_imgs), valid)\n",
        "            g_loss.backward()\n",
        "            optimizer_G.step()\n",
        "\n",
        "            # ---------------------\n",
        "            #  Train Discriminator\n",
        "            # ---------------------\n",
        "            optimizer_D.zero_grad()\n",
        "            real_loss = adversarial_loss(discriminator(imgs), valid)\n",
        "            fake_loss = adversarial_loss(discriminator(gen_imgs.detach()), fake)\n",
        "            d_loss = (real_loss + fake_loss) / 2\n",
        "            d_loss.backward()\n",
        "            optimizer_D.step()\n",
        "\n",
        "            # ---------------------\n",
        "            #  Train Autoencoder\n",
        "            # ---------------------\n",
        "            optimizer_AE.zero_grad()\n",
        "            reconstructed_imgs = autoencoder(imgs)\n",
        "            ae_loss = torch.nn.functional.mse_loss(reconstructed_imgs, imgs)\n",
        "            ae_loss.backward()\n",
        "            optimizer_AE.step()\n",
        "\n",
        "            print(\"[Epoch %d/%d] [Batch %d/%d] [D loss: %f] [G loss: %f] [AE loss: %f]\" %\n",
        "                  (epoch, epochs, i, len(data_loader), d_loss.item(), g_loss.item(), ae_loss.item()))"
      ],
      "metadata": {
        "id": "iIDYe8418VyZ"
      },
      "execution_count": null,
      "outputs": []
    },
    {
      "cell_type": "code",
      "source": [
        "# Device setup: CUDA or CPU\n",
        "device = torch.device(\"cuda\" if torch.cuda.is_available() else \"cpu\")\n",
        "\n",
        "# Corrected input size\n",
        "input_dim = 30  # Based on the shape of the data in your DataLoader\n",
        "\n",
        "# Initialize models with correct input dimension\n",
        "autoencoder_model = AutoencoderWithTransformer(input_size=input_dim, hidden_size=64, num_enc_layers=2, num_heads=1)\n",
        "generator = Generator(autoencoder_model)\n",
        "discriminator = Discriminator(input_dim=input_dim)\n",
        "\n",
        "# Move models to the appropriate device\n",
        "autoencoder_model.to(device)\n",
        "generator.to(device)\n",
        "discriminator.to(device)\n",
        "\n",
        "# Data loader (assuming X_train_masked and y_train are available)\n",
        "train_loader = DataLoader(TensorDataset(torch.tensor(X_train_masked, dtype=torch.float32),\n",
        "                                        torch.tensor(y_train.values, dtype=torch.float32)),\n",
        "                          batch_size=32, shuffle=True)\n",
        "\n",
        "# Call the training function with the correct input size for discriminator\n",
        "train_gan_autoencoder(autoencoder=autoencoder_model,\n",
        "                      generator=generator,\n",
        "                      discriminator=discriminator,\n",
        "                      data_loader=train_loader,\n",
        "                      epochs=10)  # Adjust the number of epochs as needed"
      ],
      "metadata": {
        "id": "VDCUlmlE8Zdk"
      },
      "execution_count": null,
      "outputs": []
    },
    {
      "cell_type": "code",
      "source": [],
      "metadata": {
        "id": "QARRYvNj8yaA"
      },
      "execution_count": null,
      "outputs": []
    },
    {
      "cell_type": "markdown",
      "source": [
        "## TimeEval"
      ],
      "metadata": {
        "id": "rewK6FB-BKa3"
      }
    },
    {
      "cell_type": "code",
      "source": [
        "pip install TimeEval"
      ],
      "metadata": {
        "id": "L28uvyCHBMo0"
      },
      "execution_count": null,
      "outputs": []
    },
    {
      "cell_type": "code",
      "source": [
        "from pathlib import Path\n",
        "from typing import Dict, Any\n",
        "\n",
        "import numpy as np\n",
        "\n",
        "from timeeval import TimeEval, DatasetManager, Algorithm, TrainingType, InputDimensionality\n",
        "from timeeval.adapters import FunctionAdapter\n",
        "from timeeval.algorithms import subsequence_if\n",
        "from timeeval.params import FixedParameters\n",
        "\n",
        "# Load dataset metadata\n",
        "dm = DatasetManager(Path(\"tests/example_data\"), create_if_missing=False)\n",
        "\n",
        "\n",
        "# Define algorithm\n",
        "def my_algorithm(data: np.ndarray, args: Dict[str, Any]) -> np.ndarray:\n",
        "    score_value = args.get(\"score_value\", 0)\n",
        "    return np.full_like(data, fill_value=score_value)\n",
        "\n",
        "\n",
        "# Select datasets and algorithms\n",
        "datasets = dm.select()\n",
        "datasets = datasets[-1:]\n",
        "# Add algorithms to evaluate...\n",
        "algorithms = [\n",
        "    Algorithm(\n",
        "        name=\"MyAlgorithm\",\n",
        "        main=FunctionAdapter(my_algorithm),\n",
        "        data_as_file=False,\n",
        "        training_type=TrainingType.UNSUPERVISED,\n",
        "        input_dimensionality=InputDimensionality.UNIVARIATE,\n",
        "        param_config=FixedParameters({\"score_value\": 1.})\n",
        "    ),\n",
        "    subsequence_if(params=FixedParameters({\"n_trees\": 50}))\n",
        "]\n",
        "timeeval = TimeEval(dm, datasets, algorithms)\n",
        "\n",
        "# execute evaluation\n",
        "timeeval.run()\n",
        "# retrieve results\n",
        "print(timeeval.get_results())"
      ],
      "metadata": {
        "id": "2gRJBS3EBNYs"
      },
      "execution_count": null,
      "outputs": []
    },
    {
      "cell_type": "markdown",
      "source": [
        "## DS-Lab-II"
      ],
      "metadata": {
        "id": "d1tJNlIcBxTd"
      }
    },
    {
      "cell_type": "code",
      "source": [
        "import pandas as pd\n",
        "import numpy as np\n",
        "import matplotlib.pyplot as plt\n",
        "import seaborn as sns\n",
        "from sklearn.preprocessing import MinMaxScaler\n",
        "from sklearn.preprocessing import OneHotEncoder\n",
        "from scipy.spatial.distance import euclidean\n",
        "from joblib import Parallel, delayed\n",
        "from fastdtw import fastdtw\n",
        "from sklearn.model_selection import train_test_split\n",
        "from tensorflow.keras.models import Sequential\n",
        "from tensorflow.keras.layers import LSTM, Dense, Dropout\n",
        "from tensorflow import keras\n",
        "import tensorflow as tf\n",
        "from sklearn.metrics import confusion_matrix, precision_score, recall_score, f1_score, roc_curve, roc_auc_score,accuracy_score,classification_report"
      ],
      "metadata": {
        "id": "VE-p3L62CB1a"
      },
      "execution_count": null,
      "outputs": []
    },
    {
      "cell_type": "code",
      "source": [
        "from google.colab import drive\n",
        "drive.mount('/content/drive/')"
      ],
      "metadata": {
        "id": "V_cNzb_9CUd-"
      },
      "execution_count": null,
      "outputs": []
    },
    {
      "cell_type": "code",
      "source": [
        "attack_df = pd.read_csv('/content/drive/My Drive/swat/SWaT_Dataset_Normal_v0.csv')\n",
        "normal_df = pd.read_csv('/content/drive/My Drive/swat/SWaT_Dataset_Attack_v0.csv')"
      ],
      "metadata": {
        "id": "OoaaVM_LCdCt"
      },
      "execution_count": null,
      "outputs": []
    },
    {
      "cell_type": "code",
      "source": [
        "# Combine the datasets\n",
        "combined_df = pd.concat([normal_df, attack_df], ignore_index=True)"
      ],
      "metadata": {
        "id": "YoHNRByhGQrN"
      },
      "execution_count": null,
      "outputs": []
    },
    {
      "cell_type": "code",
      "source": [
        "print(combined_df.shape)\n",
        "combined_df.head()"
      ],
      "metadata": {
        "id": "sKgeB7Z9GUHf"
      },
      "execution_count": null,
      "outputs": []
    },
    {
      "cell_type": "code",
      "source": [
        "combined_df['Normal/Attack'].unique()"
      ],
      "metadata": {
        "id": "wJ9NmMu7GV71"
      },
      "execution_count": null,
      "outputs": []
    },
    {
      "cell_type": "code",
      "source": [
        "combined_df.info()"
      ],
      "metadata": {
        "id": "TSC9pFHSGXil"
      },
      "execution_count": null,
      "outputs": []
    },
    {
      "cell_type": "code",
      "source": [
        "combined_df['Normal/Attack'] = combined_df['Normal/Attack'].str.replace(' ', '')"
      ],
      "metadata": {
        "id": "egShBjn3GZAe"
      },
      "execution_count": null,
      "outputs": []
    },
    {
      "cell_type": "code",
      "source": [
        "combined_df['Normal/Attack'].unique()"
      ],
      "metadata": {
        "id": "9GtvK2KXGaP_"
      },
      "execution_count": null,
      "outputs": []
    },
    {
      "cell_type": "code",
      "source": [
        "class_distribution = combined_df['Normal/Attack'].value_counts()"
      ],
      "metadata": {
        "id": "1B445js6Gb8B"
      },
      "execution_count": null,
      "outputs": []
    },
    {
      "cell_type": "code",
      "source": [
        "plt.figure(figsize=(4, 4))\n",
        "plt.pie(class_distribution, labels=class_distribution.index, explode=[0, 0.2], autopct='%1.1f%%', colors=['g', 'r'])\n",
        "plt.title('Distribution: Attack vs Normal')\n",
        "plt.show()"
      ],
      "metadata": {
        "id": "EK14q5DxGdPF"
      },
      "execution_count": null,
      "outputs": []
    },
    {
      "cell_type": "code",
      "source": [
        "combined_df['Timestamp'] = combined_df['Timestamp'].str.strip()\n",
        "\n",
        "try:\n",
        "    combined_df['Timestamp'] = pd.to_datetime(combined_df['Timestamp'], format='%d/%m/%Y %I:%M:%S %p')\n",
        "except ValueError:\n",
        "    combined_df['Timestamp'] = pd.to_datetime(combined_df['Timestamp'], infer_datetime_format=True, dayfirst=True)"
      ],
      "metadata": {
        "id": "lbznrznGGflv"
      },
      "execution_count": null,
      "outputs": []
    },
    {
      "cell_type": "code",
      "source": [
        "combined_df = combined_df.set_index('Timestamp')"
      ],
      "metadata": {
        "id": "zh4mWdqOGg-_"
      },
      "execution_count": null,
      "outputs": []
    },
    {
      "cell_type": "code",
      "source": [
        "combined_df.head()"
      ],
      "metadata": {
        "id": "JOIaPzrZGiNp"
      },
      "execution_count": null,
      "outputs": []
    },
    {
      "cell_type": "code",
      "source": [
        "attack_data = combined_df[combined_df['Normal/Attack'] == 'Attack']"
      ],
      "metadata": {
        "id": "X345MCJCGjmJ"
      },
      "execution_count": null,
      "outputs": []
    },
    {
      "cell_type": "code",
      "source": [
        "# List of all sensors and actuators in the first stage\n",
        "first_stage_features = ['FIT101', 'LIT101', 'MV101', 'P101', 'P102', 'AIT201']\n",
        "\n",
        "# Number of features\n",
        "num_features = len(first_stage_features)\n",
        "\n",
        "# Create subplots\n",
        "fig, axes = plt.subplots(num_features, 1, figsize=(12, 2 * num_features), sharex=True)\n",
        "\n",
        "# Plot each feature in a separate subplot\n",
        "for i, feature in enumerate(first_stage_features):\n",
        "    axes[i].plot(combined_df.index, combined_df[feature], label=feature)\n",
        "    axes[i].scatter(attack_data.index, attack_data[feature], color='red', marker='x', label='Attack')\n",
        "    axes[i].set_ylabel(feature)\n",
        "    axes[i].legend()\n",
        "\n",
        "plt.xlabel('Timestamp')\n",
        "plt.suptitle('Subplots with Attack Markers for First-Stage Sensors and Actuators')\n",
        "plt.show()"
      ],
      "metadata": {
        "id": "kW3lBXWRGlMT"
      },
      "execution_count": null,
      "outputs": []
    },
    {
      "cell_type": "code",
      "source": [
        "combined_df.dropna(inplace=True)\n",
        "combined_df.drop_duplicates(inplace=True)\n",
        "\n",
        "combined_df.shape"
      ],
      "metadata": {
        "id": "pU1F8geDGnzs"
      },
      "execution_count": null,
      "outputs": []
    },
    {
      "cell_type": "code",
      "source": [
        "combined_df=combined_df.loc[:, combined_df.nunique() > 1]"
      ],
      "metadata": {
        "id": "iMs0LLywGpBk"
      },
      "execution_count": null,
      "outputs": []
    },
    {
      "cell_type": "code",
      "source": [
        "combined_df.loc[:, 'Normal/Attack'] = combined_df['Normal/Attack'].apply(lambda x: 1 if x == 'Attack' else 0)"
      ],
      "metadata": {
        "id": "ccRPkcxeGqVB"
      },
      "execution_count": null,
      "outputs": []
    },
    {
      "cell_type": "code",
      "source": [
        "combined_df.head()"
      ],
      "metadata": {
        "id": "61slOS1UGrUQ"
      },
      "execution_count": null,
      "outputs": []
    },
    {
      "cell_type": "code",
      "source": [
        "X = combined_df.drop('Normal/Attack', axis=1)\n",
        "y= combined_df['Normal/Attack']\n",
        "y = y.reset_index(drop=True)"
      ],
      "metadata": {
        "id": "OSe27nfyGs99"
      },
      "execution_count": null,
      "outputs": []
    },
    {
      "cell_type": "code",
      "source": [
        "# Saparate Numerical and categorical features\n",
        "numerical_features = []\n",
        "categorical_features = []\n",
        "\n",
        "for column in X.columns:\n",
        "    unique_values = X[column].nunique()\n",
        "    if unique_values > 10:\n",
        "        numerical_features.append(column)\n",
        "    else:\n",
        "        categorical_features.append(column)"
      ],
      "metadata": {
        "id": "y7YhIzcSGvR7"
      },
      "execution_count": null,
      "outputs": []
    },
    {
      "cell_type": "code",
      "source": [
        "print(\"Numerical Features:\", numerical_features)\n",
        "print(\"Categorical Features:\", categorical_features)"
      ],
      "metadata": {
        "id": "i-LfFVGOGw5w"
      },
      "execution_count": null,
      "outputs": []
    },
    {
      "cell_type": "code",
      "source": [
        "numerical_data = combined_df[numerical_features]\n",
        "categorical_data = combined_df[categorical_features]\n",
        "\n",
        "# Min-Max scaling for numerical features\n",
        "scaler = MinMaxScaler()\n",
        "numerical_data_scaled = scaler.fit_transform(numerical_data)\n",
        "numerical_data_scaled_df = pd.DataFrame(numerical_data_scaled, columns=numerical_data.columns)"
      ],
      "metadata": {
        "id": "T6ubGDSmGyR0"
      },
      "execution_count": null,
      "outputs": []
    },
    {
      "cell_type": "code",
      "source": [
        "# One-hot encoding for categorical features\n",
        "encoder = OneHotEncoder(drop='first', sparse_output=False)\n",
        "encoder.fit(categorical_data)\n",
        "\n",
        "categorical_feature_names = encoder.get_feature_names_out(categorical_data.columns)\n",
        "categorical_data_encoded = encoder.transform(categorical_data)\n",
        "categorical_data_encoded_df = pd.DataFrame(categorical_data_encoded, columns=categorical_feature_names)"
      ],
      "metadata": {
        "id": "E-ACKFnDGzyS"
      },
      "execution_count": null,
      "outputs": []
    },
    {
      "cell_type": "code",
      "source": [
        "preprocessed_data = pd.concat([numerical_data_scaled_df, categorical_data_encoded_df,y], axis=1)"
      ],
      "metadata": {
        "id": "eLjA7tiYG1Qi"
      },
      "execution_count": null,
      "outputs": []
    },
    {
      "cell_type": "code",
      "source": [
        "preprocessed_data.head()"
      ],
      "metadata": {
        "id": "jUIbOyMTG2Uk"
      },
      "execution_count": null,
      "outputs": []
    },
    {
      "cell_type": "code",
      "source": [
        "# Saving preprocessed data to a local drive\n",
        "preprocessed_data.to_csv('/content/drive/My Drive/swat/preprocessed_data.csv', index=False)"
      ],
      "metadata": {
        "id": "CajWdfHNG3v3"
      },
      "execution_count": null,
      "outputs": []
    },
    {
      "cell_type": "code",
      "source": [
        "SWAT_prep = pd.read_csv('/content/drive/My Drive/swat/preprocessed_data.csv')"
      ],
      "metadata": {
        "id": "36OVGos9G4ur"
      },
      "execution_count": null,
      "outputs": []
    },
    {
      "cell_type": "code",
      "source": [
        "sensors=['FIT101','LIT101']"
      ],
      "metadata": {
        "id": "P4v-T8eyG5yN"
      },
      "execution_count": null,
      "outputs": []
    },
    {
      "cell_type": "code",
      "source": [
        "X=SWAT_prep"
      ],
      "metadata": {
        "id": "mU-tODaGG7Fi"
      },
      "execution_count": null,
      "outputs": []
    },
    {
      "cell_type": "code",
      "source": [
        "SWAT_prep"
      ],
      "metadata": {
        "id": "0bF3uJwpG77H"
      },
      "execution_count": null,
      "outputs": []
    },
    {
      "cell_type": "code",
      "source": [
        "sampled_data = X.sample(n=3000, random_state=42)\n",
        "sampled_data = sampled_data.astype(np.float64)"
      ],
      "metadata": {
        "id": "_DKOi-ZgG9TF"
      },
      "execution_count": null,
      "outputs": []
    },
    {
      "cell_type": "code",
      "source": [
        "sampled_data_dtw=sampled_data[sensors]"
      ],
      "metadata": {
        "id": "Q3G5nSPyG-qr"
      },
      "execution_count": null,
      "outputs": []
    },
    {
      "cell_type": "code",
      "source": [
        "sampled_data_dtw"
      ],
      "metadata": {
        "id": "xSswmFAaG_nR"
      },
      "execution_count": null,
      "outputs": []
    },
    {
      "cell_type": "code",
      "source": [
        "dtw_columns = sampled_data.columns"
      ],
      "metadata": {
        "id": "XAofhOLdHA3B"
      },
      "execution_count": null,
      "outputs": []
    },
    {
      "cell_type": "code",
      "source": [
        "def calculate_dtw_distance(s1, s2):\n",
        "    distance, _ = fastdtw(s1, s2)\n",
        "    return distance"
      ],
      "metadata": {
        "id": "9i9P4EyNHCO0"
      },
      "execution_count": null,
      "outputs": []
    },
    {
      "cell_type": "code",
      "source": [
        "def calculate_dtw_parallel(row, df, dtw_columns):\n",
        "    current_seq = row[dtw_columns].values.flatten()\n",
        "    distances = []\n",
        "\n",
        "    for idx, r in df.iterrows():\n",
        "        if row.name != idx:\n",
        "            compared_seq = r[dtw_columns].values.flatten()\n",
        "            distance = calculate_dtw_distance(current_seq, compared_seq)\n",
        "            distances.append(distance)\n",
        "\n",
        "    min_distance = min(distances) if distances else None\n",
        "    return min_distance"
      ],
      "metadata": {
        "id": "juGABbtRHDZg"
      },
      "execution_count": null,
      "outputs": []
    },
    {
      "cell_type": "code",
      "source": [
        "num_cores = -1\n",
        "dtw_distances = Parallel(n_jobs=num_cores)(\n",
        "    delayed(calculate_dtw_parallel)(row, sampled_data, dtw_columns) for _, row in sampled_data.iterrows())"
      ],
      "metadata": {
        "id": "ht57B4CbHErE"
      },
      "execution_count": null,
      "outputs": []
    },
    {
      "cell_type": "code",
      "source": [
        "sampled_data['dtw_distances'] = dtw_distances"
      ],
      "metadata": {
        "id": "oh9nmkUpHFzt"
      },
      "execution_count": null,
      "outputs": []
    },
    {
      "cell_type": "code",
      "source": [
        "# Save sampled_data + dtw distances to drive\n",
        "sampled_data.to_csv('/content/drive/My Drive/swat/dtw_sampled_data.csv', index=False)"
      ],
      "metadata": {
        "id": "t39u7rUEHG7U"
      },
      "execution_count": null,
      "outputs": []
    },
    {
      "cell_type": "code",
      "source": [
        "sampled_data.head(3)"
      ],
      "metadata": {
        "id": "trg5yrVgHIH9"
      },
      "execution_count": null,
      "outputs": []
    },
    {
      "cell_type": "code",
      "source": [
        "sampled_data.columns"
      ],
      "metadata": {
        "id": "yHQOjo5dHJRV"
      },
      "execution_count": null,
      "outputs": []
    },
    {
      "cell_type": "code",
      "source": [
        "sampled_data = pd.read_csv('/content/drive/My Drive/swat/dtw_sampled_data.csv')"
      ],
      "metadata": {
        "id": "jsqfKrneHKjo"
      },
      "execution_count": null,
      "outputs": []
    },
    {
      "cell_type": "markdown",
      "source": [
        "#### LSTM with DTW"
      ],
      "metadata": {
        "id": "8MSCpjLIHMQ2"
      }
    },
    {
      "cell_type": "code",
      "source": [
        "counts = sampled_data['Normal/Attack'].value_counts()\n",
        "print(counts)"
      ],
      "metadata": {
        "id": "EZ3W36RTHM1B"
      },
      "execution_count": null,
      "outputs": []
    },
    {
      "cell_type": "code",
      "source": [
        "X_sampled=sampled_data #with DTW\n",
        "y_sampled=X_sampled['Normal/Attack']"
      ],
      "metadata": {
        "id": "Yn7n-5MoHPEO"
      },
      "execution_count": null,
      "outputs": []
    },
    {
      "cell_type": "code",
      "source": [],
      "metadata": {
        "id": "7t1iHdvCNcIz"
      },
      "execution_count": null,
      "outputs": []
    },
    {
      "cell_type": "code",
      "source": [],
      "metadata": {
        "id": "M4BzwQ2ZNcG8"
      },
      "execution_count": null,
      "outputs": []
    },
    {
      "cell_type": "code",
      "source": [
        "\n"
      ],
      "metadata": {
        "id": "kQE4o_XbOjml"
      },
      "execution_count": null,
      "outputs": []
    },
    {
      "cell_type": "code",
      "source": [
        "# Загрузка файла TSV в DataFrame\n",
        "df = pd.read_csv('/content/metrics_collector.tsv')\n",
        "\n",
        "# Вывод содержимого DataFrame\n",
        "print(df)"
      ],
      "metadata": {
        "id": "GagIbKz8MNiq"
      },
      "execution_count": null,
      "outputs": []
    },
    {
      "cell_type": "code",
      "source": [
        "df.shape"
      ],
      "metadata": {
        "id": "1ITutpvDN6g4"
      },
      "execution_count": null,
      "outputs": []
    },
    {
      "cell_type": "code",
      "source": [
        "df.rename(columns={'1\\tAgentCheck/CircuitBreaker/tripped/all\\t2024-04-15 23:32:00\\t0\\t0\\t0\\t0\\t0\\t0\\t1\\tjava\\t[GMonit] Collector\\t17592186045423\\t\\t575f5ba20b4b\\t575f5ba20b4b\\t1\\t8.5.0\\t{}': 'data'}, inplace=True)"
      ],
      "metadata": {
        "id": "Zrlv92m1OGcv"
      },
      "execution_count": null,
      "outputs": []
    },
    {
      "cell_type": "code",
      "source": [
        "df.columns"
      ],
      "metadata": {
        "id": "GjZXB9WQNcrX"
      },
      "execution_count": null,
      "outputs": []
    },
    {
      "cell_type": "code",
      "source": [
        "# Предположим, что df - это ваш DataFrame и он уже содержит данные\n",
        "df['your_column'] = df['your_column'].str.replace('1\\\\tDatastore/Redis/all\\\\t', '', regex=True)\n"
      ],
      "metadata": {
        "id": "pwIwoEbSMwYq"
      },
      "execution_count": null,
      "outputs": []
    }
  ]
}